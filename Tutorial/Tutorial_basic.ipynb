{
 "cells": [
  {
   "cell_type": "markdown",
   "metadata": {},
   "source": [
    "# Basic Tutorial"
   ]
  },
  {
   "cell_type": "markdown",
   "metadata": {},
   "source": [
    "The main code of COBY was created independently from insane, but the lipid, solvent and protein definitions used in insane have been converted to the new COBY data format.\n",
    "\n",
    "The program is under active development. Please report any bugs here: https://github.com/MikkelDA/COBY/issues."
   ]
  },
  {
   "cell_type": "code",
   "execution_count": null,
   "metadata": {
    "ExecuteTime": {
     "end_time": "2024-07-12T08:38:58.971599Z",
     "start_time": "2024-07-12T08:38:54.809704Z"
    }
   },
   "outputs": [],
   "source": [
    "import time\n",
    "import sys\n",
    "import os\n",
    "# sys.path.append(\"PATH/TO/YOUR/COBY\")\n",
    "import COBY"
   ]
  },
  {
   "cell_type": "markdown",
   "metadata": {
    "heading_collapsed": true
   },
   "source": [
    "# General Command Explanation"
   ]
  },
  {
   "cell_type": "markdown",
   "metadata": {
    "hidden": true
   },
   "source": [
    "This example shows how to create a simple system containing a POPC membrane with an embedded membrane protein and aqueous solvent with Na<sup>+</sup> and Cl<sup>-</sup> ions.\n",
    "\n",
    "The different arguments are explained below. Further explanations and modifications to the arguments will be covered in other examples.\n",
    "\n",
    "Note that COBY needs specification of at least one of the following arguments: ``membrane``, ``protein``, ``solvation`` or ``flooding`` (``flooding`` is covered in the Advanced Tutorial)."
   ]
  },
  {
   "cell_type": "markdown",
   "metadata": {
    "hidden": true
   },
   "source": [
    "<div>\n",
    "<!-- height argument does not work in jupyter for whatever reason. Can't find any help online. -->\n",
    "<img src=\"figures/GeneralCommandExplanation.png\" width=\"400px\"/>\n",
    "</div>"
   ]
  },
  {
   "cell_type": "code",
   "execution_count": null,
   "metadata": {
    "ExecuteTime": {
     "end_time": "2024-07-12T08:39:00.451908Z",
     "start_time": "2024-07-12T08:38:58.974981Z"
    },
    "hidden": true,
    "scrolled": false
   },
   "outputs": [],
   "source": [
    "sysname = \"GeneralCommandExplanation\"\n",
    "outdir = os.path.join(\"output_systems\", sysname)\n",
    "os.makedirs(outdir, exist_ok=True)\n",
    "\n",
    "COBY.COBY(\n",
    "    ### randseed is used to set the random seed, in case you want to keep making the same system\n",
    "    randseed = 1,\n",
    "    \n",
    "    ### Designates box size\n",
    "    ### box = [x, y, z]\n",
    "    box = [10, 10, 10], # [nm]\n",
    "    \n",
    "    ### Designates box type\n",
    "    box_type = \"rectangular\", # default (other options: hexagonal, dodecahedron)\n",
    "    \n",
    "    ### 'membrane' argument creates a single membrane consisting of POPC lipids\n",
    "    ### The membrane spans the x/y-plane with its middle at the center of the z-axis\n",
    "    membrane = \"lipid:POPC\",\n",
    "    \n",
    "    ### 'protein' argument inserts a single protein at the center of the system\n",
    "    ### Note that \"moleculetypes:8BB6_CG\" designates the topology name for the protein, which should be included under itp_input\n",
    "    ### If \"moleculetypes\" is not included, then charges will be estimated from an in-built charge library that reads residue names\n",
    "    protein = \"file:example_proteins/8BB6_martinized.pdb moleculetypes:8BB6_CG\",\n",
    "    \n",
    "    ### 'solvation' argument solvates the system using the default solvation settings of \"solv:W pos:NA neg:CL\"\n",
    "    ### The default concentration of water is 55.56 [mol/L] (\"solv_molarity:55.56\")\n",
    "    ### The default salt concentration is 0.15 [mol/L] (\"salt_molarity:0.15\")\n",
    "    solvation = \"default\",\n",
    "    \n",
    "    ### Uses topologies found in \"toppar/top_for_COBY.itp\" for charge determination\n",
    "    ### Also include the topology file specifically for the protein\n",
    "    itp_input = [\n",
    "        \"file:toppar/top_for_COBY.itp\",\n",
    "        \"include:toppar/SugarTransporter/8BB6_martinized.itp\",\n",
    "    ],\n",
    "    \n",
    "    ### File writing\n",
    "    ### out_sys writes both a .pdb and .gro file if no file extension is given\n",
    "    out_sys = os.path.join(outdir, \"_\".join([\"output\", sysname])),\n",
    "    \n",
    "    ### out_top file takes the file from itp_input and updates it with the components of the built system\n",
    "    out_top = os.path.join(outdir, \"_\".join([\"topol\",  sysname]) + \".top\"),\n",
    "    \n",
    "    ### out_log writes a log file containing information about the COBY run\n",
    "    out_log = os.path.join(outdir, \"_\".join([\"log\",    sysname]) + \".log\"),\n",
    "    \n",
    "    ### Sets the verboseness of the terminal print\n",
    "    ### Larger value means more information. Smaller value means less information. 1 is default.\n",
    "    ### The verboseness value does not change what is written to the log file, as all information will always be contained there.\n",
    "    verbose = 1, # default\n",
    "    \n",
    "    ### Designates the system name that is written in .pdb, .gro and .top files\n",
    "    sn = sysname,\n",
    ")"
   ]
  },
  {
   "cell_type": "markdown",
   "metadata": {
    "heading_collapsed": true
   },
   "source": [
    "# Membranes 1: Change APL"
   ]
  },
  {
   "cell_type": "markdown",
   "metadata": {
    "hidden": true
   },
   "source": [
    "This example shows how to specify the area per lipid (APL) of a membrane. APL is a measure of lipid packing, meaning that lower APL values result in membranes that are packed more tightly together. Conversely, a bigger APL value results in less tightly packed membranes. \n",
    "\n",
    "The default APL in COBY is 0.6 nm<sup>2</sup>lipid<sup>-1</sup>. In this example, we change the APL to 0.5 nm<sup>2</sup>lipid<sup>-1</sup> to allow for more lipids to be placed within the membrane. The area of the x/y-plane is 100 nm<sup>2</sup> (10 nm * 10 nm).\n",
    "\n",
    "- The default APL of 0.6 nm<sup>2</sup>lipid<sup>-1</sup> would result in 167 lipids to be placed in each leaflet (100 nm<sup>2</sup> / 0.6 nm<sup>2</sup>lipid<sup>-1</sup>)\n",
    "\n",
    "- The new APL of 0.5 nm<sup>2</sup>lipid<sup>-1</sup> results in 200 lipids to be placed in each leaflet (100 nm<sup>2</sup> / 0.5 nm<sup>2</sup>lipid<sup>-1</sup>)\n"
   ]
  },
  {
   "cell_type": "markdown",
   "metadata": {
    "hidden": true
   },
   "source": [
    "<div>\n",
    "<!-- height argument does not work in jupyter for whatever reason. Can't find any help online. -->\n",
    "<img src=\"figures/Membranes1_ChangeAPL.png\" width=\"400px\"/>\n",
    "</div>"
   ]
  },
  {
   "cell_type": "code",
   "execution_count": null,
   "metadata": {
    "ExecuteTime": {
     "end_time": "2024-07-12T08:39:01.326924Z",
     "start_time": "2024-07-12T08:39:00.454972Z"
    },
    "hidden": true
   },
   "outputs": [],
   "source": [
    "sysname = \"Membranes1_ChangeAPL\"\n",
    "outdir = os.path.join(\"output_systems\", sysname)\n",
    "os.makedirs(outdir, exist_ok=True)\n",
    "\n",
    "COBY.COBY(\n",
    "    ### Designates box size\n",
    "    box = [10, 10, 10], # [nm]\n",
    "    \n",
    "    ### Creates a single membrane consisting of POPC\n",
    "    ### The area per lipid (APL) has been changed to 0.5 [nm^2/lipid]\n",
    "    membrane = \"lipid:POPC apl:0.5\",\n",
    "    \n",
    "    ### Solvates the system using the default solvation settings of \"solv:W pos:NA neg:CL\"\n",
    "    solvation = \"default\",\n",
    "    \n",
    "    ### Uses topologies found in \"toppar/top_for_COBY.itp\" for charge determination\n",
    "    itp_input = \"file:toppar/top_for_COBY.itp\",\n",
    "    \n",
    "    ### File writing\n",
    "    out_sys = os.path.join(outdir, \"_\".join([\"output\", sysname])),\n",
    "    out_top = os.path.join(outdir, \"_\".join([\"topol\",  sysname]) + \".top\"),\n",
    "    out_log = os.path.join(outdir, \"_\".join([\"log\",    sysname]) + \".log\"),\n",
    "    \n",
    "    ### Designates the system name that is written in .pdb, .gro and .top files\n",
    "    sn = sysname,\n",
    ")"
   ]
  },
  {
   "cell_type": "markdown",
   "metadata": {
    "heading_collapsed": true
   },
   "source": [
    "# Membranes 2: Complex Symmetric Membrane"
   ]
  },
  {
   "cell_type": "markdown",
   "metadata": {
    "hidden": true
   },
   "source": [
    "This example shows how to create a complex symmetric membrane.\n",
    "\n",
    "Here we create a single membrane composed of POPC, POPE and CHOL in a 8:4:3 ratio with the APL set to 0.5 nm<sup>2</sup>lipid<sup>-1</sup>."
   ]
  },
  {
   "cell_type": "markdown",
   "metadata": {
    "hidden": true
   },
   "source": [
    "<div>\n",
    "<!-- height argument does not work in jupyter for whatever reason. Can't find any help online. -->\n",
    "<img src=\"figures/Membranes2_ComplexSymmetricMembrane.png\" width=\"400px\"/>\n",
    "</div>"
   ]
  },
  {
   "cell_type": "code",
   "execution_count": null,
   "metadata": {
    "ExecuteTime": {
     "end_time": "2024-07-12T08:39:02.287356Z",
     "start_time": "2024-07-12T08:39:01.329159Z"
    },
    "hidden": true,
    "scrolled": true
   },
   "outputs": [],
   "source": [
    "sysname = \"Membranes2_ComplexSymmetricMembrane\"\n",
    "outdir = os.path.join(\"output_systems\", sysname)\n",
    "os.makedirs(outdir, exist_ok=True)\n",
    "\n",
    "COBY.COBY(\n",
    "    ### Designates box size\n",
    "    box = [10, 10, 10], # [nm]\n",
    "    \n",
    "    ### Creates a single membrane consisting of POPC\n",
    "    ### The numbers after the lipids indicate their respective ratios\n",
    "    membrane = \"lipid:POPC:8 lipid:POPE:4 lipid:CHOL:3 apl:0.5\",\n",
    "    \n",
    "    ### Solvates the system using the default solvation settings of \"solv:W pos:NA neg:CL\"\n",
    "    solvation = \"default\",\n",
    "    \n",
    "    ### Uses topologies found in \"toppar/top_for_COBY.itp\" for charge determination\n",
    "    itp_input = \"file:toppar/top_for_COBY.itp\",\n",
    "    \n",
    "    ### File writing\n",
    "    out_sys = os.path.join(outdir, \"_\".join([\"output\", sysname])),\n",
    "    out_top = os.path.join(outdir, \"_\".join([\"topol\",  sysname]) + \".top\"),\n",
    "    out_log = os.path.join(outdir, \"_\".join([\"log\",    sysname]) + \".log\"),\n",
    "    \n",
    "    ### Designates the system name that is written in .pdb, .gro and .top files\n",
    "    sn = sysname,\n",
    ")"
   ]
  },
  {
   "cell_type": "markdown",
   "metadata": {
    "heading_collapsed": true
   },
   "source": [
    "# Membranes 3: Complex Asymmetric Membrane"
   ]
  },
  {
   "cell_type": "markdown",
   "metadata": {
    "hidden": true
   },
   "source": [
    "\n",
    "This example showcases how to create a complex asymmetric membrane.\n",
    "\n",
    "We create a single asymmetric membrane consisting of:\n",
    "\n",
    "- An upper leaflet: Contains POPC, POPE and CHOL in a 8:6:1 ratio. The APL is set to 0.55 nm<sup>2</sup>lipid<sup>-1</sup>.\n",
    "\n",
    "- A lower leaflet: Contains POPC, POPE and CHOL in a 9:4:5 ratio. The APL is set to 0.45 nm<sup>2</sup>lipid<sup>-1</sup>.\n",
    "\n",
    "The ``membrane`` argument accepts a single string, which is internally parsed by subdividing the string into leaflet-specific segments. Therefore, all subarguments given after the ``leaflet:upper/lower/membrane`` apply to that specific leaflet, until the next ``leaflet`` subcommand appears. \n",
    "\n",
    "In the following example, this means that:\n",
    "- ``leaflet:upper`` is described by subarguments: ``lipid:POPC:8 lipid:POPE:6 lipid:CHOL:1 apl:0.55``\n",
    "\n",
    "-  ``leaflet:lower`` is described by subarguments: ``lipid:POPC:9 lipid:POPE:4 lipid:CHOL:5 apl:0.45``\n",
    "\n",
    "- ``leaflet:membrane`` (meaning, both leaflets) is described by subarguments: ``params:default center:0:0:2 kick:0.02``\n",
    "\n",
    "If any lipid subarguments have been given for a specific leaflet, then those subarguments will outweigh the lipid subarguments given to the general membrane.\n",
    "\n",
    "The subargument ``kick``, changes the amount of kick (a small random push that is applied to each bead in a lipid) during the optimisation of lipid placement. The default kick value is 0.025 nm.\n"
   ]
  },
  {
   "cell_type": "markdown",
   "metadata": {
    "hidden": true
   },
   "source": [
    "<div>\n",
    "<!-- height argument does not work in jupyter for whatever reason. Can't find any help online. -->\n",
    "<img src=\"figures/Membranes3_ComplexAsymmetricMembrane.png\" width=\"300px\"/>\n",
    "</div>"
   ]
  },
  {
   "cell_type": "code",
   "execution_count": null,
   "metadata": {
    "ExecuteTime": {
     "end_time": "2024-07-12T08:39:03.313688Z",
     "start_time": "2024-07-12T08:39:02.289493Z"
    },
    "hidden": true,
    "scrolled": true
   },
   "outputs": [],
   "source": [
    "sysname = \"Membranes3_ComplexAsymmetricMembrane\"\n",
    "outdir = os.path.join(\"output_systems\", sysname)\n",
    "os.makedirs(outdir, exist_ok=True)\n",
    "\n",
    "COBY.COBY(\n",
    "    ### Designates box size\n",
    "    box = [10, 10, 15], # [nm]\n",
    "    \n",
    "    ### Creates a single membrane consisting of POPC\n",
    "    ### \" \".join([]) is used to turn the list of strings into a single string. Included for readability.\n",
    "    ### The subargument \"leaflet\" is used to designate the currently targeted leaflet.\n",
    "    ### The numbers after the lipids indicate their respective ratios within the specific leaflet\n",
    "    membrane = \" \".join([\n",
    "        ### Subarguments initially target the entire membrane (e.g. both leaflets)\n",
    "        ### Here we set the lipid parameter library to be used.\n",
    "        ### It is \"default\" by default, so this is just to show how arguments affect the membrane/lealfets\n",
    "        \"params:default\",\n",
    "        \n",
    "        ### The upper leaflet is desgnated as the target for arguments using \"leaflet:upper\"\n",
    "        ### Following arguments only affect that specific leaflet\n",
    "        \"leaflet:upper lipid:POPC:8 lipid:POPE:6 lipid:CHOL:1 apl:0.55\", # [nm^2/lipid]\n",
    "\n",
    "        ### The lower leaflet is desgnated as the target for arguments using \"leaflet:lower\"\n",
    "        ### Following arguments only affect that specific leaflet        \n",
    "        \"leaflet:lower lipid:POPC:9 lipid:POPE:4 lipid:CHOL:5 apl:0.45\",\n",
    "        \n",
    "        ### Some subarguments always target the entire membrane, no matter where they are placed\n",
    "        ### ### (see documentation for full list)\n",
    "        ### With the subargument center, the center of the membrane is moved 2 nm up in the z direction\n",
    "        \"center:0:0:2\", # [nm]\n",
    "        \n",
    "        ### The entire membrane (both leaflets) is re-designated as the target for arguments\n",
    "        ### The kick is changed for both leaflets \n",
    "        \"leaflet:membrane kick:0.02\", # [nm]\n",
    "    ]),\n",
    "    \n",
    "    ### Solvates the system using the default solvation settings of \"solv:W pos:NA neg:CL\"\n",
    "    solvation = \"default\",\n",
    "    \n",
    "    ### Uses topologies found in \"toppar/top_for_COBY.itp\" for charge determination\n",
    "    itp_input = \"file:toppar/top_for_COBY.itp\",\n",
    "    \n",
    "    ### File writing\n",
    "    out_sys = os.path.join(outdir, \"_\".join([\"output\", sysname])),\n",
    "    out_top = os.path.join(outdir, \"_\".join([\"topol\",  sysname]) + \".top\"),\n",
    "    out_log = os.path.join(outdir, \"_\".join([\"log\",    sysname]) + \".log\"),\n",
    "    \n",
    "    ### Designates the system name that is written in .pdb, .gro and .top files\n",
    "    sn = sysname,\n",
    ")"
   ]
  },
  {
   "cell_type": "markdown",
   "metadata": {
    "heading_collapsed": true
   },
   "source": [
    "# Proteins 1: Move and Rotate"
   ]
  },
  {
   "cell_type": "markdown",
   "metadata": {
    "hidden": true
   },
   "source": [
    "This example shows how to move and rotate proteins.\n",
    "\n",
    "The arguments ``cx``, ``cy`` and ``cz`` are used to designate where the center of the protein should be placed along the specific axis (in nm). The arguments ``rx``, ``ry`` and ``rz`` are used to rotate the protein around the specific axis (in degrees).\n",
    "\n",
    "In this example, multiple proteins have been inserted, each with a set of centering and rotation subarguments applied to them.\n"
   ]
  },
  {
   "cell_type": "markdown",
   "metadata": {
    "hidden": true
   },
   "source": [
    "<div>\n",
    "<!-- height argument does not work in jupyter for whatever reason. Can't find any help online. -->\n",
    "<img src=\"figures/Proteins1_MoveAndRotate.png\" width=\"400px\"/>\n",
    "</div>"
   ]
  },
  {
   "cell_type": "code",
   "execution_count": null,
   "metadata": {
    "ExecuteTime": {
     "end_time": "2024-07-12T08:39:05.799359Z",
     "start_time": "2024-07-12T08:39:03.315709Z"
    },
    "hidden": true,
    "scrolled": true
   },
   "outputs": [],
   "source": [
    "sysname = \"Proteins1_MoveAndRotate\"\n",
    "outdir = os.path.join(\"output_systems\", sysname)\n",
    "os.makedirs(outdir, exist_ok=True)\n",
    "\n",
    "COBY.COBY(\n",
    "    ### Designates box size\n",
    "    box = [20, 20, 20], # [nm]\n",
    "    \n",
    "    ### Inserts proteins\n",
    "    protein = [\n",
    "        ### Protein 1 is moved 5 nm along the x-axis, and 5 nm along the y-axis (to the top right corner of the x/y plane).\n",
    "        \" \".join([\n",
    "            \"file:example_proteins/8BB6_martinized.pdb moleculetypes:8BB6_CG\",\n",
    "            \"cx:5 cy:5\",\n",
    "        ]),\n",
    "        \n",
    "        ### Protein 2 is moved -5 nm along the x-axis, 5 nm along the y-axis (to the top left corner of the x/y plane), and rotated 180 degrees around the z-axis. \n",
    "        \" \".join([\n",
    "            \"file:example_proteins/8BB6_martinized.pdb moleculetypes:8BB6_CG\",\n",
    "            \"cx:-5 cy:5\",\n",
    "            \"rz:180\",\n",
    "        ]),\n",
    "        \n",
    "        ### Protein 3 is moved 5 nm along the x-axis, -5 nm along the y-axis (to the bottom right corner of the x/y plane), and rotated 180 degrees around the x-axis. \n",
    "        \" \".join([\n",
    "            \"file:example_proteins/8BB6_martinized.pdb moleculetypes:8BB6_CG\",\n",
    "            \"cx:5 cy:-5\",\n",
    "            \"rx:180\",\n",
    "        ]),\n",
    "        \n",
    "        ### Protein 4 is moved -5 nm along the x-axis, -5 nm along the y-axis (to the bottom left corner of the x/y plane), and rotated 45 degrees around all axes.\n",
    "        \" \".join([\n",
    "            \"file:example_proteins/8BB6_martinized.pdb moleculetypes:8BB6_CG\",\n",
    "            \"cx:-5 cy:-5\",\n",
    "            \"rx:45 ry:45 rz:45\",\n",
    "        ]),\n",
    "    ],\n",
    "    \n",
    "    ### Solvates the system using the default solvation settings of \"solv:W pos:NA neg:CL\"\n",
    "    solvation = \"default\",\n",
    "    \n",
    "    ### Uses topologies found in \"toppar/top_for_COBY.itp\" for charge determination\n",
    "    itp_input = [\n",
    "        \"file:toppar/top_for_COBY.itp\",\n",
    "        \"include:toppar/SugarTransporter/8BB6_martinized.itp\",\n",
    "    ],\n",
    "    \n",
    "    ### File writing\n",
    "    out_sys = os.path.join(outdir, \"_\".join([\"output\", sysname])),\n",
    "    out_top = os.path.join(outdir, \"_\".join([\"topol\",  sysname]) + \".top\"),\n",
    "    out_log = os.path.join(outdir, \"_\".join([\"log\",    sysname]) + \".log\"),\n",
    "    \n",
    "    ### Designates the system name that is written in .pdb, .gro and .top files\n",
    "    sn = sysname,\n",
    ")"
   ]
  },
  {
   "cell_type": "markdown",
   "metadata": {
    "heading_collapsed": true
   },
   "source": [
    "# Proteins 2: Centering Method"
   ]
  },
  {
   "cell_type": "markdown",
   "metadata": {
    "hidden": true
   },
   "source": [
    "This example shows how to change the protein centering method.\n",
    "\n",
    "Proteins can be centered in multiple different ways. \n",
    "\n",
    "- ``cog`` / ``mean_of_beads`` (default)\n",
    "\n",
    "    - Centers on the mean coordinate of all particles in the protein file (center of geometry).\n",
    "\n",
    "    - e.g., if all the x-coordinates are are 4, 11, 11.3, 11.7 and 12, then the x-center will be at 10 (mean of all values).\n",
    "\n",
    "- ``axis`` / ``mean_of_extremes``\n",
    "\n",
    "    - Centers on the mean axial coordinate\n",
    "\n",
    "    - e.g., if all the x-coordinates are are 4, 11, 11.3, 11.7 and 12, then the x-center will be at 8 (mean of the smallest and the largest value).\n",
    "\n",
    "\n",
    "- ``bead``\n",
    "\n",
    "    - Centers on one or multiple beads.\n",
    "\n",
    "- ``res``\n",
    "\n",
    "    - Centers on one or multiple residues. First calculates the center of each selected residue, then centers on the mean coordinate of those centers.\n",
    "\n",
    "- ``point``\n",
    "\n",
    "    - Centers on a specfic x:y:z coordinate\n",
    "\n",
    "\n",
    "Note that ``bead`` and ``res`` center on the mean coordinate of the beads and residues, respectively. This can be changed by adding either ``_cog`` / ``_mean_of_beads`` or ``_axis`` / ``_mean_of_extremes`` to the arguments (i.e., ``bead_axis`` or ``bead_mean_of_extremes``). \n",
    "\n",
    "``bead`` and ``res`` centerings can parse ranges of beads/residues.\n"
   ]
  },
  {
   "cell_type": "markdown",
   "metadata": {
    "hidden": true
   },
   "source": [
    "<div>\n",
    "<!-- height argument does not work in jupyter for whatever reason. Can't find any help online. -->\n",
    "<img src=\"figures/Proteins2_Centering.png\" width=\"400px\"/>\n",
    "</div>"
   ]
  },
  {
   "cell_type": "code",
   "execution_count": null,
   "metadata": {
    "ExecuteTime": {
     "end_time": "2024-07-12T08:39:08.168488Z",
     "start_time": "2024-07-12T08:39:05.800779Z"
    },
    "hidden": true,
    "scrolled": true
   },
   "outputs": [],
   "source": [
    "sysname = \"Proteins2_Centering\"\n",
    "outdir = os.path.join(\"output_systems\", sysname)\n",
    "os.makedirs(outdir, exist_ok=True)\n",
    "\n",
    "COBY.COBY(\n",
    "    ### Designates box size\n",
    "    box = [20, 20, 20], # [nm]\n",
    "    \n",
    "    ### Inserts proteins\n",
    "    protein = [\n",
    "        ### Protein 1 is moved to the top right corner of the x/y plane and is centered using the centre of geometry (cog) of the protein.\n",
    "        \" \".join([\n",
    "            \"file:example_proteins/8BB6_martinized.pdb moleculetypes:8BB6_CG\",\n",
    "            \"cx:5 cy:5\",\n",
    "            \"cen_method:cog\", # default\n",
    "        ]),\n",
    "        \n",
    "        ### Protein 2 is moved to the top left corner of the x/y plane and is centered on the mean axial coordinate.\n",
    "        \" \".join([\n",
    "            \"file:example_proteins/8BB6_martinized.pdb moleculetypes:8BB6_CG\",\n",
    "            \"cx:-5 cy:5\",\n",
    "            \"cen_method:axis\",\n",
    "        ]),\n",
    "        \n",
    "        ### Protein 3 is moved to the bottom right corner of the x/y plane and is centered on the mean coordinate value of the collection of beads: 5, 7, 9-45, 63.\n",
    "        \" \".join([\n",
    "            \"file:example_proteins/8BB6_martinized.pdb moleculetypes:8BB6_CG\",\n",
    "            \"cx:5 cy:-5\",\n",
    "            \"cen_method:bead_axis:5:7:9-45:63\",\n",
    "        ]),\n",
    "        \n",
    "        ### Protein 4 is moved to the bottom left corner of the x/y plane and is centered on the mean coordinate of the collection of residues: 15, 25-32, 65. \n",
    "        \" \".join([\n",
    "            \"file:example_proteins/8BB6_martinized.pdb moleculetypes:8BB6_CG\",\n",
    "            \"cx:-5 cy:-5\",\n",
    "            \"cen_method:res:15:25-32:65\",\n",
    "        ]),\n",
    "        \n",
    "        ### Protein 5 is moved to the bottom left corner of the x/y plane and is centered on the coordinate (4.5, 4, 4.5) relative to the protein input file.\n",
    "        \" \".join([\n",
    "            \"file:example_proteins/8BB6_martinized.pdb moleculetypes:8BB6_CG\",\n",
    "            \"cen_method:point:4.5:4:4.5\", # [nm]\n",
    "        ]),\n",
    "    ],\n",
    "    \n",
    "    ### Solvates the system using the default solvation settings of \"solv:W pos:NA neg:CL\"\n",
    "    solvation = \"default\",\n",
    "    \n",
    "    ### Uses topologies found in \"toppar/top_for_COBY.itp\" for charge determination\n",
    "    itp_input = [\n",
    "        \"file:toppar/top_for_COBY.itp\",\n",
    "        \"include:toppar/SugarTransporter/8BB6_martinized.itp\",\n",
    "    ],\n",
    "    \n",
    "    ### File writing\n",
    "    out_sys = os.path.join(outdir, \"_\".join([\"output\", sysname])),\n",
    "    out_top = os.path.join(outdir, \"_\".join([\"topol\",  sysname]) + \".top\"),\n",
    "    out_log = os.path.join(outdir, \"_\".join([\"log\",    sysname]) + \".log\"),\n",
    "    \n",
    "    ### Designates the system name that is written in .pdb, .gro and .top files\n",
    "    sn = sysname,\n",
    ")"
   ]
  },
  {
   "cell_type": "markdown",
   "metadata": {
    "heading_collapsed": true
   },
   "source": [
    "# Proteins 3: Protein with Ligands"
   ]
  },
  {
   "cell_type": "markdown",
   "metadata": {
    "hidden": true
   },
   "source": [
    "This example shows how to insert a protein whose file also contains two sucrose molecules, whose moleculetype is called ``SUCR``.\n",
    "\n",
    "Protein and ligand ``moleculetypes`` need to be specified in the same order as they appear in the structure file.\n",
    "\n",
    "Here, the .pdb file contains a single protein and two sucrose molecules in that specific order. Therefore, one ``8BB6_CG`` is first added to the ``moleculetypes`` list, followed by two ``SUCR``. \n"
   ]
  },
  {
   "cell_type": "markdown",
   "metadata": {
    "hidden": true
   },
   "source": [
    "<div>\n",
    "<!-- height argument does not work in jupyter for whatever reason. Can't find any help online. -->\n",
    "<img src=\"figures/Proteins3_ProteinWithLigands.png\" width=\"400px\"/>\n",
    "</div>"
   ]
  },
  {
   "cell_type": "code",
   "execution_count": null,
   "metadata": {
    "ExecuteTime": {
     "end_time": "2024-07-12T08:39:09.677496Z",
     "start_time": "2024-07-12T08:39:08.170065Z"
    },
    "hidden": true
   },
   "outputs": [],
   "source": [
    "sysname = \"Proteins3_ProteinWithLigands\"\n",
    "outdir = os.path.join(\"output_systems\", sysname)\n",
    "os.makedirs(outdir, exist_ok=True)\n",
    "\n",
    "COBY.COBY(\n",
    "    ### Designates box size\n",
    "    box = [10, 10, 10], # [nm]\n",
    "    \n",
    "    ### POPC membrane\n",
    "    membrane = \"lipid:POPC\",\n",
    "    \n",
    "    ### Inserts proteins\n",
    "    protein = \" \".join([\n",
    "        \"file:example_proteins/8BB6_martinized_with_2sucrose.pdb\",\n",
    "        \n",
    "        ### Adds one 8BB6_CG to the topology count\n",
    "        ### Value 1 after \"8BB6_CG\" (e.g. \"moleculetypes:8BB6_CG:1\") is left out, as it is 1 by default\n",
    "        \"moleculetypes:8BB6_CG\",\n",
    "        \n",
    "        ### Adds two SUCR to the topology count\n",
    "        \"moleculetypes:SUCR:2\",\n",
    "        \n",
    "        ### ### Alternative writing styles:\n",
    "        ### Combining the above lines into one \"moleculetypes\" subargument\n",
    "#         \"moleculetypes:8BB6_CG:1:SUCR:2\",\n",
    "        \n",
    "        ### Combining the above lines into one \"moleculetypes\" subargument while explicitly writing each topology entry\n",
    "#         \"moleculetypes:8BB6_CG:SUCR:SUCR\",\n",
    "    ]),\n",
    "    \n",
    "    ### Solvates the system using the default solvation settings of \"solv:W pos:NA neg:CL\"\n",
    "    solvation = \"default\",\n",
    "    \n",
    "    ### Uses topologies found in \"toppar/top_for_COBY.itp\" for charge determination\n",
    "    ### Also adds the .itp file sucrose.itp to the topology\n",
    "    itp_input = [\n",
    "        \"file:toppar/top_for_COBY.itp\",\n",
    "        \"include:toppar/SugarTransporter/8BB6_martinized.itp\",\n",
    "        \"include:toppar/solutes/sucrose.itp\",\n",
    "    ],\n",
    "    \n",
    "    ### File writing\n",
    "    out_sys = os.path.join(outdir, \"_\".join([\"output\", sysname])),\n",
    "    out_top = os.path.join(outdir, \"_\".join([\"topol\",  sysname]) + \".top\"),\n",
    "    out_log = os.path.join(outdir, \"_\".join([\"log\",    sysname]) + \".log\"),\n",
    "    \n",
    "    ### Designates the system name that is written in .pdb, .gro and .top files\n",
    "    sn = sysname,\n",
    ")"
   ]
  },
  {
   "cell_type": "markdown",
   "metadata": {
    "heading_collapsed": true
   },
   "source": [
    "# Solvation 1: Changing ion concentration"
   ]
  },
  {
   "cell_type": "markdown",
   "metadata": {
    "hidden": true
   },
   "source": [
    "Solvent composition can be changed by manipulating it using the ``solvent`` argument. By this point, we have seen only the ``solvent:default`` systems, which is water in 55.56 mol L<sup>-1</sup> concentration, and NaCl in 0.15 mol L<sup>-1</sup> concentration. \n",
    "\n",
    "In order to change the ion type, one can use:\n",
    "\n",
    "- ``pos``: positive ions\n",
    "\n",
    "- ``neg``: negative ions\n",
    "\n",
    "In order to change the salt concentration, one can use:\n",
    "\n",
    "- ``salt_molarity``: salt concentration in mol L<sup>-1</sup>\n",
    "\n",
    "In the example, we are adding KCl in 0.2 mol L<sup>-1</sup>. \n"
   ]
  },
  {
   "cell_type": "markdown",
   "metadata": {
    "hidden": true
   },
   "source": [
    "<div>\n",
    "<!-- height argument does not work in jupyter for whatever reason. Can't find any help online. -->\n",
    "<img src=\"figures/Solvation1_ChangeIonConcentration.png\" width=\"400px\"/>\n",
    "</div>"
   ]
  },
  {
   "cell_type": "code",
   "execution_count": null,
   "metadata": {
    "ExecuteTime": {
     "end_time": "2024-07-12T08:39:10.496184Z",
     "start_time": "2024-07-12T08:39:09.679516Z"
    },
    "hidden": true
   },
   "outputs": [],
   "source": [
    "sysname = \"Solvation1_ChangeIonConcentration\"\n",
    "outdir = os.path.join(\"output_systems\", sysname)\n",
    "os.makedirs(outdir, exist_ok=True)\n",
    "\n",
    "COBY.COBY(\n",
    "    box = [10, 10, 10], # [nm]\n",
    "    \n",
    "    ### A single POPC membrane has been created\n",
    "    membrane = \"lipid:POPC:10 lipid:POPG:1\",\n",
    "    \n",
    "    ### Solvates the system using the default solvation settings of \"solv:W pos:NA neg:CL\"\n",
    "    ### \"salt_molarity\" sets the concentration [mol/L] of the salt (ions)\n",
    "    ### \"charge:lib\" has been added to \"pos:K\" because potassium is not present in the M3 topology files. This causes COBY to use the inbuilt charges for potassium.\n",
    "    solvation = \"solv:W pos:K:charge:lib neg:CL salt_molarity:0.2\",\n",
    "    \n",
    "    itp_input = \"file:toppar/top_for_COBY.itp\",\n",
    "    \n",
    "    out_sys = os.path.join(outdir, \"_\".join([\"output\", sysname])),\n",
    "    out_top = os.path.join(outdir, \"_\".join([\"topol\", sysname]) + \".top\"),\n",
    "    out_log = os.path.join(outdir, \"_\".join([\"log\", sysname]) + \".log\"),\n",
    "    \n",
    "    ### Designates the system name\n",
    "    sn = sysname,\n",
    ")"
   ]
  },
  {
   "cell_type": "markdown",
   "metadata": {
    "heading_collapsed": true
   },
   "source": [
    "# Box Types 1: Hexagonal Box"
   ]
  },
  {
   "cell_type": "markdown",
   "metadata": {
    "hidden": true
   },
   "source": [
    "This example shows how to create a hexagonal box.\n",
    "\n",
    "The argument ``box_type`` is used to set the box type to ``hexagonal``.\n",
    "- For this box type, only two values should be given to the ``box`` argument.\n",
    "    - In ``box = [xy, z]``, xy represents the length of the x and y axis-vectors and z is the height of the box.\n",
    "- The hexagonal box has a 90 degree angle between the x and z vectors and between the y and z vectors, and a 60 degree angle between the x and y vectors.\n"
   ]
  },
  {
   "cell_type": "markdown",
   "metadata": {
    "hidden": true
   },
   "source": [
    "<div>\n",
    "<!-- height argument does not work in jupyter for whatever reason. Can't find any help online. -->\n",
    "<img src=\"figures/BoxTypes1_HexagonalBox.png\" width=\"400px\"/>\n",
    "</div>"
   ]
  },
  {
   "cell_type": "code",
   "execution_count": null,
   "metadata": {
    "ExecuteTime": {
     "end_time": "2024-07-12T08:39:12.446594Z",
     "start_time": "2024-07-12T08:39:10.498142Z"
    },
    "hidden": true
   },
   "outputs": [],
   "source": [
    "sysname = \"BoxTypes1_HexagonalBox\"\n",
    "outdir = os.path.join(\"output_systems\", sysname)\n",
    "os.makedirs(outdir, exist_ok=True)\n",
    "\n",
    "COBY.COBY(\n",
    "    box_type = \"hexagonal\",\n",
    "    \n",
    "    ### Designates box size\n",
    "    ### Only two values should be given when creating a hexagonal box\n",
    "    box = [15, 15], # [nm]\n",
    "    \n",
    "    ### Inserts protein\n",
    "    protein = \"file:example_proteins/8BB6_martinized.pdb moleculetypes:8BB6_CG\",\n",
    "    \n",
    "    ### Creates POPC membrane\n",
    "    membrane = \"lipid:POPC\",\n",
    "    \n",
    "    ### Solvates the system using the default solvation settings of \"solv:W pos:NA neg:CL\"\n",
    "    solvation = \"default\",\n",
    "    \n",
    "    ### Uses topologies found in \"toppar/top_for_COBY.itp\" for charge determination\n",
    "    itp_input = [\n",
    "        \"file:toppar/top_for_COBY.itp\",\n",
    "        \"include:toppar/SugarTransporter/8BB6_martinized.itp\",\n",
    "    ],\n",
    "    \n",
    "    ### File writing\n",
    "    out_sys = os.path.join(outdir, \"_\".join([\"output\", sysname])),\n",
    "    out_top = os.path.join(outdir, \"_\".join([\"topol\",  sysname]) + \".top\"),\n",
    "    out_log = os.path.join(outdir, \"_\".join([\"log\",    sysname]) + \".log\"),\n",
    "    \n",
    "    ### Designates the system name that is written in .pdb, .gro and .top files\n",
    "    sn = sysname,\n",
    ")"
   ]
  },
  {
   "cell_type": "markdown",
   "metadata": {
    "heading_collapsed": true
   },
   "source": [
    "# Box Types 2: Skewed Hexagonal Box"
   ]
  },
  {
   "cell_type": "markdown",
   "metadata": {
    "hidden": true
   },
   "source": [
    "This example shows how to create a skewed hexagonal box.\n",
    "- Note regarding ``insane.py``: The skewed hexagonal box is equivalent to the ``insane.py`` box type called ``optimal`` when a membrane is present in the system.\n",
    "\n",
    "The argument ``box_type`` is used to set the box type to ``skewed_hexagonal``.\n",
    "- For this box type, only one dimension value should be given to the ``box`` argument.\n",
    "    - In ``box = [xyz]``, xyz represents the length of the x, y and z axis vectors.\n",
    "- The skewed hexagonal box has a 60 degree angle between all vectors.\n"
   ]
  },
  {
   "cell_type": "markdown",
   "metadata": {
    "hidden": true
   },
   "source": [
    "<div>\n",
    "<!-- height argument does not work in jupyter for whatever reason. Can't find any help online. -->\n",
    "<img src=\"figures/BoxTypes2_SkewedHexagonalBox.png\" width=\"400px\"/>\n",
    "</div>"
   ]
  },
  {
   "cell_type": "code",
   "execution_count": null,
   "metadata": {
    "ExecuteTime": {
     "end_time": "2024-07-12T08:39:14.020728Z",
     "start_time": "2024-07-12T08:39:12.449484Z"
    },
    "hidden": true,
    "scrolled": true
   },
   "outputs": [],
   "source": [
    "sysname = \"BoxTypes2_SkewedHexagonalBox\"\n",
    "outdir = os.path.join(\"output_systems\", sysname)\n",
    "os.makedirs(outdir, exist_ok=True)\n",
    "\n",
    "COBY.COBY(\n",
    "    box_type = \"skewed_hexagonal\",\n",
    "    \n",
    "    ### Designates box size\n",
    "    ### Only one value should be given when creating a skewed hexagonal box\n",
    "    box = [15], # [nm]\n",
    "    \n",
    "    ### Inserts protein\n",
    "    protein = \"file:example_proteins/8BB6_martinized.pdb moleculetypes:8BB6_CG\",\n",
    "    \n",
    "    ### Creates POPC membrane\n",
    "    membrane = \"lipid:POPC\",\n",
    "    \n",
    "    ### Solvates the system using the default solvation settings of \"solv:W pos:NA neg:CL\"\n",
    "    solvation = \"default\",\n",
    "    \n",
    "    ### Uses topologies found in \"toppar/top_for_COBY.itp\" for charge determination\n",
    "    itp_input = [\n",
    "        \"file:toppar/top_for_COBY.itp\",\n",
    "        \"include:toppar/SugarTransporter/8BB6_martinized.itp\",\n",
    "    ],\n",
    "    \n",
    "    ### File writing\n",
    "    out_sys = os.path.join(outdir, \"_\".join([\"output\", sysname])),\n",
    "    out_top = os.path.join(outdir, \"_\".join([\"topol\",  sysname]) + \".top\"),\n",
    "    out_log = os.path.join(outdir, \"_\".join([\"log\",    sysname]) + \".log\"),\n",
    "    \n",
    "    ### Designates the system name that is written in .pdb, .gro and .top files\n",
    "    sn = sysname,\n",
    ")"
   ]
  },
  {
   "cell_type": "markdown",
   "metadata": {},
   "source": [
    "# Box Types 3: Dodecahedron"
   ]
  },
  {
   "cell_type": "markdown",
   "metadata": {},
   "source": [
    "This example shows how to create a dodecahedron box.\n",
    "- Note regarding ``insane.py``: The dodecahedron box is equivalent to the ``insane.py`` box type called ``optimal`` when no membrane is present.\n",
    "\n",
    "The argument ``box_type`` is used to set the box type to ``dodecahedron``.\n",
    "- Systems created with the dodecahedron box cannot contain membranes. For that purpose, one should instead use ``skewed_hexagonal``.\n",
    "- For this box type, only one dimension value should be given to the ``box`` argument.\n",
    "    - In ``box = [xyz]``, xyz represents the length of the x, y and z axis vectors.\n",
    "- The dodecahedron box has a 60 degree angle between the x and z vectors and between the y and z vectors, and a 90 degree angle between the x and y vectors.\n"
   ]
  },
  {
   "cell_type": "markdown",
   "metadata": {},
   "source": [
    "<div>\n",
    "<!-- height argument does not work in jupyter for whatever reason. Can't find any help online. -->\n",
    "<img src=\"figures/BoxTypes3_DodecahedronBox.png\" width=\"400px\"/>\n",
    "</div>"
   ]
  },
  {
   "cell_type": "code",
   "execution_count": null,
   "metadata": {
    "ExecuteTime": {
     "end_time": "2024-07-12T08:39:15.441556Z",
     "start_time": "2024-07-12T08:39:14.022571Z"
    }
   },
   "outputs": [],
   "source": [
    "sysname = \"BoxTypes3_DodecahedronBox\"\n",
    "outdir = os.path.join(\"output_systems\", sysname)\n",
    "os.makedirs(outdir, exist_ok=True)\n",
    "\n",
    "COBY.COBY(\n",
    "    box_type = \"dodecahedron\",\n",
    "    \n",
    "    ### Designates box size\n",
    "    ### Only one value should be given when creating a dodecahedron box\n",
    "    box = [15], # [nm]\n",
    "    \n",
    "    ### Inserts protein\n",
    "    protein = \"file:example_proteins/8BB6_martinized.pdb moleculetypes:8BB6_CG\",\n",
    "    \n",
    "    ### Solvates the system using the default solvation settings of \"solv:W pos:NA neg:CL\"\n",
    "    solvation = \"default\",\n",
    "    \n",
    "    ### Uses topologies found in \"toppar/top_for_COBY.itp\" for charge determination\n",
    "    itp_input = [\n",
    "        \"file:toppar/top_for_COBY.itp\",\n",
    "        \"include:toppar/SugarTransporter/8BB6_martinized.itp\",\n",
    "    ],\n",
    "    \n",
    "    ### File writing\n",
    "    out_sys = os.path.join(outdir, \"_\".join([\"output\", sysname])),\n",
    "    out_top = os.path.join(outdir, \"_\".join([\"topol\",  sysname]) + \".top\"),\n",
    "    out_log = os.path.join(outdir, \"_\".join([\"log\",    sysname]) + \".log\"),\n",
    "    \n",
    "    ### Designates the system name that is written in .pdb, .gro and .top files\n",
    "    sn = sysname,\n",
    ")"
   ]
  }
 ],
 "metadata": {
  "hide_input": false,
  "kernelspec": {
   "display_name": "Python 3 (ipykernel)",
   "language": "python",
   "name": "python3"
  },
  "language_info": {
   "codemirror_mode": {
    "name": "ipython",
    "version": 3
   },
   "file_extension": ".py",
   "mimetype": "text/x-python",
   "name": "python",
   "nbconvert_exporter": "python",
   "pygments_lexer": "ipython3",
   "version": "3.12.3"
  },
  "toc": {
   "base_numbering": 1,
   "nav_menu": {},
   "number_sections": true,
   "sideBar": true,
   "skip_h1_title": false,
   "title_cell": "Table of Contents",
   "title_sidebar": "Contents",
   "toc_cell": false,
   "toc_position": {},
   "toc_section_display": true,
   "toc_window_display": false
  },
  "widgets": {
   "application/vnd.jupyter.widget-state+json": {
    "state": {},
    "version_major": 2,
    "version_minor": 0
   }
  }
 },
 "nbformat": 4,
 "nbformat_minor": 4
}
