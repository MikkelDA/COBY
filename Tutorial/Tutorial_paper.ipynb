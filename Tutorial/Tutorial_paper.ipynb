{
 "cells": [
  {
   "cell_type": "markdown",
   "id": "d962d85f",
   "metadata": {},
   "source": [
    "# Paper Tutorial"
   ]
  },
  {
   "cell_type": "markdown",
   "id": "045dc380",
   "metadata": {},
   "source": [
    "This tutorial covers the systems shown in the paper [INSERT DOI].\n",
    "\n",
    "In order to proceed, we **strongly advise** the users to go through the Basic and Advanced Tutorials first such that the syntax is understood.\n",
    "\n",
    "The program is under active development. Please report any bugs here: https://github.com/MikkelDA/COBY/issues."
   ]
  },
  {
   "cell_type": "code",
   "execution_count": null,
   "id": "2c8ca69e",
   "metadata": {
    "ExecuteTime": {
     "end_time": "2024-07-12T10:47:02.361036Z",
     "start_time": "2024-07-12T10:46:59.413951Z"
    }
   },
   "outputs": [],
   "source": [
    "import time\n",
    "import sys\n",
    "import os\n",
    "# sys.path.append(\"PATH/TO/YOUR/COBY\")\n",
    "import COBY"
   ]
  },
  {
   "cell_type": "markdown",
   "id": "461ea534",
   "metadata": {
    "heading_collapsed": true
   },
   "source": [
    "# Paper Subfigure a) Ingolfsson B58 Neuronal Membrane"
   ]
  },
  {
   "cell_type": "markdown",
   "id": "d8e21f9c",
   "metadata": {
    "hidden": true
   },
   "source": [
    "<div>\n",
    "<!-- height argument does not work in jupyter for whatever reason. Can't find any help online. -->\n",
    "<img src=\"figures/Paper_Subfigure_a_IngolfssonB58NeuronalMembrane.png\" width=\"900px\"/>\n",
    "</div>"
   ]
  },
  {
   "cell_type": "code",
   "execution_count": null,
   "id": "03383f43",
   "metadata": {
    "ExecuteTime": {
     "end_time": "2024-07-12T10:47:29.111325Z",
     "start_time": "2024-07-12T10:47:02.363482Z"
    },
    "code_folding": [
     4
    ],
    "hidden": true,
    "scrolled": false
   },
   "outputs": [],
   "source": [
    "sysname = \"Paper_Subfigure_a_IngolfssonB58NeuronalMembrane\"\n",
    "outdir = os.path.join(\"output_systems\", sysname)\n",
    "os.makedirs(outdir, exist_ok=True)\n",
    "\n",
    "lipid_subargs = {\n",
    "    \"upper\": [\n",
    "        \"lipid:DPPC:0.053:params:IngolfssonMembranes\",\n",
    "        \"lipid:POPC:0.087:params:IngolfssonMembranes\",\n",
    "        \"lipid:DOPC:0.022:params:IngolfssonMembranes\",\n",
    "        \"lipid:PFPC:0.006:params:IngolfssonMembranes\",\n",
    "        \"lipid:PAPC:0.046:params:IngolfssonMembranes\",\n",
    "        \"lipid:PUPC:0.017:params:IngolfssonMembranes\",\n",
    "        \"lipid:OIPC:0.006:params:IngolfssonMembranes\",\n",
    "        \"lipid:OUPC:0.004:params:IngolfssonMembranes\",\n",
    "        \"lipid:POPE:0.013:params:IngolfssonMembranes\",\n",
    "        \"lipid:PAPE:0.031:params:IngolfssonMembranes\",\n",
    "        \"lipid:PUPE:0.050:params:IngolfssonMembranes\",\n",
    "        \"lipid:OIPE:0.001:params:IngolfssonMembranes\",\n",
    "        \"lipid:OAPE:0.007:params:IngolfssonMembranes\",\n",
    "        \"lipid:OUPE:0.007:params:IngolfssonMembranes\",\n",
    "        \"lipid:DPSM:0.058:params:IngolfssonMembranes\",\n",
    "        \"lipid:POSM:0.007:params:IngolfssonMembranes\",\n",
    "        \"lipid:PNSM:0.013:params:IngolfssonMembranes\",\n",
    "        \"lipid:PBSM:0.011:params:IngolfssonMembranes\",\n",
    "        \"lipid:DPG1:0.009:params:IngolfssonMembranes\",\n",
    "        \"lipid:DBG1:0.002:params:IngolfssonMembranes\",\n",
    "        \"lipid:POG1:0.001:params:IngolfssonMembranes\",\n",
    "        \"lipid:PNG1:0.002:params:IngolfssonMembranes\",\n",
    "        \"lipid:DPG3:0.009:params:IngolfssonMembranes\",\n",
    "        \"lipid:DBG3:0.002:params:IngolfssonMembranes\",\n",
    "        \"lipid:POG3:0.001:params:IngolfssonMembranes\",\n",
    "        \"lipid:PNG3:0.002:params:IngolfssonMembranes\",\n",
    "        \"lipid:DPGS:0.049:params:IngolfssonMembranes\",\n",
    "        \"lipid:DBGS:0.009:params:IngolfssonMembranes\",\n",
    "        \"lipid:POGS:0.006:params:IngolfssonMembranes\",\n",
    "        \"lipid:PNGS:0.011:params:IngolfssonMembranes\",\n",
    "        \"lipid:DPCE:0.004:params:IngolfssonMembranes\",\n",
    "        \"lipid:DBCE:0.001:params:IngolfssonMembranes\",\n",
    "        \"lipid:PNCE:0.001:params:IngolfssonMembranes\",\n",
    "        \"lipid:PPC:0.002:params:IngolfssonMembranes\",\n",
    "        \"lipid:IPC:0.001:params:IngolfssonMembranes\",\n",
    "        \"lipid:PPE:0.001:params:IngolfssonMembranes\",\n",
    "        \"lipid:IPE:0.001:params:IngolfssonMembranes\",\n",
    "        \"lipid:PODG:0.001:params:IngolfssonMembranes\",\n",
    "        \"lipid:PADG:0.003:params:IngolfssonMembranes\",\n",
    "        \"lipid:CHOL:0.444:params:IngolfssonMembranes\",\n",
    "    ],\n",
    "    \"lower\": [\n",
    "        \"lipid:DPPC:0.030:params:IngolfssonMembranes\",\n",
    "        \"lipid:POPC:0.049:params:IngolfssonMembranes\",\n",
    "        \"lipid:DOPC:0.012:params:IngolfssonMembranes\",\n",
    "        \"lipid:PFPC:0.003:params:IngolfssonMembranes\",\n",
    "        \"lipid:PAPC:0.026:params:IngolfssonMembranes\",\n",
    "        \"lipid:PUPC:0.010:params:IngolfssonMembranes\",\n",
    "        \"lipid:OIPC:0.003:params:IngolfssonMembranes\",\n",
    "        \"lipid:OUPC:0.002:params:IngolfssonMembranes\",\n",
    "        \"lipid:POPE:0.025:params:IngolfssonMembranes\",\n",
    "        \"lipid:PAPE:0.061:params:IngolfssonMembranes\",\n",
    "        \"lipid:PUPE:0.097:params:IngolfssonMembranes\",\n",
    "        \"lipid:OIPE:0.003:params:IngolfssonMembranes\",\n",
    "        \"lipid:OAPE:0.013:params:IngolfssonMembranes\",\n",
    "        \"lipid:OUPE:0.014:params:IngolfssonMembranes\",\n",
    "        \"lipid:DPSM:0.015:params:IngolfssonMembranes\",\n",
    "        \"lipid:POSM:0.002:params:IngolfssonMembranes\",\n",
    "        \"lipid:PNSM:0.003:params:IngolfssonMembranes\",\n",
    "        \"lipid:PBSM:0.003:params:IngolfssonMembranes\",\n",
    "        \"lipid:DPPS:0.005:params:IngolfssonMembranes\",\n",
    "        \"lipid:POPS:0.025:params:IngolfssonMembranes\",\n",
    "        \"lipid:PAPS:0.028:params:IngolfssonMembranes\",\n",
    "        \"lipid:PUPS:0.034:params:IngolfssonMembranes\",\n",
    "        \"lipid:OUPS:0.007:params:IngolfssonMembranes\",\n",
    "        \"lipid:POPI:0.013:params:IngolfssonMembranes\",\n",
    "        \"lipid:PIPI:0.005:params:IngolfssonMembranes\",\n",
    "        \"lipid:PAPI:0.013:params:IngolfssonMembranes\",\n",
    "        \"lipid:PUPI:0.020:params:IngolfssonMembranes\",\n",
    "        \"lipid:POPA:0.001:params:IngolfssonMembranes\",\n",
    "        \"lipid:PAPA:0.003:params:IngolfssonMembranes\",\n",
    "        \"lipid:POP1:0.002:params:IngolfssonMembranes\",\n",
    "        \"lipid:PAP1:0.003:params:IngolfssonMembranes\",\n",
    "        \"lipid:POP2:0.002:params:IngolfssonMembranes\",\n",
    "        \"lipid:PAP2:0.003:params:IngolfssonMembranes\",\n",
    "        \"lipid:POP3:0.002:params:IngolfssonMembranes\",\n",
    "        \"lipid:PAP3:0.003:params:IngolfssonMembranes\",\n",
    "        \"lipid:DPCE:0.004:params:IngolfssonMembranes\",\n",
    "        \"lipid:DBCE:0.001:params:IngolfssonMembranes\",\n",
    "        \"lipid:PNCE:0.001:params:IngolfssonMembranes\",\n",
    "        \"lipid:PPC:0.001:params:IngolfssonMembranes\",\n",
    "        \"lipid:IPC:0.001:params:IngolfssonMembranes\",\n",
    "        \"lipid:PPE:0.001:params:IngolfssonMembranes\",\n",
    "        \"lipid:IPE:0.002:params:IngolfssonMembranes\",\n",
    "        \"lipid:PODG:0.001:params:IngolfssonMembranes\",\n",
    "        \"lipid:PADG:0.003:params:IngolfssonMembranes\",\n",
    "        \"lipid:CHOL:0.446:params:IngolfssonMembranes\",\n",
    "    ],\n",
    "}\n",
    "\n",
    "COBY.COBY(\n",
    "    ### Designates box size\n",
    "    box = [90, 50, 20], # [nm]\n",
    "    \n",
    "    membrane = [\n",
    "        \" \".join([\n",
    "            \" \".join([\"leaflet:upper\", \"apl:0.460\"] + lipid_subargs[\"upper\"]),\n",
    "            \" \".join([\"leaflet:lower\", \"apl:0.485\"] + lipid_subargs[\"lower\"]),\n",
    "        ]),\n",
    "    ],\n",
    "    \n",
    "    solvation = \"default\",\n",
    "    \n",
    "    ### Imports the Martini2 lipid structures\n",
    "    import_library = \"example_molecule_definitions/NeuronalPlasmaMembraneAverage_lipid_scaffolds.py\",\n",
    "    \n",
    "    itp_input = [\n",
    "        \"include:toppar/NeuronalPlasmaMembraneBrain/martini_v2.2.itp\",\n",
    "        \"include:toppar/NeuronalPlasmaMembraneBrain/martini_v2.0_brain_complex_b5-GMs_old.itp\",\n",
    "        \"include:toppar/NeuronalPlasmaMembraneBrain/DPPX_Martini_v2.0_lipid.itp\",\n",
    "        \"include:toppar/NeuronalPlasmaMembraneBrain/POPX_Martini_v2.0_lipid.itp\",\n",
    "        \"include:toppar/NeuronalPlasmaMembraneBrain/martini_v2.0_ions.itp\",\n",
    "    ],\n",
    "    \n",
    "    ### File writing\n",
    "    out_sys = os.path.join(outdir, \"_\".join([\"output\", sysname])),\n",
    "    out_top = os.path.join(outdir, \"_\".join([\"topol\",  sysname]) + \".top\"),\n",
    "    out_log = os.path.join(outdir, \"_\".join([\"log\",    sysname]) + \".log\"),\n",
    "    \n",
    "    ### Designates the system name that is written in .pdb, .gro and .top files\n",
    "    sn = sysname,\n",
    ")"
   ]
  },
  {
   "cell_type": "markdown",
   "id": "d4f4c6dc",
   "metadata": {
    "heading_collapsed": true
   },
   "source": [
    "# Paper Subfigure b) KRAS with bound magnesium"
   ]
  },
  {
   "cell_type": "markdown",
   "id": "5d505241",
   "metadata": {
    "hidden": true
   },
   "source": [
    "<div>\n",
    "<!-- height argument does not work in jupyter for whatever reason. Can't find any help online. -->\n",
    "<img src=\"figures/Paper_Subfigure_b_KRAS.png\" width=\"250px\"/>\n",
    "</div>"
   ]
  },
  {
   "cell_type": "code",
   "execution_count": null,
   "id": "bd31de5d",
   "metadata": {
    "ExecuteTime": {
     "end_time": "2024-07-12T10:47:29.901402Z",
     "start_time": "2024-07-12T10:47:29.113157Z"
    },
    "hidden": true
   },
   "outputs": [],
   "source": [
    "sysname = \"Paper_Subfigure_b_KRAS\"\n",
    "outdir = os.path.join(\"output_systems\", sysname)\n",
    "os.makedirs(outdir, exist_ok=True)\n",
    "\n",
    "COBY.COBY(\n",
    "    ### Designates box size\n",
    "    box = [10], # [nm]\n",
    "    \n",
    "    protein = [\n",
    "        \" \".join([\n",
    "            ### Protein and 1 magnesium (MG) contained in the same file\n",
    "            \"file:example_proteins/4obe_martinized_withMG.pdb\",\n",
    "            ### References the moleculetypes for the protein and the magnesium (MG) ion\n",
    "            \"moleculetypes:4obe:MG\",\n",
    "        ]),\n",
    "    ],\n",
    "    \n",
    "    solvation = [\n",
    "        \"solvent:BENZ solv_molarity:0.1\",\n",
    "        \"default\",\n",
    "    ],\n",
    "    \n",
    "    molecule_import = [\n",
    "        ### Imports benzene\n",
    "        \"file:example_solutes/M3_small_molecules/BENZENE/BENZ.gro moleculetype:BENZ\",\n",
    "    ],\n",
    "    \n",
    "    ### Uses topologies found in \"toppar/top_for_COBY.itp\" for charge determination\n",
    "    itp_input = [\n",
    "        ### General itp file for martini 3\n",
    "        \"file:toppar/top_for_COBY.itp\",\n",
    "        ### Protein itp file\n",
    "        \"include:toppar/KRAS/4obe_martinized.itp\",\n",
    "        ### Magnesium itp file\n",
    "        \"include:toppar/extra_ions/martini3_Mg_ion.itp\",\n",
    "        ### Benzenes itp file\n",
    "        \"include:example_solutes/M3_small_molecules/BENZENE/BENZ_cog.itp\",\n",
    "    ],\n",
    "    \n",
    "    ### File writing\n",
    "    out_sys = os.path.join(outdir, \"_\".join([\"output\", sysname])),\n",
    "    out_top = os.path.join(outdir, \"_\".join([\"topol\",  sysname]) + \".top\"),\n",
    "    out_log = os.path.join(outdir, \"_\".join([\"log\",    sysname]) + \".log\"),\n",
    "    \n",
    "    ### Designates the system name that is written in .pdb, .gro and .top files\n",
    "    sn = sysname,\n",
    ")"
   ]
  },
  {
   "cell_type": "markdown",
   "id": "eab03d66",
   "metadata": {
    "heading_collapsed": true
   },
   "source": [
    "# Paper Subfigure c) Nanodisc"
   ]
  },
  {
   "cell_type": "markdown",
   "id": "01a90e42",
   "metadata": {
    "hidden": true
   },
   "source": [
    "<div>\n",
    "<!-- height argument does not work in jupyter for whatever reason. Can't find any help online. -->\n",
    "<img src=\"figures/Paper_Subfigure_c_Nanodisc.png\" width=\"300px\"/>\n",
    "</div>"
   ]
  },
  {
   "cell_type": "code",
   "execution_count": null,
   "id": "ee882791",
   "metadata": {
    "ExecuteTime": {
     "end_time": "2024-07-12T10:47:34.071858Z",
     "start_time": "2024-07-12T10:47:29.903343Z"
    },
    "hidden": true,
    "scrolled": false
   },
   "outputs": [],
   "source": [
    "sysname = \"Paper_Subfigure_c_Nanodisc\"\n",
    "outdir = os.path.join(\"output_systems\", sysname)\n",
    "os.makedirs(outdir, exist_ok=True)\n",
    "\n",
    "### PX4 (1,2-DIMYRISTOYL-SN-GLYCERO-3-PHOSPHOCHOLINE) is DMPC (C14:0 PC)\n",
    "\n",
    "test = COBY.COBY(\n",
    "    ### Designates box size\n",
    "    box = [20, 20, 12], # [nm]\n",
    "    \n",
    "    ### Makes a simple DMPC membrane\n",
    "    membrane = \" \".join([\n",
    "        \"lipid:DMPC:charge:lib\", # params:Generated_Lipids\n",
    "        \"inside_protein:True\",\n",
    "        ### Sets that the membrane plane should be solvated (the part of the plane that is outside the nanodisc)\n",
    "        \"solvate_hole:True\",\n",
    "    ]),\n",
    "    \n",
    "    ### Inserts proteins\n",
    "    protein = [\n",
    "        \" \".join([\n",
    "            ### Both rings of the nanodisc contained in the same .pdb file\n",
    "            \"file:example_proteins/6clz_nanodisc_martinized.pdb\",\n",
    "            ### References the moleculetypes for the two rings\n",
    "            \"moleculetypes:nanodisc_ring1:nanodisc_ring2\",\n",
    "            ### Sets that this protein should be treated as a membrane border for membranes with \"inside_protein:True\"\n",
    "            \"membrane_border:True\",\n",
    "        ]),\n",
    "    ],\n",
    "    \n",
    "    ### Solvates the system using the default solvation settings of \"solv:W pos:NA neg:CL\"\n",
    "    solvation = \"default\",\n",
    "    \n",
    "    ### Uses topologies found in \"toppar/top_for_COBY.itp\" for charge determination\n",
    "    ### Adds the .itp files for the two rings of the nanodisc using two \"inlcude:\" subarguments\n",
    "    itp_input =  [\n",
    "        \"file:toppar/top_for_COBY.itp\",\n",
    "        \"include:toppar/Nanodisc/6clz_nanodisc_martinized_ring1.itp\",\n",
    "        \"include:toppar/Nanodisc/6clz_nanodisc_martinized_ring2.itp\",\n",
    "    ],\n",
    "    \n",
    "    ### File writing\n",
    "    out_sys = os.path.join(outdir, \"_\".join([\"output\", sysname])),\n",
    "    out_top = os.path.join(outdir, \"_\".join([\"topol\",  sysname]) + \".top\"),\n",
    "    out_log = os.path.join(outdir, \"_\".join([\"log\",    sysname]) + \".log\"),\n",
    "    \n",
    "    ### Designates the system name\n",
    "    sn = sysname,\n",
    "    verbose=2,\n",
    ")"
   ]
  },
  {
   "cell_type": "markdown",
   "id": "15017d76",
   "metadata": {
    "heading_collapsed": true
   },
   "source": [
    "# Paper Subfigure d) Lo-Ld Phase Separation"
   ]
  },
  {
   "cell_type": "markdown",
   "id": "842d7999",
   "metadata": {
    "hidden": true
   },
   "source": [
    "<div>\n",
    "<!-- height argument does not work in jupyter for whatever reason. Can't find any help online. -->\n",
    "<img src=\"figures/Paper_Subfigure_d_LoLdPhaseSeparation.png\" width=\"300px\"/>\n",
    "</div>"
   ]
  },
  {
   "cell_type": "code",
   "execution_count": null,
   "id": "baf2886e",
   "metadata": {
    "ExecuteTime": {
     "end_time": "2024-07-12T10:47:48.801105Z",
     "start_time": "2024-07-12T10:47:34.074941Z"
    },
    "hidden": true
   },
   "outputs": [],
   "source": [
    "sysname = \"Paper_Subfigure_d_LoLdPhaseSeparation\"\n",
    "outdir = os.path.join(\"output_systems\", sysname)\n",
    "os.makedirs(outdir, exist_ok=True)\n",
    "\n",
    "### ### Lipid specification\n",
    "### GM1: Used DPG1 as standin\n",
    "### SpH: Currently missing structure\n",
    "\n",
    "ellipse = \"ellipse:xradius:8:yradius:16:cx:0:cy:0:rotate:45\"\n",
    "\n",
    "COBY.COBY(\n",
    "    ### Designates box size\n",
    "    box = [50, 50, 20], # [nm]\n",
    "    \n",
    "    ### Creates two separate monolayer membranes, each placed in the center of the x/y-plane.\n",
    "    ### The plus signs (+) in \"center\" are not needed, but they are shown for clarity\n",
    "    membrane = [\n",
    "        \" \".join([\n",
    "            \"lipid:DOPC:44.1\",\n",
    "            \"lipid:DOPG:4.9\",\n",
    "#             \"lipid:SpH:19\",\n",
    "            \"lipid:CHOL:30\",\n",
    "            \"lipid:DPG1:2:charge:lib\",\n",
    "            \"hole:\" + ellipse,\n",
    "            ### Following increases processing time but the system looks nicer in pictures\n",
    "            \"gridsplits:False\",\n",
    "            \"optim_maxsteps:1000\",\n",
    "            \"optim_push_tol:0.1\",\n",
    "            \"optim_push_mult:2\",\n",
    "        ]),\n",
    "        \" \".join([\n",
    "            \"lipid:DOPC:9\",\n",
    "            \"lipid:DOPG:1\",\n",
    "#             \"lipid:SpH:53\",\n",
    "            \"lipid:CHOL:35\",\n",
    "            \"lipid:DPG1:2:charge:lib\",\n",
    "            \"patch:\" + ellipse,\n",
    "            ### Following increases processing time but the system looks nicer in pictures\n",
    "            \"gridsplits:False\",\n",
    "            \"optim_maxsteps:1000\",\n",
    "            \"optim_push_tol:0.1\",\n",
    "            \"optim_push_mult:2\",\n",
    "        ]),\n",
    "    ],\n",
    "    \n",
    "    ### Solvates the system using the default solvation settings of \"solv:W pos:NA neg:CL\"\n",
    "    solvation = \"default\",\n",
    "    \n",
    "    ### Uses topologies found in \"toppar/top_for_COBY.itp\" for charge determination\n",
    "    itp_input = \"file:toppar/top_for_COBY.itp\",\n",
    "    \n",
    "    ### File writing\n",
    "    out_sys = os.path.join(outdir, \"_\".join([\"output\", sysname])),\n",
    "    out_top = os.path.join(outdir, \"_\".join([\"topol\",  sysname]) + \".top\"),\n",
    "    out_log = os.path.join(outdir, \"_\".join([\"log\",    sysname]) + \".log\"),\n",
    "    \n",
    "    ### Designates the system name that is written in .pdb, .gro and .top files\n",
    "    sn = sysname,\n",
    ")"
   ]
  },
  {
   "cell_type": "markdown",
   "id": "6dea9cee",
   "metadata": {
    "heading_collapsed": true
   },
   "source": [
    "# Paper Subfigure e) Monolayers"
   ]
  },
  {
   "cell_type": "markdown",
   "id": "e4f91687",
   "metadata": {
    "hidden": true
   },
   "source": [
    "<div>\n",
    "<!-- height argument does not work in jupyter for whatever reason. Can't find any help online. -->\n",
    "<img src=\"figures/Paper_Subfigure_e_Monolayers.png\" width=\"250px\"/>\n",
    "</div>"
   ]
  },
  {
   "cell_type": "code",
   "execution_count": null,
   "id": "f7aa6a01",
   "metadata": {
    "ExecuteTime": {
     "end_time": "2024-07-12T10:47:49.546100Z",
     "start_time": "2024-07-12T10:47:48.802780Z"
    },
    "hidden": true
   },
   "outputs": [],
   "source": [
    "sysname = \"Paper_Subfigure_e_Monolayers\"\n",
    "outdir = os.path.join(\"output_systems\", sysname)\n",
    "os.makedirs(outdir, exist_ok=True)\n",
    "\n",
    "COBY.COBY(\n",
    "    ### Designates box size\n",
    "    box = [10, 10, 16], # [nm]\n",
    "    \n",
    "    ### Creates two separate monolayer membranes, each placed in the center of the x/y-plane.\n",
    "    ### The plus signs (+) in \"center\" are not needed, but they are shown for clarity\n",
    "    membrane = [\n",
    "        \"type:mono_lower lipid:POPC center:0:0:+5\", # [nm]\n",
    "        \"type:mono_upper lipid:POPC center:0:0:-5\", # [nm]\n",
    "    ],\n",
    "    \n",
    "    ### Solvates the system using the default solvation settings of \"solv:W pos:NA neg:CL\"\n",
    "    ### The \"zlength:10\" subargument designates that the solvent box should only be 10 nm long along the z-axis\n",
    "    ### This results in solvent only being placed between the monolayers.\n",
    "    solvation = \"default zlength:10\",\n",
    "    \n",
    "    ### Uses topologies found in \"toppar/top_for_COBY.itp\" for charge determination\n",
    "    itp_input = \"file:toppar/top_for_COBY.itp\",\n",
    "    \n",
    "    ### File writing\n",
    "    out_sys = os.path.join(outdir, \"_\".join([\"output\", sysname])),\n",
    "    out_top = os.path.join(outdir, \"_\".join([\"topol\",  sysname]) + \".top\"),\n",
    "    out_log = os.path.join(outdir, \"_\".join([\"log\",    sysname]) + \".log\"),\n",
    "    \n",
    "    ### Designates the system name that is written in .pdb, .gro and .top files\n",
    "    sn = sysname,\n",
    ")"
   ]
  },
  {
   "cell_type": "markdown",
   "id": "c2f9be70",
   "metadata": {
    "heading_collapsed": true
   },
   "source": [
    "# Paper Subfigure f) Electrophysiology"
   ]
  },
  {
   "cell_type": "markdown",
   "id": "99209ccc",
   "metadata": {
    "hidden": true
   },
   "source": [
    "<div>\n",
    "<!-- height argument does not work in jupyter for whatever reason. Can't find any help online. -->\n",
    "<img src=\"figures/Paper_Subfigure_f_Electrophysiology.png\" width=\"250px\"/>\n",
    "</div>"
   ]
  },
  {
   "cell_type": "code",
   "execution_count": null,
   "id": "b8be99a8",
   "metadata": {
    "ExecuteTime": {
     "end_time": "2024-07-12T10:47:53.594452Z",
     "start_time": "2024-07-12T10:47:49.549125Z"
    },
    "hidden": true
   },
   "outputs": [],
   "source": [
    "sysname = \"Paper_Subfigure_f_Electrophysiology\"\n",
    "outdir = os.path.join(\"output_systems\", sysname)\n",
    "os.makedirs(outdir, exist_ok=True)\n",
    "\n",
    "### ### Lipid specification\n",
    "### GM1: Used DPG1 as standin\n",
    "### SpH: Currently missing structure\n",
    "\n",
    "z_difference = 7\n",
    "\n",
    "COBY.COBY(\n",
    "    ### Designates box size\n",
    "    ### Box size guestimated from images\n",
    "    box = [16, 16], # [nm] # stacked membranes\n",
    "    \n",
    "    stacked_membranes = \" \".join([\n",
    "        ### Number of membranes\n",
    "        \"number:2\",\n",
    "        ### Distance between membranes.\n",
    "        ### The protein is slightly more than 36 nm long but needs to be inserted in the bottom membrane.\n",
    "        ### Distance between membranes guestimated from images\n",
    "        \"distance:10:10\", # [nm]\n",
    "        ### Where distances should be calculated from\n",
    "        \"distance_type:surface\", # Alternatives: center, surface_mean\n",
    "        \n",
    "        ### ### Membrane argument\n",
    "        ### Designates membrane 1 and 2\n",
    "        \" \".join([\n",
    "            \"membrane_argument:positions:1:2\",\n",
    "            \n",
    "            ### No APLs given in paper. Using default apl of 0.6\n",
    "            ### Asymmetry is not specified. Leaflets are identical\n",
    "            \" \".join([\"apl:0.5\", \"lipid:POPC\"]),\n",
    "            \n",
    "            \"gridsplits:False\", # Increases processing time but looks nicer in pictures\n",
    "        ]),\n",
    "        \n",
    "        ### Cross-pbc solvent space\n",
    "        \"solvation_argument:positions:1 default\",\n",
    "        ### Central solvent space\n",
    "        \"solvation_argument:positions:2 default salt_molarity:0.4\", # default salt_molarity is 0.15\n",
    "        \n",
    "    ]),\n",
    "    \n",
    "    protein = [\n",
    "        ### The protein is slightly more than 36 nm long\n",
    "        \" \".join([\n",
    "            ### All four monomers included in the same .pdb file\n",
    "            \"file:example_proteins/3f5w_martinized.pdb\",\n",
    "            ### References the 4 moleculetypes for the protein\n",
    "            \"moleculetypes:\" + \":\".join([\"3f5w_monomer_\"+str(i)+\"_martinized\" for i in range(4)]),\n",
    "            ### Centering on axial mean\n",
    "            \"cen_method:axis\",\n",
    "            ### Moved up to top membrane\n",
    "            \"cz:\" + str(z_difference),\n",
    "        ]),\n",
    "        ### The protein is slightly more than 36 nm long\n",
    "        \" \".join([\n",
    "            ### All four monomers included in the same .pdb file\n",
    "            \"file:example_proteins/3f5w_martinized.pdb\",\n",
    "            ### References the 4 moleculetypes for the protein\n",
    "            \"moleculetypes:\" + \":\".join([\"3f5w_monomer_\"+str(i)+\"_martinized\" for i in range(4)]),\n",
    "            ### Centering on axial mean\n",
    "            \"cen_method:axis\",\n",
    "            ### Moved down to bottom membrane\n",
    "            \"cz:-\" + str(z_difference),\n",
    "            \"rx:180\",\n",
    "        ]),\n",
    "    ],\n",
    "    \n",
    "    itp_input = [\n",
    "        \"file:toppar/top_for_COBY.itp\",\n",
    "        ### Contains references to all 8 itp files for the protein\n",
    "        \"file:toppar/PotassiumChannel/3f5w_martinized.top\",\n",
    "    ],\n",
    "    \n",
    "    ### File writing\n",
    "    out_sys = os.path.join(outdir, \"_\".join([\"output\", sysname])),\n",
    "    out_top = os.path.join(outdir, \"_\".join([\"topol\",  sysname]) + \".top\"),\n",
    "    out_log = os.path.join(outdir, \"_\".join([\"log\",    sysname]) + \".log\"),\n",
    "    \n",
    "    ### Designates the system name that is written in .pdb, .gro and .top files\n",
    "    sn = sysname,\n",
    "    \n",
    "    backup = False,\n",
    ")"
   ]
  },
  {
   "cell_type": "markdown",
   "id": "233d4a90",
   "metadata": {
    "heading_collapsed": true
   },
   "source": [
    "# Paper Subfigure g) SARS CoV2 Fusion Intermediate"
   ]
  },
  {
   "cell_type": "markdown",
   "id": "1b7d6696",
   "metadata": {
    "hidden": true
   },
   "source": [
    "<div>\n",
    "<!-- height argument does not work in jupyter for whatever reason. Can't find any help online. -->\n",
    "<img src=\"figures/Paper_Subfigure_g_SARSCov2FusionIntermediate.png\" width=\"300px\"/>\n",
    "</div>"
   ]
  },
  {
   "cell_type": "code",
   "execution_count": null,
   "id": "5992a03f",
   "metadata": {
    "ExecuteTime": {
     "end_time": "2024-07-12T10:48:04.974616Z",
     "start_time": "2024-07-12T10:47:53.597334Z"
    },
    "hidden": true
   },
   "outputs": [],
   "source": [
    "sysname = \"Paper_Subfigure_g_SARSCov2FusionIntermediate\"\n",
    "outdir = os.path.join(\"output_systems\", sysname)\n",
    "os.makedirs(outdir, exist_ok=True)\n",
    "\n",
    "lipid_subargs_PM = {\n",
    "    \"upper\": [\n",
    "        \"lipid:POPC:0.243:params:IngolfssonMembranes\",\n",
    "        \"lipid:PAPC:0.121:params:IngolfssonMembranes\",\n",
    "        \"lipid:POPE:0.020:params:IngolfssonMembranes\",\n",
    "        \"lipid:CHOL:0.313:params:IngolfssonMembranes\",\n",
    "    ],\n",
    "    \"lower\": [\n",
    "        \"lipid:POPC:0.139:params:IngolfssonMembranes\",\n",
    "        \"lipid:PAPC:0.075:params:IngolfssonMembranes\",\n",
    "        \"lipid:POPE:0.054:params:IngolfssonMembranes\",\n",
    "        \"lipid:PAPS:0.161:params:IngolfssonMembranes\",\n",
    "        \"lipid:CHOL:0.280:params:IngolfssonMembranes\",\n",
    "    ],\n",
    "}\n",
    "\n",
    "lipid_subargs_VM = [\n",
    "    \"lipid:POPC:9.325682832451273:params:IngolfssonMembranes\",\n",
    "    \"lipid:DOPC:13.042476313361767:params:IngolfssonMembranes\",\n",
    "    \"lipid:POPE:13.438667551374865:params:IngolfssonMembranes\",\n",
    "    \"lipid:POPI:8.334096975003439:params:IngolfssonMembranes\",\n",
    "    \"lipid:PAPI:13.330598784032244:params:IngolfssonMembranes\",\n",
    "    \"lipid:POPS:10.699081092519885:params:IngolfssonMembranes\",\n",
    "    \"lipid:CHOL:31.829396451256525:params:IngolfssonMembranes\",\n",
    "]\n",
    "\n",
    "COBY.COBY(\n",
    "    ### Designates box size\n",
    "    box = [30, 30], # [nm] # stacked membranes\n",
    "    \n",
    "    stacked_membranes = \" \".join([\n",
    "        ### Number of membranes\n",
    "        \"number:2\",\n",
    "        ### Distance between membranes.\n",
    "        ### The protein is slightly more than 36 nm long but needs to be inserted in the bottom membrane.\n",
    "        \"distance:8:31.4\", # [nm]\n",
    "        ### Where distances should be calculated from\n",
    "        \"distance_type:surface\", # Alternatives: center, surface_mean\n",
    "        \n",
    "        ### ### Membrane arguments\n",
    "        ### Designates membrane 1 (bottom / viral membrane)\n",
    "        \" \".join([\n",
    "            \"membrane_argument:positions:1\",\n",
    "            \n",
    "            ### No APLs given in paper. Using apl of 0.535 (mean of 0.515 and 0.556 from plasma membrane)\n",
    "            ### Asymmetry is not specified. Leaflets are identical\n",
    "            \" \".join([\"apl:0.535\"] + lipid_subargs_VM),\n",
    "            \n",
    "            \"gridsplits:False\", # Increases processing time but looks nicer in pictures\n",
    "        ]),\n",
    "        ### Designates membrane 2 (top / plasma membrane)\n",
    "        ### Uses neuronal plasma membrane A-8\n",
    "        \" \".join([\n",
    "            \"membrane_argument:positions:2\",\n",
    "            \n",
    "            \" \".join([\"leaflet:upper\", \"apl:0.515\"] + lipid_subargs_PM[\"upper\"]),\n",
    "            \" \".join([\"leaflet:lower\", \"apl:0.556\"] + lipid_subargs_PM[\"lower\"]),\n",
    "            \n",
    "            \"gridsplits:False\", # Increases processing time but looks nicer in pictures\n",
    "        ]),\n",
    "        \n",
    "        ### ### Solvation arguments\n",
    "        ### Designates both solvent spaces\n",
    "        \"solvation_argument:positions:1:2 default\",\n",
    "    ]),\n",
    "    \n",
    "    protein = [\n",
    "        ### The protein is slightly more than 36 nm long\n",
    "        \" \".join([\n",
    "            ### All three monomers included in the same .pdb file\n",
    "            \"file:example_proteins/SARS-CoV2_FI_only_full_protein_martinized.pdb\",\n",
    "            ### References the moleculetypes for the three monomers constituting the spike protein\n",
    "            \"moleculetypes:SARS-CoV2_FI_only_monomer_1:SARS-CoV2_FI_only_monomer_2:SARS-CoV2_FI_only_monomer_3\",\n",
    "            ### Centering on axial mean\n",
    "            \"cen_method:axis\",\n",
    "            ### Moves slightly down to ensure protein penetrates viral membrane\n",
    "            \"cz:-4.3\",\n",
    "        ]),\n",
    "    ],\n",
    "    \n",
    "    ### Imports the Martini2 lipid structures\n",
    "    import_library = \"example_molecule_definitions/NeuronalPlasmaMembraneAverage_lipid_scaffolds.py\",\n",
    "    \n",
    "    itp_input = [\n",
    "        \"include:toppar/NeuronalPlasmaMembraneAverage/martini_v2.1.itp\",\n",
    "        \"include:toppar/NeuronalPlasmaMembraneAverage/PLASMA-v01-PA2.itp\",\n",
    "        \"include:toppar/NeuronalPlasmaMembraneAverage/PIPX_Martini_v2.0_lipid.itp\",\n",
    "        \"include:toppar/NeuronalPlasmaMembraneAverage/POPX_Martini_v2.0_lipid.itp\",\n",
    "        \"include:toppar/NeuronalPlasmaMembraneAverage/martini_v2.0_ions.itp\",\n",
    "        \"include:toppar/SARS-CoV2/SARS-CoV2_FI_only_monomer_1_martinized.itp\",\n",
    "        \"include:toppar/SARS-CoV2/SARS-CoV2_FI_only_monomer_2_martinized.itp\",\n",
    "        \"include:toppar/SARS-CoV2/SARS-CoV2_FI_only_monomer_3_martinized.itp\",\n",
    "    ],\n",
    "    \n",
    "    ### File writing\n",
    "    out_sys = os.path.join(outdir, \"_\".join([\"output\", sysname])),\n",
    "    out_top = os.path.join(outdir, \"_\".join([\"topol\",  sysname]) + \".top\"),\n",
    "    out_log = os.path.join(outdir, \"_\".join([\"log\",    sysname]) + \".log\"),\n",
    "    \n",
    "    ### Designates the system name that is written in .pdb, .gro and .top files\n",
    "    sn = sysname,\n",
    ")"
   ]
  }
 ],
 "metadata": {
  "hide_input": false,
  "kernelspec": {
   "display_name": "Python 3 (ipykernel)",
   "language": "python",
   "name": "python3"
  },
  "language_info": {
   "codemirror_mode": {
    "name": "ipython",
    "version": 3
   },
   "file_extension": ".py",
   "mimetype": "text/x-python",
   "name": "python",
   "nbconvert_exporter": "python",
   "pygments_lexer": "ipython3",
   "version": "3.12.3"
  },
  "toc": {
   "base_numbering": 1,
   "nav_menu": {},
   "number_sections": true,
   "sideBar": true,
   "skip_h1_title": false,
   "title_cell": "Table of Contents",
   "title_sidebar": "Contents",
   "toc_cell": false,
   "toc_position": {},
   "toc_section_display": true,
   "toc_window_display": false
  },
  "widgets": {
   "application/vnd.jupyter.widget-state+json": {
    "state": {},
    "version_major": 2,
    "version_minor": 0
   }
  }
 },
 "nbformat": 4,
 "nbformat_minor": 5
}
