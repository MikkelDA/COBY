{
 "cells": [
  {
   "cell_type": "markdown",
   "metadata": {},
   "source": [
    "# Advanced Tutorial"
   ]
  },
  {
   "cell_type": "markdown",
   "metadata": {},
   "source": [
    "Advanced tutorial covers more complex systems, namely:\n",
    "\n",
    "- Phase-separated membranes\n",
    "\n",
    "- Monolayers\n",
    "\n",
    "- Membrane patches and holes\n",
    "\n",
    "- Stacked membranes\n",
    "\n",
    "- Mixed solvents\n",
    "\n",
    "- Phase-separated solvents\n",
    "\n",
    "- Flooding with solutes\n",
    "\n",
    "- Boxes with custom unit cells\n",
    "\n",
    "On top of that, Advanced tutorial adressess additional fine-tuning options left to the user, e.g.:\n",
    "\n",
    "- Optimization of lipid packing\n",
    "\n",
    "- Changes in solvent composition\n",
    "\n",
    "- Charge neutralisation approaches \n",
    "\n",
    "- Importing solute structures\n",
    "\n",
    "- Importing lipid structures\n",
    "\n",
    "In order to proceed to the Advanced tutorial, we **strongly advise** the users to go through the Basic Tutorial first. \n",
    "\n",
    "The program is under active development. Please report any bugs here: https://github.com/MikkelDA/COBY/issues."
   ]
  },
  {
   "cell_type": "code",
   "execution_count": null,
   "metadata": {
    "ExecuteTime": {
     "end_time": "2024-07-12T08:38:58.970176Z",
     "start_time": "2024-07-12T08:38:55.058585Z"
    }
   },
   "outputs": [],
   "source": [
    "import time\n",
    "import sys\n",
    "import os\n",
    "# sys.path.append(\"PATH/TO/YOUR/COBY\")\n",
    "import COBY"
   ]
  },
  {
   "cell_type": "markdown",
   "metadata": {
    "heading_collapsed": true,
    "jp-MarkdownHeadingCollapsed": true
   },
   "source": [
    "# Multiple Arguments"
   ]
  },
  {
   "cell_type": "markdown",
   "metadata": {
    "hidden": true
   },
   "source": [
    "This example shows how to give multiple subarguments to the same argument. While only the ``membrane`` argument is shown here, the same syntax applies to ``protein``, ``solvation``, ``flooding`` and ``molecule_import``.\n",
    "\n",
    "Multiple arguments can be given by making them a separate string within a list. Here, two separate membranes are created. They both span the x/y-plane of the system box.\n",
    "\n",
    "- The first membrane is moved 5 nm up from the center of the system using the ``cz`` subargument.\n",
    "\n",
    "- The second membrane is moved 5 nm down from the center of the system using the ``cz`` subargument.\n"
   ]
  },
  {
   "cell_type": "markdown",
   "metadata": {
    "hidden": true
   },
   "source": [
    "<div>\n",
    "<!-- height argument does not work in jupyter for whatever reason. Can't find any help online. -->\n",
    "<img src=\"figures/MultipleArguments.png\" width=\"250px\"/>\n",
    "</div>"
   ]
  },
  {
   "cell_type": "code",
   "execution_count": null,
   "metadata": {
    "ExecuteTime": {
     "end_time": "2024-07-12T08:39:00.261607Z",
     "start_time": "2024-07-12T08:38:58.972674Z"
    },
    "hidden": true
   },
   "outputs": [],
   "source": [
    "sysname = \"MultipleArguments\"\n",
    "outdir = os.path.join(\"output_systems\", sysname)\n",
    "os.makedirs(outdir, exist_ok=True)\n",
    "\n",
    "COBY.COBY(\n",
    "    ### Designates box size\n",
    "    box = [10, 10, 20], # [nm]\n",
    "    \n",
    "    ### Creates two membranes consisting of POPC\n",
    "    ### The membranes span the x/y-plane and are offset in the z axis (by 5 and -5 nm)\n",
    "    membrane = [\n",
    "        \"lipid:POPC cz:5\",  # [nm]\n",
    "        \"lipid:POPC cz:-5\", # [nm]\n",
    "    ],\n",
    "    \n",
    "    ### Solvates the system using the default solvation settings of \"solv:W pos:NA neg:CL\"\n",
    "    solvation = \"default\",\n",
    "    \n",
    "    ### Uses topologies found in \"toppar/top_for_COBY.itp\" for charge determination\n",
    "    itp_input = \"file:toppar/top_for_COBY.itp\",\n",
    "    \n",
    "    ### File writing\n",
    "    out_sys = os.path.join(outdir, \"_\".join([\"output\", sysname])),\n",
    "    out_top = os.path.join(outdir, \"_\".join([\"topol\",  sysname]) + \".top\"),\n",
    "    out_log = os.path.join(outdir, \"_\".join([\"log\",    sysname]) + \".log\"),\n",
    "    \n",
    "    ### Designates the system name that is written in .pdb, .gro and .top files\n",
    "    sn = sysname,\n",
    ")"
   ]
  },
  {
   "cell_type": "markdown",
   "metadata": {
    "heading_collapsed": true,
    "jp-MarkdownHeadingCollapsed": true
   },
   "source": [
    "# Membranes 4: Phase Separation"
   ]
  },
  {
   "cell_type": "markdown",
   "metadata": {
    "hidden": true
   },
   "source": [
    "This example shows how to make a simple phase separated membrane system, by giving multiple arguments to the ``membrane`` argument. In this example, four membranes are created, such that combined they make up a single membrane.\n",
    "\n",
    "- Membrane 1: Contains POPC and CHOL in a 5:1 ratio. Placed at the top right of the x/y-plane.\n",
    "\n",
    "- Membrane 2: Contains POPE and CHOL in a 5:1 ratio. Placed at the top left of the x/y-plane.\n",
    "\n",
    "- Membrane 3: Contains POPE and CHOL in a 5:1 ratio. Placed at the bottom right of the x/y-plane.\n",
    "\n",
    "- Membrane 4: Contains POPC and CHOL in a 5:1 ratio. Placed at the bottom left of the x/y-plane.\n",
    "\n",
    "The subargument ``center`` is used to center the individual membranes in relation to the centre of the box. It accepts ``x:y:z`` offset values. Since this box is 20 x 20 nm<sup>2</sup> long, then the centre of each membrane is shifted 5 nm along the x- and y-axes (&plusmn;5 : &plusmn;5 : 0). \n",
    "\n",
    "The subarguments ``xlength`` and ``ylength`` are used to set the length of the small membranes along the x- and y-axis."
   ]
  },
  {
   "cell_type": "markdown",
   "metadata": {
    "hidden": true
   },
   "source": [
    "\n",
    "<div class=\"WhiteBackground\">\n",
    "<!-- height argument does not work in jupyter for whatever reason. Can't find any help online. -->\n",
    "    <table>\n",
    "        <tr>\n",
    "            <td>\n",
    "                <img src='figures/Membranes4_PhaseSeparation.png' width=\"500px\">\n",
    "            </td>\n",
    "            <td>\n",
    "                <img src='figures/drawings/Membranes4_PhaseSeparation_Drawing.png' width=\"400px\">\n",
    "            </td>\n",
    "        </tr>\n",
    "    </table>\n",
    "</div>\n"
   ]
  },
  {
   "cell_type": "code",
   "execution_count": null,
   "metadata": {
    "ExecuteTime": {
     "end_time": "2024-07-12T08:39:02.079323Z",
     "start_time": "2024-07-12T08:39:00.265037Z"
    },
    "hidden": true
   },
   "outputs": [],
   "source": [
    "sysname = \"Membranes4_PhaseSeparation\"\n",
    "outdir = os.path.join(\"output_systems\", sysname)\n",
    "os.makedirs(outdir, exist_ok=True)\n",
    "\n",
    "COBY.COBY(\n",
    "    ### Designates box size\n",
    "    box = [20, 20, 10], # [nm]\n",
    "    \n",
    "    ### Creates four membranes, which together span the x/y-plane\n",
    "    ### All center and x/y values are in [nm]\n",
    "    ### The plusses (+) in \"center\" are not needed, but they are shown for clarity\n",
    "    membrane = [\n",
    "        \"lipid:POPC:5 lipid:CHOL:1 center:+5:+5:0 xlength:10 ylength:10\", # top right\n",
    "        \"lipid:POPE:5 lipid:CHOL:1 center:-5:+5:0 xlength:10 ylength:10\", # top left\n",
    "        \"lipid:POPE:5 lipid:CHOL:1 center:+5:-5:0 xlength:10 ylength:10\", # bottom right\n",
    "        \"lipid:POPC:5 lipid:CHOL:1 center:-5:-5:0 xlength:10 ylength:10\", # bottom left\n",
    "    ],\n",
    "    \n",
    "    ### Solvates the system using the default solvation settings of \"solv:W pos:NA neg:CL\"\n",
    "    solvation = \"default\",\n",
    "    \n",
    "    ### Uses topologies found in \"toppar/top_for_COBY.itp\" for charge determination\n",
    "    itp_input = \"file:toppar/top_for_COBY.itp\",\n",
    "    \n",
    "    ### File writing\n",
    "    out_sys = os.path.join(outdir, \"_\".join([\"output\", sysname])),\n",
    "    out_top = os.path.join(outdir, \"_\".join([\"topol\",  sysname]) + \".top\"),\n",
    "    out_log = os.path.join(outdir, \"_\".join([\"log\",    sysname]) + \".log\"),\n",
    "    \n",
    "    ### Designates the system name that is written in .pdb, .gro and .top files\n",
    "    sn = sysname,\n",
    ")"
   ]
  },
  {
   "cell_type": "markdown",
   "metadata": {
    "heading_collapsed": true,
    "jp-MarkdownHeadingCollapsed": true
   },
   "source": [
    "# Membranes 5: Monolayers"
   ]
  },
  {
   "cell_type": "markdown",
   "metadata": {
    "hidden": true
   },
   "source": [
    "This example shows how to make two monolayers that are bridged by solvent on the headgroup side, and by vacuum on the tail side. The monolayers are created using the ``type:mono_lower`` and ``type:mono_upper`` subarguments such that the headgroups point towards each other.\n",
    "\n",
    "The membranes are offset by +5 and -5 in the z-axis. Since the box is 20 nm long in the z-axis, this leaves room for 10 nm of vacuum in total (5 nm at each end of the box).\n",
    "\n",
    "Solvent is designated only to be placed between the monolayers using the \"``zlength:10``\" subargument, which changes the size of the solvent box along the z-axis. By default, the solvent is centered in the middle of the simulation box."
   ]
  },
  {
   "cell_type": "markdown",
   "metadata": {
    "hidden": true
   },
   "source": [
    "<div>\n",
    "<!-- height argument does not work in jupyter for whatever reason. Can't find any help online. -->\n",
    "<img src=\"figures/Membranes5_Monolayers.png\" width=\"300px\"/>\n",
    "</div>"
   ]
  },
  {
   "cell_type": "code",
   "execution_count": null,
   "metadata": {
    "ExecuteTime": {
     "end_time": "2024-07-12T08:39:02.996128Z",
     "start_time": "2024-07-12T08:39:02.080806Z"
    },
    "hidden": true
   },
   "outputs": [],
   "source": [
    "sysname = \"Membranes5_Monolayers\"\n",
    "outdir = os.path.join(\"output_systems\", sysname)\n",
    "os.makedirs(outdir, exist_ok=True)\n",
    "\n",
    "COBY.COBY(\n",
    "    ### Designates box size\n",
    "    box = [10, 10, 20], # [nm]\n",
    "    \n",
    "    ### Creates two separate monolayer membranes, each placed in the center of the x/y-plane.\n",
    "    ### The plus signs (+) in \"center\" are not needed, but they are shown for clarity\n",
    "    membrane = [\n",
    "        \"type:mono_lower lipid:POPC center:0:0:+5\", # [nm]\n",
    "        \"type:mono_upper lipid:POPC center:0:0:-5\", # [nm]\n",
    "    ],\n",
    "    \n",
    "    ### Solvates the system using the default solvation settings of \"solv:W pos:NA neg:CL\"\n",
    "    ### The \"zlength:10\" subargument designates that the solvent box should only be 10 nm long along the z-axis\n",
    "    ### This results in solvent only being placed between the monolayers.\n",
    "    solvation = \"default zlength:10\",\n",
    "    \n",
    "    ### Uses topologies found in \"toppar/top_for_COBY.itp\" for charge determination\n",
    "    itp_input = \"file:toppar/top_for_COBY.itp\",\n",
    "    \n",
    "    ### File writing\n",
    "    out_sys = os.path.join(outdir, \"_\".join([\"output\", sysname])),\n",
    "    out_top = os.path.join(outdir, \"_\".join([\"topol\",  sysname]) + \".top\"),\n",
    "    out_log = os.path.join(outdir, \"_\".join([\"log\",    sysname]) + \".log\"),\n",
    "    \n",
    "    ### Designates the system name that is written in .pdb, .gro and .top files\n",
    "    sn = sysname,\n",
    ")"
   ]
  },
  {
   "cell_type": "markdown",
   "metadata": {
    "heading_collapsed": true,
    "jp-MarkdownHeadingCollapsed": true
   },
   "source": [
    "# Membranes 6: Lipid Optimization"
   ]
  },
  {
   "cell_type": "markdown",
   "metadata": {
    "hidden": true
   },
   "source": [
    "This example shows how to change the way intra-leaflet lipid-ratio optimization is handled.\n",
    "\n",
    "Note that lipid optimization is done on a leaflet-by-leaflet basis. The maximum number of lipids that COBY will insert in a leaflet is calculated from the following equation.\n",
    "\n",
    "- $\\text{N}_{\\text{max lipids}} = \\text{area}_{\\text{non-occupied}} / \\text{APL}$\n",
    "\n",
    "\n",
    "The minimum number of lipids that COBY will insert (except for the ``insane``, and ``abs_val`` options) is calculated by dividing the N<sub>max lipids</sub> out to each inserted lipid in their relative ratio and rounding down resulting in N<sub>min lipids</sub>. $\\text{w}$ is the weigth (or ratio) and $\\left \\lfloor \\text{value} \\right \\rfloor$ indicates the the value is rounded down.\n",
    "\n",
    "- $\\text{w}_{\\text{sum}} = \\sum_{i} \\text{w}_{i}$\n",
    "\n",
    "- $\\text{N}_{\\text{min lipids}} = \\sum_{i} \\left \\lfloor \\text{w}_{i} / \\text{w}_{\\text{sum}} \\cdot \\text{N}_{\\text{max lipids}} \\right \\rfloor$\n",
    "\n",
    "\n",
    "Lipid-ratio optimization can be done in multiple ways:\n",
    "- ``force_fill``: Starts at $\\text{N}_{\\text{min lipids}}$ and adds extra lipids to the most underrepresented lipid type until $\\text{N}_{\\text{max lipids}}$ is reached.\n",
    "\n",
    "- ``fill``: The same as ``force_fill`` except that it will stop if a perfect ratio between the lipid types is found.\n",
    "\n",
    "- ``avg_optimal``: Chooses the lipid distribution between $\\text{N}_{\\text{min lipids}}$ and $\\text{N}_{\\text{max lipids}}$ that results in lipid ratios closest to the requested lipid ratios.\n",
    "\n",
    "- ``no``: Does not try to optimise lipid ratio. $\\text{N}_{\\text{min lipids}}$ will be inserted.\n",
    "\n",
    "- ``abs_val``: Lipid ratios are treated as an exact number of lipids to be inserted, instead of ratios between the lipids. Note that this may cause more than $\\text{N}_{\\text{max lipids}}$ to be inserted, though a warning will be printed, if that is the case.\n",
    "\n",
    "- ``insane``: Compatability mode to insert the same number of lipids that ``insane.py`` would normally insert. Does not fully recreate the same number of lipids as insane if there are holes in the membrane (such as ones caused by proteins inserted in the membrane).\n"
   ]
  },
  {
   "cell_type": "markdown",
   "metadata": {
    "hidden": true
   },
   "source": [
    "The following table includes some general information about the system being created."
   ]
  },
  {
   "cell_type": "markdown",
   "metadata": {
    "hidden": true
   },
   "source": [
    "\n",
    "|                     |                                  |                                   |              |\n",
    "|:-------------------:|:--------------------------------:|:---------------------------------:|:------------:|\n",
    "|        Lipids       | POPC : POPE : DLPC : DLPE : CHOL |   $\\text{N}_{\\text{max lipids}}$  |                    375                   |\n",
    "|     Given ratios    |   7.15 : 3.3 : 3.1 : 4.4 : 1.85  |   $\\text{N}_{\\text{min lipids}}$  |                    373                   |"
   ]
  },
  {
   "cell_type": "markdown",
   "metadata": {
    "hidden": true
   },
   "source": [
    "The following table shows the ratios, number of lipids, total lipids and deviation from the ideal for each of the optimization methods."
   ]
  },
  {
   "cell_type": "markdown",
   "metadata": {
    "hidden": true
   },
   "source": [
    "|                     |                                  |                                   |              |                                          |\n",
    "|:-------------------:|:--------------------------------:|:---------------------------------:|:------------:|:----------------------------------------:|\n",
    "| Optimization method |               Resulting ratios             |          Number of lipids         | Total lipids | Deviation in number of lipids from Ideal |\n",
    "|      **Ideal**      |  36.1 : 16.7 : 15.7 : 22.2 : 9.3 | 135.4 : 62.5 : 58.7 : 83.3 : 35.0 |      375     |                 Reference                |\n",
    "|      force_fill     |  36.0 : 16.8 : 15.7 : 22.1 : 9.3 |      135 : 63 : 59 : 83 : 35      |      375     |        -0.4 : 0.5 : 0.3 : -0.3 : 0       |\n",
    "|         fill        |  36.0 : 16.8 : 15.7 : 22.1 : 9.3 |      135 : 63 : 59 : 83 : 35      |      375     |        -0.4 : 0.5 : 0.3 : -0.3 : 0       |\n",
    "|     avg_optimal     |  36.1 : 16.6 : 15.8 : 22.2 : 9.4 |      135 : 62 : 59 : 83 : 35      |      374     |       -0.4 : -0.5 : 0.3 : -0.3 : 0       |\n",
    "|          no         |  36.2 : 16.6 : 15.5 : 22.3 : 9.4 |      135 : 62 : 58 : 83 : 35      |      373     |       -0.4 : -0.5 : -0.7 : -0.3 : 0      |\n",
    "|       abs_val       | 36.8 : 15.8 : 15.8 : 21.1 : 10.5 |         7 : 3 : 3 : 4 : 2         |      19      |               Not relevant               |\n",
    "|        insane       |  36.2 : 16.7 : 15.6 : 22.3 : 9.2 |      130 : 60 : 56 : 80 : 33      |      359     |      -5.4 : -2.5 : -2.7 : -3.3 : -2      |"
   ]
  },
  {
   "cell_type": "markdown",
   "metadata": {
    "hidden": true
   },
   "source": [
    "<div>\n",
    "<!-- height argument does not work in jupyter for whatever reason. Can't find any help online. -->\n",
    "<img src=\"figures/Membranes6_LipidOptimization.png\" width=\"400px\"/>\n",
    "</div>"
   ]
  },
  {
   "cell_type": "code",
   "execution_count": null,
   "metadata": {
    "ExecuteTime": {
     "end_time": "2024-07-12T08:39:04.247031Z",
     "start_time": "2024-07-12T08:39:02.998272Z"
    },
    "hidden": true,
    "scrolled": true
   },
   "outputs": [],
   "source": [
    "import math\n",
    "\n",
    "sysname = \"Membranes6_LipidOptimization\"\n",
    "outdir = os.path.join(\"output_systems\", sysname)\n",
    "os.makedirs(outdir, exist_ok=True)\n",
    "\n",
    "COBY.COBY(\n",
    "    ### Designates box size\n",
    "    box = [15, 15, 10], # [nm]\n",
    "\n",
    "    ### Inserts a complex membrane\n",
    "    membrane = \" \".join([\n",
    "        ### Five lipid types are inserted with indicated ratios.\n",
    "        \"lipid:POPC:7.15 lipid:POPE:3.3 lipid:DLPC:3.1 lipid:DLPE:4.4 lipid:CHOL:1.85\",\n",
    "        \n",
    "        ### Area-per-lipid\n",
    "        ### APL is by default 0.6 [nm^2 * lipid^-1]\n",
    "        ### Shown in this example for clarity\n",
    "        \"apl:0.6\",\n",
    "        \n",
    "        ### The available lipid optimization arguments. Comment/uncomment to see the effect of different ones.\n",
    "        ### Verbose has also been set to 2 further down. This allows some composition specific information to be printed to the terminal.\n",
    "        ### See the printout under \"CALCULATING LIPID RATIOS\".\n",
    "        \"lipid_optim:force_fill\", # default\n",
    "#         \"lipid_optim:fill\",\n",
    "#         \"lipid_optim:avg_optimal\",\n",
    "#         \"lipid_optim:no\",\n",
    "#         \"lipid_optim:abs_val\",\n",
    "#         \"lipid_optim:insane\",\n",
    "    ]),\n",
    "\n",
    "    ### Solvates the system using the default solvation settings of \"solv:W pos:NA neg:CL\"\n",
    "    solvation = \"default\",\n",
    "\n",
    "    ### Uses topologies found in \"toppar/top_for_COBY.itp\" for charge determination\n",
    "    itp_input = \"file:toppar/top_for_COBY.itp\",\n",
    "\n",
    "    ### File writing\n",
    "    out_sys = os.path.join(outdir, \"_\".join([\"output\", sysname])),\n",
    "    out_top = os.path.join(outdir, \"_\".join([\"topol\",  sysname]) + \".top\"),\n",
    "    out_log = os.path.join(outdir, \"_\".join([\"log\",    sysname]) + \".log\"),\n",
    "\n",
    "    ### Designates the system name that is written in .pdb, .gro and .top files\n",
    "    sn = sysname,\n",
    "    \n",
    "    ### Verbose of 2 or higher results in printing of membrane and leaflet specific information.\n",
    "    ### Lipid distribution is broken down in the printout under \"CALCULATING LIPID RATIOS\".\n",
    "    verbose = 2,\n",
    ")"
   ]
  },
  {
   "cell_type": "markdown",
   "metadata": {
    "heading_collapsed": true,
    "jp-MarkdownHeadingCollapsed": true
   },
   "source": [
    "# Nanodisc"
   ]
  },
  {
   "cell_type": "markdown",
   "metadata": {
    "hidden": true
   },
   "source": [
    "This example shows how to insert a nanodisc with a membrane contained within. \n",
    "\n",
    "The nanodisc is inserted as a protein with the ``protein`` subargument ``membrane_border:True`` being used to tell COBY that membranes should be allowed to be placed within the protein.\n",
    "\n",
    "A membrane consisting of DMPC is placed inside the nanodisc by specifying under ``membrane`` subargument ``inside_protein:True``, which tells COBY that this particular membrane should be placed inside proteins that have ``membrane_border:True`` set.\n"
   ]
  },
  {
   "cell_type": "markdown",
   "metadata": {
    "hidden": true
   },
   "source": [
    "<div>\n",
    "<!-- height argument does not work in jupyter for whatever reason. Can't find any help online. -->\n",
    "<img src=\"figures/Nanodisc.png\" width=\"300px\"/>\n",
    "</div>"
   ]
  },
  {
   "cell_type": "code",
   "execution_count": null,
   "metadata": {
    "ExecuteTime": {
     "end_time": "2024-07-12T08:39:08.840611Z",
     "start_time": "2024-07-12T08:39:04.249625Z"
    },
    "hidden": true,
    "scrolled": false
   },
   "outputs": [],
   "source": [
    "sysname = \"Nanodisc\"\n",
    "outdir = os.path.join(\"output_systems\", sysname)\n",
    "os.makedirs(outdir, exist_ok=True)\n",
    "\n",
    "test = COBY.COBY(\n",
    "    ### Designates box size\n",
    "    box = [20, 20, 12], # [nm]\n",
    "    \n",
    "    ### Makes a simple DMPC membrane\n",
    "    membrane = \" \".join([\n",
    "        \"lipid:DMPC:charge:lib\", # params:Generated_Lipids\n",
    "        \"inside_protein:True\",\n",
    "        ### Sets that the membrane plane should be solvated (the part of the plane that is outside the nanodisc)\n",
    "        \"solvate_hole:True\",\n",
    "    ]),\n",
    "    \n",
    "    ### Inserts proteins\n",
    "    protein = [\n",
    "        \" \".join([\n",
    "            ### Both rings of the nanodisc are contained in the same .pdb file\n",
    "            \"file:example_proteins/6clz_nanodisc_martinized.pdb\",\n",
    "            ### References the moleculetypes for the two rings\n",
    "            \"moleculetypes:nanodisc_ring1:nanodisc_ring2\",\n",
    "            ### Sets that this protein should be treated as a membrane border for membranes with \"inside_protein:True\"\n",
    "            \"membrane_border:True\",\n",
    "        ]),\n",
    "    ],\n",
    "    \n",
    "    ### Solvates the system using the default solvation settings of \"solv:W pos:NA neg:CL\"\n",
    "    solvation = \"default\",\n",
    "    \n",
    "    ### Uses topologies found in \"toppar/top_for_COBY.itp\" for charge determination\n",
    "    ### Adds the .itp files for the two rings of the nanodisc using two \"inlcude:\" subarguments\n",
    "    itp_input =  [\n",
    "        \"file:toppar/top_for_COBY.itp\",\n",
    "        \"include:toppar/Nanodisc/6clz_nanodisc_martinized_ring1.itp\",\n",
    "        \"include:toppar/Nanodisc/6clz_nanodisc_martinized_ring2.itp\",\n",
    "    ],\n",
    "    \n",
    "    ### File writing\n",
    "    out_sys = os.path.join(outdir, \"_\".join([\"output\", sysname])),\n",
    "    out_top = os.path.join(outdir, \"_\".join([\"topol\",  sysname]) + \".top\"),\n",
    "    out_log = os.path.join(outdir, \"_\".join([\"log\",    sysname]) + \".log\"),\n",
    "    \n",
    "    ### Designates the system name\n",
    "    sn = sysname,\n",
    ")"
   ]
  },
  {
   "cell_type": "markdown",
   "metadata": {
    "heading_collapsed": true,
    "jp-MarkdownHeadingCollapsed": true
   },
   "source": [
    "# Holes"
   ]
  },
  {
   "cell_type": "markdown",
   "metadata": {
    "hidden": true
   },
   "source": [
    "Holes in the membrane can be made using the ``hole`` subargument within the ``membrane`` argument. \n",
    "\n",
    "The ``hole`` subargument is followed by hole shape and dimensions (the number of required dimensions is dependent on the hole shape).\n",
    "\n",
    "Available hole shapes (and required dimensions) are:\n",
    "\n",
    "- ``circle:radius:[float]:cx:[float]:cy:[float]`` - The hole is circular in shape, with a designated radius and x and y positions in the x/y plane.\n",
    "\n",
    "- ``ellipse:xradius:[float]:yradius:[float]:cx:[float]:cy:[float]`` - Makes an ellipsoidal hole with an x-radius, a y-radius, and centered at coordinates in the x/y plane.\n",
    "\n",
    "- ``square:length:[float]:cx:[float]:cy:[float]`` - Makes a square hole, specified using a sidelength value and positioned using the x and y positions.\n",
    "\n",
    "- ``rectangle:xlength:[float]:ylength:[float]:cx:[float]:cy:[float]`` - Makes a rectangle hole that is specified using the two sidelengths and center coordinates in the x/y plane.\n",
    "\n",
    "- ``polygon:point:[float]:[float]:point:[float]:[float]:point:[float]:[float]``(...) - Creates a polygonal hole, where the polygon shape is specified by point coordinates in the x/y plane. The two float values after ``point`` are x- and y-coordinate values. Any number of ``point`` subarguments can be added, but a minimum of three are required.\n"
   ]
  },
  {
   "cell_type": "markdown",
   "metadata": {
    "heading_collapsed": true,
    "hidden": true
   },
   "source": [
    "## Holes 1: Holed Membrane with Solvent in Hole"
   ]
  },
  {
   "cell_type": "markdown",
   "metadata": {
    "hidden": true
   },
   "source": [
    "This example creates a single membrane with a circular hole which is offset in the x-axis using the argument: ``hole:circle:radius:cx:cy``. Solvent is by default placed within the hole in the membrane.\n"
   ]
  },
  {
   "cell_type": "markdown",
   "metadata": {
    "hidden": true
   },
   "source": [
    "<div>\n",
    "<!-- height argument does not work in jupyter for whatever reason. Can't find any help online. -->\n",
    "<img src=\"figures/Holes1_HoledMembrane_HoleFilled.png\" width=\"400px\"/>\n",
    "</div>"
   ]
  },
  {
   "cell_type": "code",
   "execution_count": null,
   "metadata": {
    "ExecuteTime": {
     "end_time": "2024-07-12T08:39:10.838067Z",
     "start_time": "2024-07-12T08:39:08.842964Z"
    },
    "hidden": true
   },
   "outputs": [],
   "source": [
    "sysname = \"Holes1_HoledMembrane_HoleFilled\"\n",
    "outdir = os.path.join(\"output_systems\", sysname)\n",
    "os.makedirs(outdir, exist_ok=True)\n",
    "\n",
    "COBY.COBY(\n",
    "    box = [20, 20, 10], # [nm]\n",
    "    \n",
    "    membrane = \" \".join([\n",
    "        ### Creates a membrane consisting of POPC\n",
    "        \"lipid:POPC\",\n",
    "        \n",
    "        ### Makes a circular hole with a radius of 3 nm centered at (-5 nm, 0 nm)\n",
    "        \"hole:circle:radius:3:cx:-5:cy:0\",\n",
    "    ]),\n",
    "    \n",
    "    ### Solvates the system using the default solvation settings of \"solv:W pos:NA neg:CL\"\n",
    "    solvation = \"default\",\n",
    "    \n",
    "    ### Uses topologies found in \"toppar/top_for_COBY.itp\" for charge determination\n",
    "    itp_input = \"file:toppar/top_for_COBY.itp\",\n",
    "    \n",
    "    ### File writing\n",
    "    out_sys = os.path.join(outdir, \"_\".join([\"output\", sysname])),\n",
    "    out_top = os.path.join(outdir, \"_\".join([\"topol\",  sysname]) + \".top\"),\n",
    "    out_log = os.path.join(outdir, \"_\".join([\"log\",    sysname]) + \".log\"),\n",
    "    \n",
    "    ### Designates the system name\n",
    "    sn = sysname,\n",
    ")\n"
   ]
  },
  {
   "cell_type": "markdown",
   "metadata": {
    "heading_collapsed": true,
    "hidden": true
   },
   "source": [
    "## Holes 2: Holed Membrane without Solvent in Hole"
   ]
  },
  {
   "cell_type": "markdown",
   "metadata": {
    "hidden": true
   },
   "source": [
    "This example is identical to the previous one, except that the hole is not filled with solvent by using the ``solvate_hole:False`` subargument within the membrane argument."
   ]
  },
  {
   "cell_type": "markdown",
   "metadata": {
    "hidden": true
   },
   "source": [
    "<div>\n",
    "<!-- height argument does not work in jupyter for whatever reason. Can't find any help online. -->\n",
    "<img src=\"figures/Holes2_HoledMembrane_HoleEmpty.png\" width=\"400px\"/>\n",
    "</div>"
   ]
  },
  {
   "cell_type": "code",
   "execution_count": null,
   "metadata": {
    "ExecuteTime": {
     "end_time": "2024-07-12T08:39:12.721566Z",
     "start_time": "2024-07-12T08:39:10.839779Z"
    },
    "hidden": true
   },
   "outputs": [],
   "source": [
    "sysname = \"Holes2_HoledMembrane_HoleEmpty\"\n",
    "outdir = os.path.join(\"output_systems\", sysname)\n",
    "os.makedirs(outdir, exist_ok=True)\n",
    "\n",
    "COBY.COBY(\n",
    "    box = [20, 20, 10], # [nm]\n",
    "    \n",
    "    membrane = \" \".join([\n",
    "        ### Creates a membrane consisting of POPC \n",
    "        \"lipid:POPC\",\n",
    "        \n",
    "        ### Makes a circular hole with a radius of 3 nm centered at (-5 nm, 0 nm)\n",
    "        \"hole:circle:radius:3:cx:-5:cy:0\",\n",
    "        \n",
    "        ### This subargument prevents solvent from being placed within any holes that may be present in this membrane\n",
    "        \"solvate_hole:False\",\n",
    "    ]),\n",
    "\n",
    "    solvation = \"default\",\n",
    "    \n",
    "    ### Uses topologies found in \"toppar/top_for_COBY.itp\" for charge determination\n",
    "    itp_input = \"file:toppar/top_for_COBY.itp\",\n",
    "    \n",
    "    ### File writing\n",
    "    out_sys = os.path.join(outdir, \"_\".join([\"output\", sysname])),\n",
    "    out_top = os.path.join(outdir, \"_\".join([\"topol\",  sysname]) + \".top\"),\n",
    "    out_log = os.path.join(outdir, \"_\".join([\"log\",    sysname]) + \".log\"),\n",
    "    \n",
    "    ### Designates the system name\n",
    "    sn = sysname,\n",
    ")\n"
   ]
  },
  {
   "cell_type": "markdown",
   "metadata": {
    "heading_collapsed": true,
    "hidden": true
   },
   "source": [
    "## Holes 3: Multiple Holes"
   ]
  },
  {
   "cell_type": "markdown",
   "metadata": {
    "hidden": true
   },
   "source": [
    "This example creates a single membrane with multiple holes.\n",
    "\n",
    "-  A circular hole is made in the bottom left corner of the membrane with a center of (-5 nm, -5 nm).\n",
    "\n",
    "-  An ellipsoidal hole is made in the top left corner of the membrane with a center of (-5 nm, 5 nm).\n",
    "\n",
    "-  A square hole is made in the top right corner of the membrane with a center of (5 nm, 5 nm).\n",
    "\n",
    "-  A rectangular hole is made in the bottom right corner of the membrane with a center of (5 nm, -5 nm).\n",
    "\n",
    "The system is solvated using default solvation settings.\n"
   ]
  },
  {
   "cell_type": "markdown",
   "metadata": {
    "hidden": true
   },
   "source": [
    "<div>\n",
    "<!-- height argument does not work in jupyter for whatever reason. Can't find any help online. -->\n",
    "<img src=\"figures/Holes3_MultipleHoles.png\" width=\"400px\"/>\n",
    "</div>"
   ]
  },
  {
   "cell_type": "code",
   "execution_count": null,
   "metadata": {
    "ExecuteTime": {
     "end_time": "2024-07-12T08:39:14.562208Z",
     "start_time": "2024-07-12T08:39:12.726434Z"
    },
    "hidden": true,
    "scrolled": true
   },
   "outputs": [],
   "source": [
    "sysname = \"Holes3_MultipleHoles\"\n",
    "outdir = os.path.join(\"output_systems\", sysname)\n",
    "os.makedirs(outdir, exist_ok=True)\n",
    "\n",
    "COBY.COBY(\n",
    "    box = [20, 20, 10], # [nm]\n",
    "    \n",
    "    membrane = \" \".join([\n",
    "        ### Creates a membrane consisting of POPC \n",
    "        \"lipid:POPC\",\n",
    "        \n",
    "        ### Makes a circular hole with a radius of 3 nm; centered at 5 nm, -5 nm)\n",
    "        \"hole:circle:radius:3:cx:-5:cy:-5\",\n",
    "        \n",
    "        ### Makes a ellipsoidal hole with an x-radius of 1.5 nm; a y-radius of 3 nm; centered at (-5 nm, 5 nm)\n",
    "        \"hole:ellipse:xradius:1.5:yradius:3:cx:-5:cy:5\",\n",
    "        \n",
    "        ### Makes a square hole with a sidelength of 5 nm; centered at (5 nm, 5 nm)\n",
    "        \"hole:square:length:5:cx:5:cy:5\",\n",
    "        \n",
    "        ### Makes a rectangular hole with an x-sidelength of 2 nm; a y-sidelength of 6 nm; centered at (5 nm, -5 nm)\n",
    "        \"hole:rectangle:xlength:2:ylength:6:cx:5:cy:-5\",\n",
    "    ]),\n",
    "    \n",
    "    ### Solvates the system using the default solvation settings of \"solv:W pos:NA neg:CL\"\n",
    "    solvation = \"default\",\n",
    "    \n",
    "    ### Uses topologies found in \"toppar/top_for_COBY.itp\" for charge determination\n",
    "    itp_input = \"file:toppar/top_for_COBY.itp\",\n",
    "    \n",
    "    ### File writing\n",
    "    out_sys = os.path.join(outdir, \"_\".join([\"output\", sysname])),\n",
    "    out_top = os.path.join(outdir, \"_\".join([\"topol\",  sysname]) + \".top\"),\n",
    "    out_log = os.path.join(outdir, \"_\".join([\"log\",    sysname]) + \".log\"),\n",
    "    \n",
    "    ### Designates the system name\n",
    "    sn = sysname,\n",
    ")\n"
   ]
  },
  {
   "cell_type": "markdown",
   "metadata": {
    "heading_collapsed": true,
    "hidden": true
   },
   "source": [
    "## Holes 4: Polygons"
   ]
  },
  {
   "cell_type": "markdown",
   "metadata": {
    "hidden": true
   },
   "source": [
    "This example creates a single membrane with two holes formed in the shape of arbitrary polygons.\n",
    "\n",
    "The points of the polygons are defined by using a number of ``point:x:y`` within the ``hole:polygon`` subargument. Because the points are defined in the x/y plane, we do not need to specify the centre of each polygon. \n",
    "\n",
    "The system is solvated using default solvation settings. Note that the holes are filled with solvent."
   ]
  },
  {
   "cell_type": "markdown",
   "metadata": {
    "hidden": true
   },
   "source": [
    "<div>\n",
    "<!-- height argument does not work in jupyter for whatever reason. Can't find any help online. -->\n",
    "<img src=\"figures/Holes4_Polygons.png\" width=\"400px\"/>\n",
    "</div>"
   ]
  },
  {
   "cell_type": "code",
   "execution_count": null,
   "metadata": {
    "ExecuteTime": {
     "end_time": "2024-07-12T08:39:16.634105Z",
     "start_time": "2024-07-12T08:39:14.563898Z"
    },
    "hidden": true
   },
   "outputs": [],
   "source": [
    "sysname = \"Holes4_Polygons\"\n",
    "outdir = os.path.join(\"output_systems\", sysname)\n",
    "os.makedirs(outdir, exist_ok=True)\n",
    "\n",
    "COBY.COBY(\n",
    "    box = [20, 20, 10], # [nm]\n",
    "    \n",
    "    membrane = \" \".join([\n",
    "        ### Creates a membrane consisting of POPC \n",
    "        \"lipid:POPC\",\n",
    "        \n",
    "        ### Creates a polygonal hole\n",
    "        ### \"hole:polygon\" followed by multiple \"point:x:y\"\n",
    "        \"hole:polygon:point:-3:3:point:3:3:point:5:7:point:7:-5:point:3:-2:point:-2:-5:point:0:-2\",\n",
    "        \n",
    "        ### Creates a second polygonal hole\n",
    "        ### \"hole:polygon\" followed by multiple \"point:x:y\"\n",
    "        \"hole:polygon:point:-4:-3:point:-8:-5:point:-8:7:point:-2:6:point:-5:5:point:-5:0\",\n",
    "    ]),\n",
    "    \n",
    "    ### Solvates the system using the default solvation settings of \"solv:W pos:NA neg:CL\"\n",
    "    solvation = \"default\",\n",
    "    \n",
    "    ### Uses topologies found in \"toppar/top_for_COBY.itp\" for charge determination\n",
    "    itp_input = \"file:toppar/top_for_COBY.itp\",\n",
    "    \n",
    "    ### File writing\n",
    "    out_sys = os.path.join(outdir, \"_\".join([\"output\", sysname])),\n",
    "    out_top = os.path.join(outdir, \"_\".join([\"topol\",  sysname]) + \".top\"),\n",
    "    out_log = os.path.join(outdir, \"_\".join([\"log\",    sysname]) + \".log\"),\n",
    "    \n",
    "    ### Designates the system name\n",
    "    sn = sysname,\n",
    ")\n"
   ]
  },
  {
   "cell_type": "markdown",
   "metadata": {
    "heading_collapsed": true,
    "jp-MarkdownHeadingCollapsed": true
   },
   "source": [
    "# Patches"
   ]
  },
  {
   "cell_type": "markdown",
   "metadata": {
    "hidden": true
   },
   "source": [
    "Similarly to the ``holes`` subargument, the ``patch`` subargument can be used to create patches of membrane within the x/y plane. Allowed shapes are the same as with the ``hole`` subargument. \n",
    "\n",
    "Available patch shapes (and required dimensions) are:\n",
    "\n",
    "- ``circle:radius:[float]:cx:[float]:xy:[float]`` - The patch is circular in shape, with a designated radius and x and y positions in the x/y plane.\n",
    "\n",
    "- ``ellipse:xradius:[float]:yradius:[float]:cx:[float]:cy:[float]`` - Makes a ellipsoidal patch with an x-radius, a y-radius, and centered at coordinates in the x/y plane.\n",
    "\n",
    "- ``square:length:[float]:cx:[float]:cy:[float]`` - Makes a square patch, specified using a sidelength value and positioned using the x and y positions.\n",
    "\n",
    "- ``rectangle:xlength:[float]:ylength:[float]:cx:[float]:cy:[float]`` - Makes a rectangle patch that is specified using the two sidelengths and center coordinates in the x/y plane.\n",
    "\n",
    "- ``polygon:point:[float]:[float]:point:[float]:[float]:point:[float]:[float]``(...) - Creates a polygonal patch, where the polygon shape is specified by point coordinates in the x/y plane. The two float values after ``point`` are x- and y-coordinate values. Any number of ``point`` subarguments can be added but a minimum of three are required.\n",
    "\n",
    "Note that the patch lipid composition is passed to the ``lipid`` subargument. As such, each ``patch`` within the same ``membrane`` argument have the same lipid composition. To create patches with individual lipid compositions, they can be specified in separate ``membrane`` arguments. "
   ]
  },
  {
   "cell_type": "markdown",
   "metadata": {
    "heading_collapsed": true,
    "hidden": true
   },
   "source": [
    "## Patches 1: Circular Membrane with Solvent in Membrane Plane"
   ]
  },
  {
   "cell_type": "markdown",
   "metadata": {
    "ExecuteTime": {
     "end_time": "2024-01-12T13:13:13.191037Z",
     "start_time": "2024-01-12T13:13:13.186782Z"
    },
    "hidden": true
   },
   "source": [
    "This example creates a circular membrane patch consisting of POPC and CHOL in 5:1 ratio.\n",
    "\n",
    "The system is solvated using default solvation settings. Note that the membrane plane that does not contain a patch is instead filled with solvent."
   ]
  },
  {
   "cell_type": "markdown",
   "metadata": {
    "hidden": true
   },
   "source": [
    "<div>\n",
    "<!-- height argument does not work in jupyter for whatever reason. Can't find any help online. -->\n",
    "<img src=\"figures/Patches1_CircularMembrane_SolventInMembrane.png\" width=\"400px\"/>\n",
    "</div>"
   ]
  },
  {
   "cell_type": "code",
   "execution_count": null,
   "metadata": {
    "ExecuteTime": {
     "end_time": "2024-07-12T08:39:18.041467Z",
     "start_time": "2024-07-12T08:39:16.635462Z"
    },
    "hidden": true,
    "scrolled": true
   },
   "outputs": [],
   "source": [
    "sysname = \"Patches1_CircularMembrane_SolventInMembrane\"\n",
    "outdir = os.path.join(\"output_systems\", sysname)\n",
    "os.makedirs(outdir, exist_ok=True)\n",
    "\n",
    "COBY.COBY(\n",
    "    box = [20, 20, 10], # [nm]\n",
    "    \n",
    "    membrane = \" \".join([\n",
    "        ### Creates a membrane consisting of POPC and CHOL in a 5:1 ratio \n",
    "        \"lipid:POPC:5 lipid:CHOL:1\",\n",
    "        \n",
    "        ### Turns the membrane into a circular membrane patch\n",
    "        \"patch:circle:radius:5:cx:0:cy:0\",\n",
    "    ]),\n",
    "    \n",
    "    ### Solvates the system using the default solvation settings of \"solv:W pos:NA neg:CL\"\n",
    "    solvation = \"default\",\n",
    "    \n",
    "    ### Uses topologies found in \"toppar/top_for_COBY.itp\" for charge determination\n",
    "    itp_input = \"file:toppar/top_for_COBY.itp\",\n",
    "    \n",
    "    ### File writing\n",
    "    out_sys = os.path.join(outdir, \"_\".join([\"output\", sysname])),\n",
    "    out_top = os.path.join(outdir, \"_\".join([\"topol\",  sysname]) + \".top\"),\n",
    "    out_log = os.path.join(outdir, \"_\".join([\"log\",    sysname]) + \".log\"),\n",
    "    \n",
    "    ### Designates the system name\n",
    "    sn = sysname,\n",
    ")\n"
   ]
  },
  {
   "cell_type": "markdown",
   "metadata": {
    "heading_collapsed": true,
    "hidden": true
   },
   "source": [
    "## Patches 2: Circular Membrane without Solvent in Membrane Plane"
   ]
  },
  {
   "cell_type": "markdown",
   "metadata": {
    "hidden": true
   },
   "source": [
    "This example is identical to the previous one, except here the membrane plane is not solvated. This is achieved by using the ``solvate_hole:False`` subargument within the ``membrane`` argument."
   ]
  },
  {
   "cell_type": "markdown",
   "metadata": {
    "hidden": true
   },
   "source": [
    "<div>\n",
    "<!-- height argument does not work in jupyter for whatever reason. Can't find any help online. -->\n",
    "<img src=\"figures/Patches2_CircularMembrane_SolventNotInMembrane.png\" width=\"400px\"/>\n",
    "</div>"
   ]
  },
  {
   "cell_type": "code",
   "execution_count": null,
   "metadata": {
    "ExecuteTime": {
     "end_time": "2024-07-12T08:39:19.791804Z",
     "start_time": "2024-07-12T08:39:18.044785Z"
    },
    "code_folding": [],
    "hidden": true,
    "scrolled": true
   },
   "outputs": [],
   "source": [
    "sysname = \"Patches2_CircularMembrane_SolventNotInMembrane\"\n",
    "outdir = os.path.join(\"output_systems\", sysname)\n",
    "os.makedirs(outdir, exist_ok=True)\n",
    "\n",
    "COBY.COBY(\n",
    "    box = [20, 20, 10], # [nm]\n",
    "    \n",
    "    membrane = \" \".join([\n",
    "        ### Creates a membrane consisting of POPC and CHOL in a 5:1 ratio \n",
    "        \"lipid:POPC:5 lipid:CHOL:1\",\n",
    "        \n",
    "        ### Prevents solvent from being placed in the parts of the membrane have been removed\n",
    "        \"solvate_hole:False\",\n",
    "        \n",
    "        ### Turns the membrane into a circular membrane patch\n",
    "        \"patch:circle:radius:5:cx:0:cy:0\",\n",
    "    ]),\n",
    "    \n",
    "    ### Solvates the system using the default solvation settings of \"solv:W pos:NA neg:CL\"\n",
    "    solvation = \"default\",\n",
    "    \n",
    "    ### Uses topologies found in \"toppar/top_for_COBY.itp\" for charge determination\n",
    "    itp_input = \"file:toppar/top_for_COBY.itp\",\n",
    "    \n",
    "    ### File writing\n",
    "    out_sys = os.path.join(outdir, \"_\".join([\"output\", sysname])),\n",
    "    out_top = os.path.join(outdir, \"_\".join([\"topol\",  sysname]) + \".top\"),\n",
    "    out_log = os.path.join(outdir, \"_\".join([\"log\",    sysname]) + \".log\"),\n",
    "    \n",
    "    ### Designates the system name\n",
    "    sn = sysname,\n",
    ")\n"
   ]
  },
  {
   "cell_type": "markdown",
   "metadata": {
    "heading_collapsed": true,
    "hidden": true
   },
   "source": [
    "## Patches 3: Multiple Patches"
   ]
  },
  {
   "cell_type": "markdown",
   "metadata": {
    "hidden": true
   },
   "source": [
    "This example creates an oddly shaped membrane patch by using multiple calls to the ``patch`` subargument.\n",
    "\n",
    "When ``patch`` is used multiple times within one argument, then the defined patches are joined together in case they touch each other. Otherwise they are processed independently as separate membranes."
   ]
  },
  {
   "cell_type": "markdown",
   "metadata": {
    "hidden": true
   },
   "source": [
    "<div>\n",
    "<!-- height argument does not work in jupyter for whatever reason. Can't find any help online. -->\n",
    "<img src=\"figures/Patches3_MultiplePatches.png\" width=\"400px\"/>\n",
    "</div>"
   ]
  },
  {
   "cell_type": "code",
   "execution_count": null,
   "metadata": {
    "ExecuteTime": {
     "end_time": "2024-07-12T08:39:21.458961Z",
     "start_time": "2024-07-12T08:39:19.794730Z"
    },
    "hidden": true,
    "scrolled": true
   },
   "outputs": [],
   "source": [
    "sysname = \"Patches3_MultiplePatches\"\n",
    "outdir = os.path.join(\"output_systems\", sysname)\n",
    "os.makedirs(outdir, exist_ok=True)\n",
    "\n",
    "COBY.COBY(\n",
    "    box = [20, 20, 10], # [nm]\n",
    "    \n",
    "    membrane = \" \".join([\n",
    "        ### Creates a membrane consisting of POPC \n",
    "        \"lipid:POPC\",\n",
    "        \n",
    "        ### ### The following patches are joined together into a single membrane patch due to overlapping with each other\n",
    "        ### Creates a circular membrane patch\n",
    "        ### \"patch:ellipse:xradius:yradius:cx:cy\"\n",
    "        \"patch:ellipse:xradius:3:yradius:4:cx:0:cy:1\",\n",
    "        \n",
    "        ### Creates a rectangular membrane patch\n",
    "        \"patch:rectangle:xlength:10:ylength:4:cx:0:cy:6\",\n",
    "        \n",
    "        ### Creates a polygonal membrane patch\n",
    "        ### The polygon has been made to resemble a triangle\n",
    "        \"patch:polygon:point:0:0:point:7:-7:point:-7:-7\",\n",
    "        \n",
    "        ### ### The following patches are not joined with each other or the above ones due to not overlapping\n",
    "        ### Creates a square membrane patch\n",
    "        \"patch:square:length:4:cx:-7:cy:0\",\n",
    "        \n",
    "        ### Creates a square membrane patch\n",
    "        ### \"patch:circle:radius:cx:cy\"\n",
    "        \"patch:circle:radius:2:cx:7:cy:0\",\n",
    "    ]),\n",
    "    \n",
    "    ### Solvates the system using the default solvation settings of \"solv:W pos:NA neg:CL\"\n",
    "    solvation = \"default\",\n",
    "    \n",
    "    ### Uses topologies found in \"toppar/top_for_COBY.itp\" for charge determination\n",
    "    itp_input = \"file:toppar/top_for_COBY.itp\",\n",
    "    \n",
    "    ### File writing\n",
    "    out_sys = os.path.join(outdir, \"_\".join([\"output\", sysname])),\n",
    "    out_top = os.path.join(outdir, \"_\".join([\"topol\",  sysname]) + \".top\"),\n",
    "    out_log = os.path.join(outdir, \"_\".join([\"log\",    sysname]) + \".log\"),\n",
    "    \n",
    "    ### Designates the system name\n",
    "    sn = sysname,\n",
    ")\n"
   ]
  },
  {
   "cell_type": "markdown",
   "metadata": {
    "heading_collapsed": true,
    "jp-MarkdownHeadingCollapsed": true
   },
   "source": [
    "# Holes and Patches"
   ]
  },
  {
   "cell_type": "markdown",
   "metadata": {
    "hidden": true
   },
   "source": [
    "We can also elegantly combine ``hole`` and ``patch`` subarguments to create phase separated membranes beyond the rectangle shapes (shown in the previous example _Membranes 4: Phase Separation_). "
   ]
  },
  {
   "cell_type": "markdown",
   "metadata": {
    "heading_collapsed": true,
    "hidden": true
   },
   "source": [
    "## Holes and Patches 1: Phase Separation"
   ]
  },
  {
   "cell_type": "markdown",
   "metadata": {
    "hidden": true
   },
   "source": [
    "This example creates two membranes:\n",
    "\n",
    "- The first membrane consists of POPC lipids with a hole at position (0 nm, 5 nm) with a radius of 3 nm.\n",
    "\n",
    "- The second membrane is a CHOL patch at position (0 nm, 5 nm) with a radius of 3 nm.\n",
    "\n",
    "This setup results in two differently-shaped membranes occupying the same x/y plane, thereby creating a phase-separated bilayer system.\n"
   ]
  },
  {
   "cell_type": "markdown",
   "metadata": {
    "hidden": true
   },
   "source": [
    "<div>\n",
    "<!-- height argument does not work in jupyter for whatever reason. Can't find any help online. -->\n",
    "<img src=\"figures/HolesAndPatches1_PhaseSeparation.png\" width=\"400px\"/>\n",
    "</div>"
   ]
  },
  {
   "cell_type": "code",
   "execution_count": null,
   "metadata": {
    "ExecuteTime": {
     "end_time": "2024-07-12T08:39:24.003963Z",
     "start_time": "2024-07-12T08:39:21.460561Z"
    },
    "hidden": true
   },
   "outputs": [],
   "source": [
    "sysname = \"HolesAndPatches1_PhaseSeparation\"\n",
    "outdir = os.path.join(\"output_systems\", sysname)\n",
    "os.makedirs(outdir, exist_ok=True)\n",
    "\n",
    "COBY.COBY(\n",
    "    box = [20, 20, 10], # [nm]\n",
    "    \n",
    "    membrane = [\n",
    "        ### Membrane 1\n",
    "        \" \".join([\n",
    "            ### Creates a membrane consisting of POPC \n",
    "            \"lipid:POPC\",\n",
    "\n",
    "            ### Creates a circular hole in the membrane\n",
    "            \"hole:circle:radius:3:cx:0:cy:5\",\n",
    "        ]),\n",
    "        \n",
    "        ### Membrane 2\n",
    "        \" \".join([\n",
    "            ### Creates a membrane consisting of POPC \n",
    "            \"lipid:CHOL\",\n",
    "\n",
    "            ### Creates a circular hole in the membrane\n",
    "            \"patch:circle:radius:3:cx:0:cy:5\",\n",
    "        ]),\n",
    "    ],\n",
    "    \n",
    "    ### Solvates the system using the default solvation settings of \"solv:W pos:NA neg:CL\"\n",
    "    solvation = \"default\",\n",
    "    \n",
    "    ### Uses topologies found in \"toppar/top_for_COBY.itp\" for charge determination\n",
    "    itp_input = \"file:toppar/top_for_COBY.itp\",\n",
    "    \n",
    "    ### File writing\n",
    "    out_sys = os.path.join(outdir, \"_\".join([\"output\", sysname])),\n",
    "    out_top = os.path.join(outdir, \"_\".join([\"topol\",  sysname]) + \".top\"),\n",
    "    out_log = os.path.join(outdir, \"_\".join([\"log\",    sysname]) + \".log\"),\n",
    "    \n",
    "    ### Designates the system name\n",
    "    sn = sysname,\n",
    ")\n"
   ]
  },
  {
   "cell_type": "markdown",
   "metadata": {
    "heading_collapsed": true,
    "hidden": true
   },
   "source": [
    "## Holes and Patches 2: Modifying Shapes"
   ]
  },
  {
   "cell_type": "markdown",
   "metadata": {
    "hidden": true
   },
   "source": [
    "The holes and patches can be modified by introducing rotations (using ``rotate``) or rescaling (using ``xcaling`` and ``yscaling``) by specifying it within the subarguments.  \n",
    "\n",
    "This example shows a system with rotated and rescaled membrane patches.\n",
    "\n",
    "- Patch 1 is created as a rectangle (6 nm x 14 nm) with a center at position (3 nm, 3 nm). The patch is rotated 45 degrees clockwise using ``rotate:45`` subargument.\n",
    "\n",
    "- Patch 2 is created as a polygon. The size of the patch is scaled by 3 along the x-axis and by 2 along the y-axis using ``xscaling:3:yscaling:2``."
   ]
  },
  {
   "cell_type": "markdown",
   "metadata": {
    "hidden": true
   },
   "source": [
    "<div>\n",
    "<!-- height argument does not work in jupyter for whatever reason. Can't find any help online. -->\n",
    "<img src=\"figures/HolesAndPatches2_ModifyingShapes.png\" width=\"400px\"/>\n",
    "</div>"
   ]
  },
  {
   "cell_type": "code",
   "execution_count": null,
   "metadata": {
    "ExecuteTime": {
     "end_time": "2024-07-12T08:39:26.517937Z",
     "start_time": "2024-07-12T08:39:24.005537Z"
    },
    "hidden": true,
    "scrolled": true
   },
   "outputs": [],
   "source": [
    "sysname = \"HolesAndPatches2_ModifyingShapes\"\n",
    "outdir = os.path.join(\"output_systems\", sysname)\n",
    "os.makedirs(outdir, exist_ok=True)\n",
    "\n",
    "COBY.COBY(\n",
    "    box = [20, 20, 10], # [nm]\n",
    "    \n",
    "    membrane = [\n",
    "        ### Membrane 1\n",
    "        \" \".join([\n",
    "            ### Creates a membrane consisting of POPC \n",
    "            \"lipid:POPC\",\n",
    "\n",
    "            ### Creates a rectangular (6 nm by 14 nm) membrane patch centered at (3 nm, 3 nm)\n",
    "            ### The membrane patch is rotated 45 degrees clockwise\n",
    "            \"patch:rectangle:xlength:6:ylength:14:cx:3:cy:3:rotate:45\",\n",
    "        ]),\n",
    "        \n",
    "        ### Membrane 2\n",
    "        \" \".join([\n",
    "            ### Creates a membrane consisting of POPC\n",
    "            \"lipid:POPC\",\n",
    "\n",
    "            ### Creates a small polygonal membrane patch\n",
    "            ### The size of the polygon is scaled using \"xscaling\" and \"yscaling\"\n",
    "            \"patch:polygon:point:-2:-2:point:-4:-4:point:-2:-6:point:-5:-5:point:-5:-3:xscaling:3:yscaling:2\",\n",
    "        ]),\n",
    "    ],\n",
    "    \n",
    "    ### Solvates the system using the default solvation settings of \"solv:W pos:NA neg:CL\"\n",
    "    solvation = \"default\",\n",
    "    \n",
    "    ### Uses topologies found in \"toppar/top_for_COBY.itp\" for charge determination\n",
    "    itp_input = \"file:toppar/top_for_COBY.itp\",\n",
    "    \n",
    "    ### File writing\n",
    "    out_sys = os.path.join(outdir, \"_\".join([\"output\", sysname])),\n",
    "    out_top = os.path.join(outdir, \"_\".join([\"topol\",  sysname]) + \".top\"),\n",
    "    out_log = os.path.join(outdir, \"_\".join([\"log\",    sysname]) + \".log\"),\n",
    "    \n",
    "    ### Designates the system name\n",
    "    sn = sysname,\n",
    ")\n"
   ]
  },
  {
   "cell_type": "markdown",
   "metadata": {
    "heading_collapsed": true,
    "hidden": true
   },
   "source": [
    "## Holes and Patches 3: Matryoshka Membrane"
   ]
  },
  {
   "cell_type": "markdown",
   "metadata": {
    "hidden": true
   },
   "source": [
    "This example demostrates a way to create a membrane with concentric circles of different lipid compositions. In practice, this membrane consists of a bordering membrane (Membrane 1), followed by a series of nested circular patches, all defined as individual membranes:\n",
    "\n",
    "- **Membrane 1**: A POPC membrane. It spans the entire x/y-plane, but it has a hole with a radius of 13.5 nm.\n",
    "\n",
    "- **Membrane 2**: A circular CHOL membrane patch with a radius of 13.5 nm. It also has a hole with a radius of 10.5 nm.\n",
    "\n",
    "- **Membrane 3**: A circular POPE membrane patch with a radius of 10.5 nm. It contains a hole with a radius of 7.5 nm.\n",
    "\n",
    "- **Membrane 4**: A circular CHOL membrane patch with a radius of 7.5 nm. It has a hole with a radius of 4.5 nm.\n",
    "\n",
    "- **Membrane 5**: A circular POPC membrane patch with a radius of 4.5 nm.\n",
    "\n",
    "Additionally, a protein has been placed at the center of the system."
   ]
  },
  {
   "cell_type": "markdown",
   "metadata": {
    "hidden": true
   },
   "source": [
    "<div>\n",
    "<!-- height argument does not work in jupyter for whatever reason. Can't find any help online. -->\n",
    "<img src=\"figures/HolesAndPatches3_MatryoshkaMembrane.png\" width=\"400px\"/>\n",
    "</div>"
   ]
  },
  {
   "cell_type": "code",
   "execution_count": null,
   "metadata": {
    "ExecuteTime": {
     "end_time": "2024-07-12T08:39:33.324237Z",
     "start_time": "2024-07-12T08:39:26.520207Z"
    },
    "hidden": true
   },
   "outputs": [],
   "source": [
    "sysname = \"HolesAndPatches3_MatryoshkaMembrane\"\n",
    "outdir = os.path.join(\"output_systems\", sysname)\n",
    "os.makedirs(outdir, exist_ok=True)\n",
    "\n",
    "COBY.COBY(\n",
    "    box = [30, 30, 10], # [nm]\n",
    "    \n",
    "    protein = \"file:example_proteins/8BB6_martinized.pdb moleculetypes:8BB6_CG\",\n",
    "    \n",
    "    membrane = [\n",
    "        ### Membrane 1\n",
    "        \" \".join([\n",
    "            ### Creates a membrane consisting of POPC \n",
    "            \"lipid:POPC\",\n",
    "            ### Creates a hole (r = 13.5) within the membrane, as wide as the outermost concentric circle\n",
    "            \"hole:circle:radius:13.5:cx:0:cy:0\",\n",
    "        ]),\n",
    "        \n",
    "        ### Membrane 2\n",
    "        \" \".join([\n",
    "            ### Creates a membrane consisting of CHOL \n",
    "            \"lipid:CHOL\",\n",
    "            ### Creates a circular membrane patch (r = 13.5)\n",
    "            \"patch:circle:radius:13.5:cx:0:cy:0\",\n",
    "            ### Creates a hole (r = 10.5) within the patch, resulting in a concentric circle \n",
    "            \"hole:circle:radius:10.5:cx:0:cy:0\",\n",
    "        ]),\n",
    "        \n",
    "        ### Membrane 3\n",
    "        \" \".join([\n",
    "            ### Creates a membrane consisting of POPE \n",
    "            \"lipid:POPE\",\n",
    "            ### Creates a circular membrane patch (r = 10.5)\n",
    "            \"patch:circle:radius:10.5:cx:0:cy:0\",\n",
    "            ### Creates a hole (r = 7.5) within the patch, resulting in a concentric circle\n",
    "            \"hole:circle:radius:7.5:cx:0:cy:0\",\n",
    "        ]),\n",
    "        \n",
    "        ### Membrane 4\n",
    "        \" \".join([\n",
    "            ### Creates a membrane consisting of CHOL \n",
    "            \"lipid:CHOL\",\n",
    "            ### Creates a circular membrane patch (r = 7.5)\n",
    "            \"patch:circle:radius:7.5:cx:0:cy:0\",\n",
    "            ### Creates a hole (r = 4.5) within the patch, resulting in a concentric circle\n",
    "            \"hole:circle:radius:4.5:cx:0:cy:0\",\n",
    "        ]),\n",
    "        \n",
    "        ### Membrane 5\n",
    "        \" \".join([\n",
    "            ### Creates a membrane consisting of POPC \n",
    "            \"lipid:POPC\",\n",
    "            ### Creates a circular membrane patch (r = 4.5)\n",
    "            \"patch:circle:radius:4.5:cx:0:cy:0\",\n",
    "        ]),\n",
    "    ],\n",
    "    \n",
    "    ### Solvates the system using the default solvation settings of \"solv:W pos:NA neg:CL\"\n",
    "    solvation = \"default\",\n",
    "    \n",
    "    ### Uses topologies found in \"toppar/top_for_COBY.itp\" for charge determination\n",
    "    itp_input = [\n",
    "        \"file:toppar/top_for_COBY.itp\",\n",
    "        \"include:toppar/SugarTransporter/8BB6_martinized.itp\",\n",
    "    ],\n",
    "    \n",
    "    ### File writing\n",
    "    out_sys = os.path.join(outdir, \"_\".join([\"output\", sysname])),\n",
    "    out_top = os.path.join(outdir, \"_\".join([\"topol\",  sysname]) + \".top\"),\n",
    "    out_log = os.path.join(outdir, \"_\".join([\"log\",    sysname]) + \".log\"),\n",
    "    \n",
    "    ### Designates the system name\n",
    "    sn = sysname,\n",
    ")\n"
   ]
  },
  {
   "cell_type": "markdown",
   "metadata": {
    "heading_collapsed": true,
    "jp-MarkdownHeadingCollapsed": true
   },
   "source": [
    "# Stacked Membranes"
   ]
  },
  {
   "cell_type": "markdown",
   "metadata": {
    "hidden": true
   },
   "source": [
    "The ``stacked_membranes`` argument is used to create a desired number stacked bilayers with solvent between them. \n",
    "\n",
    "The advantage of this argument, as opposed to using multiple ``membrane`` calls offset in the z-axis, is that it:\n",
    "\n",
    "- allows for an easier definition of membrane properties (in case they repeat across multiple membranes); \n",
    "\n",
    "- advanced options for specifying bilayer distances in the z-axis, including consideration of the number of required water beads per lipid; \n",
    "\n",
    "- easier specification of different solvent compositions in separate solvent spaces.\n",
    "\n",
    "The ``stacked_membranes`` Argument contains the following subarguments:\n",
    "\n",
    "- ``number``: A number of requested membranes in stack\n",
    "\n",
    "- ``distance``: Designating distances between membranes (in nm)\n",
    "\n",
    "- ``distance_type``: How the ``distance`` is calculated between the bilayers, namely:\n",
    "\n",
    "    - ``distance_type:surface`` (default) Distance is calculated from the membrane bead that is furthest away from the membrane centre\n",
    "\n",
    "    - ``distance_type:center`` Distance is calculated from the centre of the membrane\n",
    "\n",
    "    - ``distance_type:mean_surface`` Distance is calculated from an averaged membrane surface z-coordinate \n",
    "\n",
    "Note that ``distance`` can be set for each individual inter-membrane space (by specifying multiple values) or for all inter-membrane spaces (by specifying a single value). A different ``distance_type`` method can be chosen in a similar way. If multiple values are given, then the number of values must equal the number of membranes.\n",
    "\n",
    "- ``membrane_argument``: Membrane composition and properties, with the syntax that follows the ``membrane`` argument\n",
    "\n",
    "- ``solvation_argument``: Solvent composition; ``solvent_per_lipid`` is used to define a requested number of water beads (W) per lipid. If ``solvent_per_lipid`` is not supplied, then the standard solvation based on concentration will be carried out."
   ]
  },
  {
   "cell_type": "markdown",
   "metadata": {
    "heading_collapsed": true,
    "hidden": true
   },
   "source": [
    "## Stacked Membranes 1: Three Bilayers"
   ]
  },
  {
   "cell_type": "markdown",
   "metadata": {
    "hidden": true
   },
   "source": [
    "This example shows how to create three stacked membranes using the ``stacked_membranes`` argument. \n",
    "\n",
    "The membranes are numbered (1-3), starting from the bottom-most membrane. \n",
    "\n",
    "The solvent spaces are also numbered (1-3), where Solvent 1 spans across PBC, and subsequent solvent spaces are ordered from the bottom up. \n",
    "\n",
    "The ``distance`` subargument is used to set the inter-membrane spacing using three values. If only a single ``distance`` value is provided, it will apply to all inter-membrane spaces. \n",
    "\n",
    "Starting from the bottom, the system contains:\n",
    "\n",
    "- **Solvent 1**: It occupies 3 nm in the z-direction. Because it spans across the PBC, 1.5 nm is at the bottom of the simulation box, while 1.5 nm is at the top of the simulation box. Contains 20 W per lipid (and 0.15 M NaCl). \n",
    "\n",
    "- **Membrane 1**: POPC:CHOL in 5:1 ratio.\n",
    "\n",
    "- **Solvent 2**: It occupies 5 nm in the z-direction and contains 10 W per lipid (and 0.15 M NaCl).  \n",
    "\n",
    "- **Membrane 2**: POPE:CHOL in 3:2 ratio.\n",
    "\n",
    "- **Solvent 3**: Same as Solvent 2.\n",
    "\n",
    "- **Membrane 3**: Same as Membrane 1.\n"
   ]
  },
  {
   "cell_type": "markdown",
   "metadata": {
    "hidden": true
   },
   "source": [
    "<div>\n",
    "<!-- height argument does not work in jupyter for whatever reason. Can't find any help online. -->\n",
    "<!-- <img src=\"figures/StackedMembranes1_ThreeBilayers.png\" width=\"400px\"/> -->\n",
    "    <table><tr>\n",
    "        <td><img src='figures/StackedMembranes1_ThreeBilayers.png' width=\"400px\"></td>\n",
    "        <td><img src='figures/drawings/StackedMembranes1_ThreeBilayers_Drawing.png' width=\"400px\"></td>\n",
    "    </tr></table>\n",
    "</div>"
   ]
  },
  {
   "cell_type": "code",
   "execution_count": null,
   "metadata": {
    "ExecuteTime": {
     "start_time": "2024-07-12T08:38:55.116Z"
    },
    "hidden": true
   },
   "outputs": [],
   "source": [
    "sysname = \"StackedMembranes1_ThreeBilayers\"\n",
    "outdir = os.path.join(\"output_systems\", sysname)\n",
    "os.makedirs(outdir, exist_ok=True)\n",
    "\n",
    "COBY.COBY(\n",
    "    x = 20,  # [nm]\n",
    "    y = 10,  # [nm]\n",
    "    \n",
    "    stacked_membranes = \" \".join([\n",
    "        ### Number of membranes\n",
    "        \"number:3\",\n",
    "        ### Distance between membranes\n",
    "        \"distance:3:5:5\", # [nm]\n",
    "        ### Where distances should be calculated from\n",
    "        \"distance_type:surface\", # Alternatives: center, surface_mean\n",
    "        \n",
    "        ### ### Membrane arguments\n",
    "        ### Designates membrane 1 and 3 (top and bottom)\n",
    "        \"membrane_argument:positions:1:3 lipid:POPC:5 lipid:CHOL:1\",\n",
    "        ### Designates membrane 2 (middle)\n",
    "        \"membrane_argument:positions:2   lipid:POPE:3 lipid:CHOL:2\",\n",
    "        \n",
    "        ### ### Solvation arguments\n",
    "        ### Designates solvent space 1 (going across the pbc)\n",
    "        \"solvation_argument:positions:1   default solv_per_lipid:20\",\n",
    "        ### Designates solvent space 2 (between membrane 1 and 2) and 3 (between membrane 2 and 3)\n",
    "        \"solvation_argument:positions:2:3 default solv_per_lipid:10\",        \n",
    "    ]),\n",
    "    \n",
    "    itp_input = \"file:toppar/top_for_COBY.itp\",\n",
    "    \n",
    "    out_sys = os.path.join(outdir, \"_\".join([\"output\", sysname])),\n",
    "    out_top = os.path.join(outdir, \"_\".join([\"topol\", sysname]) + \".top\"),\n",
    "    out_log = os.path.join(outdir, \"_\".join([\"log\", sysname]) + \".log\"),\n",
    "    \n",
    "    ### Designates the system name\n",
    "    sn = sysname,\n",
    ")\n"
   ]
  },
  {
   "cell_type": "markdown",
   "metadata": {
    "heading_collapsed": true,
    "jp-MarkdownHeadingCollapsed": true
   },
   "source": [
    "# Solvation"
   ]
  },
  {
   "cell_type": "markdown",
   "metadata": {
    "hidden": true
   },
   "source": [
    "Solvent composition can be changed by manipulating it using the ``solvent`` argument. By this point, we have seen only the ``solvent:default`` systems, which is water in 55.56 mol L<sup>-1</sup> concentration, and NaCl in 0.15 mol L<sup>-1</sup> concentration. \n",
    "\n",
    "Solvent and salt molarity can be changed using the ``solv_molarity`` and ``salt_molarity``, respectively. \n",
    "\n",
    "One can choose a specific type of ion using the ``pos`` and ``neg`` subarguments. \n",
    "\n",
    "A neutralisation method can be chosen with the ``salt_method`` subargument.\n",
    "\n",
    "The ``ratio_method`` subargument is applicable in the mixed solvent systems, where one can choose between respecting the ``coarse``-grained or ``atomistic`` solvent ratios. This is relevant if the coarse-grained mapping scheme (commonly 4-to-1) is not the same between the requested solvent types. \n"
   ]
  },
  {
   "cell_type": "markdown",
   "metadata": {
    "heading_collapsed": true,
    "hidden": true
   },
   "source": [
    "## Solvation 2: Change Concentration"
   ]
  },
  {
   "cell_type": "markdown",
   "metadata": {
    "hidden": true
   },
   "source": [
    "In this example we can see how solvent concentration can be changed.\n",
    "\n",
    "The subargument ``solv_molarity:40`` changes the solvent concentration to 40 mol L<sup>-1</sup>, which results in 28% fewer solvent particles (as compared to the default 55.56 mol L<sup>-1</sup>).\n"
   ]
  },
  {
   "cell_type": "markdown",
   "metadata": {
    "hidden": true
   },
   "source": [
    "<div>\n",
    "<!-- height argument does not work in jupyter for whatever reason. Can't find any help online. -->\n",
    "<img src=\"figures/Solvation2_ChangeConcentration.png\" width=\"400px\"/>\n",
    "</div>"
   ]
  },
  {
   "cell_type": "code",
   "execution_count": null,
   "metadata": {
    "ExecuteTime": {
     "start_time": "2024-07-12T08:38:55.120Z"
    },
    "hidden": true
   },
   "outputs": [],
   "source": [
    "sysname = \"Solvation2_ChangeSolventConcentration\"\n",
    "outdir = os.path.join(\"output_systems\", sysname)\n",
    "os.makedirs(outdir, exist_ok=True)\n",
    "\n",
    "COBY.COBY(\n",
    "    box = [10, 10, 10], # [nm]\n",
    "    \n",
    "    ### A single POPC membrane has been created\n",
    "    membrane = \"lipid:POPC\",\n",
    "    \n",
    "    ### Solvates the system using the default solvation settings of \"solv:W pos:NA neg:CL\"\n",
    "    ### \"solv_molarity\" sets the concentration [mol/L] of the solvent\n",
    "    ### \"salt_molarity\" sets the concentration [mol/L] of the salt (ions)\n",
    "    solvation = \"default solv_molarity:40\",\n",
    "    \n",
    "    itp_input = \"file:toppar/top_for_COBY.itp\",\n",
    "    \n",
    "    out_sys = os.path.join(outdir, \"_\".join([\"output\", sysname])),\n",
    "    out_top = os.path.join(outdir, \"_\".join([\"topol\", sysname]) + \".top\"),\n",
    "    out_log = os.path.join(outdir, \"_\".join([\"log\", sysname]) + \".log\"),\n",
    "    \n",
    "    ### Designates the system name\n",
    "    sn = sysname,\n",
    ")"
   ]
  },
  {
   "cell_type": "markdown",
   "metadata": {
    "heading_collapsed": true,
    "hidden": true
   },
   "source": [
    "## Solvation 3: Charge Neutralization Methods"
   ]
  },
  {
   "cell_type": "markdown",
   "metadata": {
    "hidden": true
   },
   "source": [
    "Neutralising salt concentrations can be handled in three different ways, specified under a ``salt_method`` subargument. \n",
    "\n",
    "In this example, the system before neutralistion has a charge surplus of -32 (due to 32 negatively charged POPG lipids), which is counterbalanced by Na<sup>+</sup>. The requested NaCl concentration is 0.15 mol L<sup>-1</sup>.  \n",
    "\n",
    "- ``salt_method:add`` : (default) First the salt (NaCl) is added in a requested concentration ($c$ = 0.15 mol L<sup>-1</sup>), followed by a neutralisation step (additional 32 Na<sup>+</sup>). This results in a $c$ salt concentration for Cl<sup>-</sup>, and a concentration \"surplus\" (0.23 mol L<sup>-1</sup>) for Na<sup>+</sup>.  \n",
    "\n",
    "- ``salt_method:remove`` : First the salt (NaCl) is added in a requested concentration ($c$ = 0.15 mol L<sup>-1</sup>), followed by a neutralisation step (removal of 32 Cl<sup>-</sup>). This results in 0.15 mol L<sup>-1</sup> Na<sup>+</sup>, but a deficit of Cl<sup>-</sup>, which occurs at 0.07 mol L<sup>-1</sup>. \n",
    "\n",
    "- ``salt_method:mean`` : An average of the two extremes are taken, resulting in 0.19 mol L<sup>-1</sup> Na<sup>+</sup> and 0.11 mol L<sup>-1</sup> Cl<sup>-</sup>. \n",
    "\n",
    "The following table shows the results and differences of the three neutralization methods compared to the initial insertion of 0.15 mol L<sup>-1</sup> of ions.\n"
   ]
  },
  {
   "cell_type": "markdown",
   "metadata": {
    "hidden": true
   },
   "source": [
    "|                                              | Number of Na<sup>+1</sup> | Number of Cl<sup>-1</sup> | Concentration of Na<sup>+1</sup> [mol L<sup>-1</sup>] | Concentration of Cl<sup>-1</sup> [mol L<sup>-1</sup>] |\n",
    "|:--------------------------------------------:|:-------------------------:|:-------------------------:|:--------------------------------:|:--------------------------------:|\n",
    "| Initial insertion of 0.15 mol L<sup>-1</sup> |             63            |             63            |               0.151              |               0.151              |\n",
    "|             After salt_method:add            |          95 (+32)         |             63            |          0.227 (+0.077)          |               0.151              |\n",
    "|           After salt_method:remove           |             63            |          31 (-32)         |               0.151              |          0.074 (-0.077)          |\n",
    "|            After salt_method:mean            |          79 (+16)         |          47 (-16)         |          0.189 (+0.038)          |          0.112 (-0.038)          |"
   ]
  },
  {
   "cell_type": "markdown",
   "metadata": {
    "hidden": true
   },
   "source": [
    "<div>\n",
    "<!-- height argument does not work in jupyter for whatever reason. Can't find any help online. -->\n",
    "<img src=\"figures/Solvation3_ChargeNeutralizationMethods.png\" width=\"400px\"/>\n",
    "</div>"
   ]
  },
  {
   "cell_type": "code",
   "execution_count": null,
   "metadata": {
    "ExecuteTime": {
     "start_time": "2024-07-12T08:38:55.124Z"
    },
    "hidden": true
   },
   "outputs": [],
   "source": [
    "sysname = \"Solvation3_ChargeNeutralizationMethods\"\n",
    "outdir = os.path.join(\"output_systems\", sysname)\n",
    "os.makedirs(outdir, exist_ok=True)\n",
    "\n",
    "COBY.COBY(\n",
    "    box = [10, 10, 10], # [nm]\n",
    "    \n",
    "    ### A single membrane is created containg POPC and POPG in a 10:1 ratio.\n",
    "    ### The POPG lipids each have a charge of -1\n",
    "    membrane = \"lipid:POPC:10 lipid:POPG:1\",\n",
    "    \n",
    "    ### Solvates the system using the default solvation settings of \"solv:W pos:NA neg:CL\"\n",
    "    \n",
    "    ### Adjusts system charge by adding extra ions until system is neutral\n",
    "#     solvation = \"default salt_method:add\", # default\n",
    "    \n",
    "    ### Adjusts system charge by removing excess ions until system is neutral\n",
    "#     solvation = \"default salt_method:remove\",\n",
    "    \n",
    "    ### Adjusts system charge by adding half of the charge difference as extra ions and removes half of the charge difference\n",
    "    solvation = \"default salt_method:mean\",\n",
    "    \n",
    "    itp_input = \"file:toppar/top_for_COBY.itp\",\n",
    "    \n",
    "    out_sys = os.path.join(outdir, \"_\".join([\"output\", sysname])),\n",
    "    out_top = os.path.join(outdir, \"_\".join([\"topol\", sysname]) + \".top\"),\n",
    "    out_log = os.path.join(outdir, \"_\".join([\"log\", sysname]) + \".log\"),\n",
    "    \n",
    "    ### Designates the system name\n",
    "    sn = sysname,\n",
    ")"
   ]
  },
  {
   "cell_type": "markdown",
   "metadata": {
    "heading_collapsed": true,
    "hidden": true
   },
   "source": [
    "## Solvation 4: Mixed Solvent"
   ]
  },
  {
   "cell_type": "markdown",
   "metadata": {
    "hidden": true
   },
   "source": [
    "Building a system with a mixed solvent depends on the requested ratios between the solvent species. Subargument ``ratio_method`` handles a method that is used to calculate the number of solvent molecules from the ratios:\n",
    "\n",
    "- ``coarse`` : (default) uses a coarse-grained mapping of solvents. In other words, ratios are imposed between solvent beads in the CG resolution. \n",
    "\n",
    "- ``atomistic``: uses an atomistic mapping of solvents. The ratios are imposed on the number of atoms that are contained within beads.\n",
    "\n",
    "A difference in the methods becomes obvious when one wants to use solvents that have different CG mapping schemes. \n",
    "\n",
    "In this example, the system contains a 5:3 ratio of regular water **W** and small water **SW** beads. **W** beads have a 4:1 atomistic-to-CG mapping, whereas **SW** beads have a 3:1 atomistic-to-CG mapping. \n",
    "\n",
    "If ``ratio_method:coarse``, the system inserts 4061 **W** and 2436 **SW** beads. ($4060:2436 = 5:3$). \n",
    "\n",
    "If  ``ratio_method:atomistic``, the system inserts 3680 **W** and 2944 **SW** beads ( $(3680 * 4) : (2944 * 3) = 5:3$ ). \n",
    "\n",
    "Similarly, the program can handle ion mixture ratios, but with the consideration of charge, rather than atomistic-to-CG mapping (as it is irrelevant for the ion species). \n",
    "\n",
    "In this example, the system contains a 5:1 ratio of Na<sup>+</sup>:CA<sup>+2</sup> ions, and Cl<sup>-</sup> as negatively charged ions. As such, the weighted number (based on charges) of positive ions is equal to the weighted number of negative ions. Charge data is gathered from the ``toppar/top_for_COBY.itp`` file.\n",
    "\n",
    "Below is a table showing the different solvent compositions and ratios when using the two different ratio methods."
   ]
  },
  {
   "cell_type": "markdown",
   "metadata": {
    "hidden": true
   },
   "source": [
    "|                                      | ratio_method:coarse | ratio_method:atomistic |\n",
    "|:------------------------------------:|:-------------------:|:----------------------:|\n",
    "|  Number of coarse-grained \"W\" water  |         4061        |          3680          |\n",
    "|  Number of coarse-grained \"SW\" water |         2436        |          2944          |\n",
    "| Total number of coarse-grained water |         6497        |          6624          |\n",
    "|     Number of atomistic \"W\" water    |        16244        |          14720         |\n",
    "|    Number of atomistic \"SW\" water    |         7308        |          8832          |\n",
    "|    Total number of atomistic water   |        23552        |          23552         |\n",
    "|       Coarse-grained W:SW ratio      |      5.0 : 3.0      |        4.4 : 3.6       |\n",
    "|         Atomistic W:SW ratio         |      5.5 : 2.5      |        5.0 : 3.0       |"
   ]
  },
  {
   "cell_type": "markdown",
   "metadata": {
    "hidden": true
   },
   "source": [
    "<div>\n",
    "<!-- height argument does not work in jupyter for whatever reason. Can't find any help online. -->\n",
    "<img src=\"figures/Solvation4_MixedSolvent.png\" width=\"300px\"/>\n",
    "</div>"
   ]
  },
  {
   "cell_type": "code",
   "execution_count": null,
   "metadata": {
    "ExecuteTime": {
     "start_time": "2024-07-12T08:38:55.128Z"
    },
    "hidden": true,
    "scrolled": true
   },
   "outputs": [],
   "source": [
    "sysname = \"Solvation4_MixedSolvent\"\n",
    "outdir = os.path.join(\"output_systems\", sysname)\n",
    "os.makedirs(outdir, exist_ok=True)\n",
    "\n",
    "COBY.COBY(\n",
    "    box = [10, 10, 10], # [nm]\n",
    "    \n",
    "    membrane = \"lipid:POPC\",\n",
    "    \n",
    "    ### Solvation argument\n",
    "    solvation = \" \".join([\n",
    "        ### The solvents and ions with their set ratios\n",
    "        ### Note that \"charge:lib\" has been added to \"solv:SW:3\" because it is not present in the Martini 3 release topologies.\n",
    "        \"solv:W:5 solv:SW:3:charge:lib pos:NA:5 pos:CA:1 neg:CL:1\",\n",
    "        \n",
    "        ### Coarse-grained solvent ratios are used (default).\n",
    "        \"ratio_method:coarse\",\n",
    "        \n",
    "        ### Atomistic solvent ratios are used.\n",
    "#         \"ratio_method:atomistic\",\n",
    "    ]),\n",
    "    \n",
    "    itp_input = \"file:toppar/top_for_COBY.itp\",\n",
    "    \n",
    "    out_sys = os.path.join(outdir, \"_\".join([\"output\", sysname])),\n",
    "    out_top = os.path.join(outdir, \"_\".join([\"topol\", sysname]) + \".top\"),\n",
    "    out_log = os.path.join(outdir, \"_\".join([\"log\", sysname]) + \".log\"),\n",
    "    \n",
    "    ### Designates the system name\n",
    "    sn = sysname,\n",
    ")"
   ]
  },
  {
   "cell_type": "markdown",
   "metadata": {
    "heading_collapsed": true,
    "hidden": true
   },
   "source": [
    "## Solvation 5: Phase Separated Solvent"
   ]
  },
  {
   "cell_type": "markdown",
   "metadata": {
    "hidden": true
   },
   "source": [
    "In addition to creating a mixed solvent, the program can also create phase-separated solvents. \n",
    "\n",
    "In this example, there are two solvent spaces - one on the negative side of the x-axis, and one on the positive side. \n",
    "\n",
    "- **Solvent 1**: Centered at position (+5 nm, 0 nm, 0 nm) and occupying 10 nm along the x-axis. The salt concentration is ``default`` (0.15 mol L<sup>-1</sup>).\n",
    "\n",
    "- **Solvent 2**: Centered at position (-5 nm, 0 nm, 0 nm) and occupying 10 nm along the x-axis. In this solvent space, the salt concentration is increased to 0.6 mol L<sup>-1</sup>."
   ]
  },
  {
   "cell_type": "markdown",
   "metadata": {
    "hidden": true
   },
   "source": [
    "<div>\n",
    "<!-- height argument does not work in jupyter for whatever reason. Can't find any help online. -->\n",
    "<img src=\"figures/Solvation5_PhaseSeparatedSolvent.png\" width=\"300px\"/>\n",
    "</div>"
   ]
  },
  {
   "cell_type": "code",
   "execution_count": null,
   "metadata": {
    "ExecuteTime": {
     "start_time": "2024-07-12T08:38:55.131Z"
    },
    "hidden": true
   },
   "outputs": [],
   "source": [
    "sysname = \"Solvation5_PhaseSeparatedSolvent\"\n",
    "outdir = os.path.join(\"output_systems\", sysname)\n",
    "os.makedirs(outdir, exist_ok=True)\n",
    "\n",
    "COBY.COBY(\n",
    "    box = [20, 20, 20], # [nm]\n",
    "    \n",
    "    membrane = \"lipid:POPC\",\n",
    "    \n",
    "    ### Solvates the system using the default solvation settings of \"solv:W pos:NA neg:CL\"\n",
    "    solvation = [\n",
    "        ### Creates a solvent box centered at (+5 nm, 0 nm, 0 nm)\n",
    "        ### The solvent box is 10 nm long in the x-axis\n",
    "        ### The solvent box spans the entire length of the system box along the y- and z-axes\n",
    "        \"default center:+5:0:0 xlength:10\",\n",
    "        \n",
    "        ### Creates a solvent box centered at (-5 nm, 0 nm, 0 nm)\n",
    "        ### The solvent box is 10 nm long in the x-axis\n",
    "        ### The solvent box spans the entire length of the system box along the y- and z-axes\n",
    "        ### The salt concentration has been changed to 0.6 mol/L (4 times the default of 0.15 mol/L)\n",
    "        \"default center:-5:0:0 xlength:10 salt_molarity:0.6\",\n",
    "    ],\n",
    "    \n",
    "    itp_input = \"file:toppar/top_for_COBY.itp\",\n",
    "    \n",
    "    out_sys = os.path.join(outdir, \"_\".join([\"output\", sysname])),\n",
    "    out_top = os.path.join(outdir, \"_\".join([\"topol\", sysname]) + \".top\"),\n",
    "    out_log = os.path.join(outdir, \"_\".join([\"log\", sysname]) + \".log\"),\n",
    "    \n",
    "    ### Designates the system name\n",
    "    sn = sysname,\n",
    ")"
   ]
  },
  {
   "cell_type": "markdown",
   "metadata": {
    "heading_collapsed": true,
    "jp-MarkdownHeadingCollapsed": true
   },
   "source": [
    "# Flooding"
   ]
  },
  {
   "cell_type": "markdown",
   "metadata": {
    "hidden": true
   },
   "source": [
    "The addition of an absolute number of solute molecules in the solvent is sometimes referred to as \"flooding\".\n",
    "\n",
    "For the flooding solute compounds, one needs to specify the **structure**, a **number** of requested molecules, and the **charge** of a molecule. \n",
    "\n",
    "The **charge** can be provided in several different ways: \n",
    "\n",
    "- **From the library**: This only applies to flooding molecules that exist in the COBY library. For those kinds of flooding molecules, no charge information needs to be provided.\n",
    "\n",
    "- **From the .itp file**: In this case, the solute can be processed within the ``molecule_import`` argument.\n",
    "\n",
    "- **By specifying charge**: The charge of a solute can be passed onto the ``molecule_import`` argument. \n",
    "\n",
    "COBY can handle multiple types of solutes added to the same system. "
   ]
  },
  {
   "cell_type": "markdown",
   "metadata": {
    "heading_collapsed": true,
    "hidden": true
   },
   "source": [
    "## Flooding 1: From Library"
   ]
  },
  {
   "cell_type": "markdown",
   "metadata": {
    "hidden": true
   },
   "source": [
    "This example contains a protein inserted into the POPC membrane and surrounded with 30 tyrosine, 15 arginine and 20 glycine molecules. A default solvation is performed after the solute molecules have been inserted.\n",
    "\n",
    "TYR, ARG, and GLY molecules exist in the COBY library, so ``molecule_import`` is not necessary in this case.\n",
    "\n",
    "The ``flooding`` argument contains subarguments organised as ``solute:mol_name:N_of_molecules``, in this example:\n",
    "\n",
    "- ``solute:TYR:30``\n",
    "\n",
    "- ``solute:ARG:15``\n",
    "\n",
    "- ``solute:GLY:20``\n",
    "\n",
    "The subargument ``charge:lib`` specifies the charges to be taken from the in-built library instead of looking for them in the topology file. Alternatively, one could designate ``charge:lib`` for each individual solute as shown in the Python code below. Note that if this is not designated, then COBY will by default look for them in the topology file and error out if it does not find them.\n",
    "\n",
    "Also note that the addition of ``flooding`` results in a couple of warnings that are printed during the \"SOLVATING SYSTEM\" step. This is not concerning - COBY is simply informing you that the default grid resolution for solvent is too small and is therefore automatically adjusted to prevent molecule overlaps."
   ]
  },
  {
   "cell_type": "markdown",
   "metadata": {
    "hidden": true
   },
   "source": [
    "<div>\n",
    "<!-- height argument does not work in jupyter for whatever reason. Can't find any help online. -->\n",
    "<img src=\"figures/Flooding1_FromLibrary.png\" width=\"400px\"/>\n",
    "</div>"
   ]
  },
  {
   "cell_type": "code",
   "execution_count": null,
   "metadata": {
    "ExecuteTime": {
     "start_time": "2024-07-12T08:38:55.135Z"
    },
    "hidden": true
   },
   "outputs": [],
   "source": [
    "sysname = \"Flooding1_FromLibrary\"\n",
    "outdir = os.path.join(\"output_systems\", sysname)\n",
    "os.makedirs(outdir, exist_ok=True)\n",
    "\n",
    "COBY.COBY(\n",
    "    ### Designates box size\n",
    "    box = [10, 10, 11], # [nm]\n",
    "    \n",
    "    ### Inserts POPC membrane\n",
    "    membrane = \"lipid:POPC\",\n",
    "    \n",
    "    ### Inserts protein\n",
    "    protein = \"file:example_proteins/8BB6_martinized.pdb moleculetypes:8BB6_CG\",\n",
    "    \n",
    "    ### Inserts 30 tyrosine, 15 arginine and 20 glycine\n",
    "    ### \"charge:lib\" tells COBY to use the inbuilt charges from the library instead of looking for them in the topology\n",
    "    ### COBY would throw an error otherwise, as TYR, ARG and GLY are not present in the topology\n",
    "    flooding = \"solute:TYR:30 solute:ARG:15 solute:GLY:20 charge:lib\",\n",
    "    \n",
    "    ### Alternative: Designate \"charge:lib\" for each individual solute\n",
    "#     flooding = \"solute:TYR:30:charge:lib solute:ARG:15:charge:lib solute:GLY:20:charge:lib\",\n",
    "    \n",
    "    ### Default flooding argument equalling \"solv:W pos:NA neg:CL\"\n",
    "    solvation = \"default\",\n",
    "    \n",
    "    itp_input = [\n",
    "        \"file:toppar/top_for_COBY.itp\",\n",
    "        \"include:toppar/SugarTransporter/8BB6_martinized.itp\",\n",
    "    ],\n",
    "    \n",
    "    out_sys = os.path.join(outdir, \"_\".join([\"output\", sysname])),\n",
    "    out_top = os.path.join(outdir, \"_\".join([\"topol\", sysname]) + \".top\"),\n",
    "    out_log = os.path.join(outdir, \"_\".join([\"log\", sysname]) + \".log\"),\n",
    "    \n",
    "    ### Designates the system name\n",
    "    sn = sysname,\n",
    ")"
   ]
  },
  {
   "cell_type": "markdown",
   "metadata": {
    "heading_collapsed": true,
    "hidden": true
   },
   "source": [
    "## Flooding 2: Import Solute"
   ]
  },
  {
   "cell_type": "markdown",
   "metadata": {
    "hidden": true
   },
   "source": [
    "Similar to the previous example, the system contains a protein inserted into a POPC membrane and 0.15 mol <sup>L-1</sup> NaCl, as well as 30 sucrose molecules that are not present in the COBY library and therefore need to be imported using the ``molecule_import`` argument. \n",
    "\n",
    "The structure and charge information about solute types is specified under the ``molecule_import`` argument.\n",
    "\n",
    "Depending on whether there is an existing topology file for the solute, there are two approaches for defining the solute types:\n",
    "\n",
    "**1) Existing solute topology file:** : \n",
    "\n",
    "The ``molecule_import`` argument takes subarguments ``file`` that points towards the solute structure file (pdb/gro), and ``moleculetype`` that specifies the name of the solute (matching to the name under ``[ moleculetype ]`` in the topology file)    \n",
    "\n",
    "``molecule_import = \"file:SOLUTE.pdb moleculetype:SOLUTE_moleculetype``\n",
    "\n",
    "**2) No solute topology file:**\n",
    "\n",
    "If one does not have a topology file, then a reference name can be specified using ``name``, and charges can be manually designated using ``charge``.\n",
    "\n",
    "``molecule_import = \"file:SOLUTE.pdb name:SOLUTE_reference_name charge:[CHARGE_subargument]``\n",
    "\n",
    "\n",
    "**Charges** can be designated in one of four ways when no topology file is available:\n",
    "\n",
    "- No ``charge`` subargument: assumes that all beads in the molecule are uncharged\n",
    "\n",
    "- ``charge:[int]``: designates a sum charge that is spread evenly across all beads in the molecule. In this option, only one ``charge`` subargument is permitted. \n",
    "\n",
    "- ``charge:[float/int]:res:[resnr]:bead:[beadnr]``: specifies a charge for a specific bead in a specific residue. Any number of ``charge`` subarguments may be used.\n",
    "\n",
    "- ``charge:[float/int]:bead:[beadnr]``: specifies a charge for a specific bead. Any number of these may be used. Only applicable for single-residue molecules.\n",
    "\n",
    "In addition, ``molecule_import`` can take a ``params`` subargument that defines a library where the solute should be added. This is by default the ``default`` parameter library.\n",
    "\n",
    "In this example, 30 molecules of sucrose (SUCR) are added to the system. The structure of sucrose is provided in the ``example_solutes/SUCROSE/sucrose.pdb`` file. \n",
    "\n",
    "The solute topology is passed to COBY in the ``itp_input`` argument by using the subargument ``include:example_solutes/SUCROSE/sucrose.itp``. The difference between the ``file`` and ``include`` subarguments for ``itp_input`` is that #include statements found within the ``file`` file will be added to the written .top file, while the ``include`` path will be added directly to the written .top file.\n",
    "\n",
    "The system is flooded with 30 sucrose molecules by using the ``flooding`` argument.\n",
    "\n",
    "The addition of ``flooding`` results in a couple of warnings that are printed during the \"SOLVATING SYSTEM\" step. This is not concerning - COBY is simply informing you that the default grid resolution for solvent is too small and is therefore automatically adjusted to prevent molecule overlaps."
   ]
  },
  {
   "cell_type": "markdown",
   "metadata": {
    "hidden": true
   },
   "source": [
    "<div>\n",
    "<!-- height argument does not work in jupyter for whatever reason. Can't find any help online. -->\n",
    "<img src=\"figures/Flooding2_ImportSolute.png\" width=\"400px\"/>\n",
    "</div>"
   ]
  },
  {
   "cell_type": "code",
   "execution_count": null,
   "metadata": {
    "ExecuteTime": {
     "start_time": "2024-07-12T08:38:55.139Z"
    },
    "hidden": true
   },
   "outputs": [],
   "source": [
    "sysname = \"Flooding2_ImportSolute\"\n",
    "outdir = os.path.join(\"output_systems\", sysname)\n",
    "os.makedirs(outdir, exist_ok=True)\n",
    "\n",
    "COBY.COBY(\n",
    "    ### Designates box size\n",
    "    box = [10, 10, 11], # [nm]\n",
    "    \n",
    "    ### Makes a simple POPC membrane\n",
    "    membrane = \"lipid:POPC\",\n",
    "    \n",
    "    ### Inserts protein\n",
    "    protein = \"file:example_proteins/8BB6_martinized.pdb moleculetypes:8BB6_CG\",\n",
    "    \n",
    "    ### Imports a molecule such that it can be used for flooding/solvation\n",
    "    molecule_import = \" \".join([\n",
    "        ### ### Imports the sucrose pdb file\n",
    "        ### Imported file: \"file:example_solutes/SUCROSE/sucrose.pdb\"\n",
    "        \"file:example_solutes/SUCROSE/sucrose.pdb\",\n",
    "        \n",
    "        ### ### Obtaining charge information from topology file\n",
    "        ### Charges are taken from the topology entry named \"SUCR\" due to 'moleculetype:SUCR'\n",
    "        ### The molecule is therefore also referred to as \"SUCR\" in flooding/solvation calls\n",
    "        \"moleculetype:SUCR\",\n",
    "\n",
    "        ### ### Alternative to 'moleculetype'. Also see the comment for the \"flooding\" argument below.\n",
    "        ### Designates the name to be SUCR (for use in flooding/solvation calls)\n",
    "#         \"name:SUCR\",\n",
    "        ### Sets the charge of the entire molecule to 0\n",
    "#         \"charge:0\",\n",
    "    ]),\n",
    "    \n",
    "    ### Orders 30 SUCR (sucrose) molecules to be inserted\n",
    "    flooding = \"solute:SUCR:30\",\n",
    "    ### Note that if charge has been set manually, then the flooding argument should look like this\n",
    "#     flooding = \"solute:SUCR:30:charge:lib\",\n",
    "    \n",
    "    ### Solvates the system after it has been flooded\n",
    "    ### Floodings will always be done before solvations, regardless of the order the arguments are given in\n",
    "    solvation = \"default\",\n",
    "    \n",
    "    itp_input = [\n",
    "        ### Original itp file containing most topologies used in the Tutorial\n",
    "        \"file:toppar/top_for_COBY.itp\",\n",
    "        ### The sugar transporter protein\n",
    "        \"include:toppar/SugarTransporter/8BB6_martinized.itp\",\n",
    "        ### Sucrose itp file\n",
    "        \"include:example_solutes/SUCROSE/sucrose.itp\",\n",
    "    ],\n",
    "    \n",
    "    out_sys = os.path.join(outdir, \"_\".join([\"output\", sysname])),\n",
    "    out_top = os.path.join(outdir, \"_\".join([\"topol\", sysname]) + \".top\"),\n",
    "    out_log = os.path.join(outdir, \"_\".join([\"log\", sysname]) + \".log\"),\n",
    "    \n",
    "    ### Designates the system name\n",
    "    sn = sysname,\n",
    "    \n",
    "#     debug=True\n",
    ")\n"
   ]
  },
  {
   "cell_type": "markdown",
   "metadata": {
    "heading_collapsed": true,
    "hidden": true
   },
   "source": [
    "## Flooding 3: Import Multiple Solutes"
   ]
  },
  {
   "cell_type": "markdown",
   "metadata": {
    "hidden": true
   },
   "source": [
    "Similar to the previous example, the system contains a protein inserted into a POPC membrane and 0.15 mol L<sup>-1</sup> NaCl, as well as 10 sucrose, benzene, toluene and ethylnaphthalene molecules that are not present in the COBY library and therefore need to be imported using the ``molecule_import`` argument. \n",
    "\n",
    "Multiple solutes can be imported by supplying each specific import argument as a separate string in a list to the ``molecule_import`` argument.\n",
    "\n",
    "The topology files for the four solutes are included in the ``itp_input`` argument by using the ``include`` subargument.\n"
   ]
  },
  {
   "cell_type": "markdown",
   "metadata": {
    "hidden": true
   },
   "source": [
    "<div>\n",
    "<!-- height argument does not work in jupyter for whatever reason. Can't find any help online. -->\n",
    "<img src=\"figures/Flooding3_ImportMultipleSolutes.png\" width=\"400px\"/>\n",
    "</div>"
   ]
  },
  {
   "cell_type": "code",
   "execution_count": null,
   "metadata": {
    "ExecuteTime": {
     "start_time": "2024-07-12T08:38:55.143Z"
    },
    "hidden": true
   },
   "outputs": [],
   "source": [
    "sysname = \"Flooding3_ImportMultipleSolutes\"\n",
    "outdir = os.path.join(\"output_systems\", sysname)\n",
    "os.makedirs(outdir, exist_ok=True)\n",
    "\n",
    "COBY.COBY(\n",
    "    ### Designates box size\n",
    "    box = [10, 10, 11], # [nm]\n",
    "    \n",
    "    ### Makes a simple POPC membrane\n",
    "    membrane = \"lipid:POPC\",\n",
    "    \n",
    "    ### Inserts protein\n",
    "    protein = \"file:example_proteins/8BB6_martinized.pdb moleculetypes:8BB6_CG\",\n",
    "    \n",
    "    ### Imports multiple molecule such that they can be used for flooding/solvation\n",
    "    molecule_import = [\n",
    "        ### Imports sucrose\n",
    "        \"file:example_solutes/SUCROSE/sucrose.pdb moleculetype:SUCR\",\n",
    "        ### Imports benzene\n",
    "        \"file:example_solutes/M3_small_molecules/BENZENE/BENZ.gro moleculetype:BENZ\",\n",
    "        ### Imports toluene\n",
    "        \"file:example_solutes/M3_small_molecules/TOLUENE/TOLU.gro moleculetype:TOLU\",\n",
    "        ### Imports ethylnaphthalene\n",
    "        \"file:example_solutes/M3_small_molecules/ETHYLNAPHTHALENE/ENAPH.gro moleculetype:ENAPH\",\n",
    "    ],\n",
    "    \n",
    "    \n",
    "    ### Orders 10 of each imported molecule to be inserted\n",
    "    flooding = \"solute:SUCR:10 solute:BENZ:10 solute:TOLU:10 solute:ENAPH:10\",\n",
    "    \n",
    "    ### Solvates the system after it has been flooded\n",
    "    ### Floodings will always be done before solvations, irregardless of the order the arguments are given in\n",
    "    solvation = \"default\",\n",
    "    \n",
    "    itp_input = [\n",
    "        ### Original itp file containing most topologies used in the Tutorial\n",
    "        \"file:toppar/top_for_COBY.itp\",\n",
    "        ### The sugar transporter protein\n",
    "        \"include:toppar/SugarTransporter/8BB6_martinized.itp\",\n",
    "        ### Sucrose itp file\n",
    "        \"include:example_solutes/SUCROSE/sucrose.itp\",\n",
    "        ### Benzenes itp file\n",
    "        \"include:example_solutes/M3_small_molecules/BENZENE/BENZ_cog.itp\",\n",
    "        ### Toluenes itp file\n",
    "        \"include:example_solutes/M3_small_molecules/TOLUENE/TOLU_cog.itp\",\n",
    "        ### Ethylnaphthalene itp file\n",
    "        \"include:example_solutes/M3_small_molecules/ETHYLNAPHTHALENE/ENAPH_cog.itp\",\n",
    "    ],\n",
    "    \n",
    "    out_sys = os.path.join(outdir, \"_\".join([\"output\", sysname])),\n",
    "    out_top = os.path.join(outdir, \"_\".join([\"topol\", sysname]) + \".top\"),\n",
    "    out_log = os.path.join(outdir, \"_\".join([\"log\", sysname]) + \".log\"),\n",
    "    \n",
    "    ### Designates the system name\n",
    "    sn = sysname,\n",
    ")"
   ]
  },
  {
   "cell_type": "markdown",
   "metadata": {
    "heading_collapsed": true,
    "jp-MarkdownHeadingCollapsed": true
   },
   "source": [
    "# Import lipid"
   ]
  },
  {
   "cell_type": "markdown",
   "metadata": {
    "hidden": true
   },
   "source": [
    "This example shows how to import a lipid structure file, designate its orientation, and use it within a membrane.\n",
    "\n",
    "The lipid we will be importing is POPC, and while it is already present in the library, we will pretend for this example that it does not exist.\n",
    "\n",
    "Similar to the solute example, the structure and charge information, together with lipid orientation is specified under the ``molecule_import`` argument.\n",
    "\n",
    "Depending on whether there is an existing topology file for the lipid, there are two approaches for defining the lipid types:\n",
    "\n",
    "**1) Existing lipid topology file:** : \n",
    "\n",
    "The ``molecule_import`` argument takes subarguments ``file`` that points towards the solute structure file (pdb/gro), and ``moleculetype`` that specifies the name of the lipid (matching to the name under ``[ moleculetype ]`` in the topology file)    \n",
    "\n",
    "``molecule_import = \"file:LIPID.pdb moleculetype:LIPID_moleculetype``\n",
    "\n",
    "**2) No solute topology file:**\n",
    "\n",
    "If one does not have a topology file, then a reference name can be specified using ``name``, and charges can be manually designated using ``charge``.\n",
    "\n",
    "``molecule_import = \"file:LIPID.pdb name:LIPID_reference_name charge:[CHARGE_subargument]``\n",
    "\n",
    "\n",
    "**Charges** can be designated in one of four ways when no topology file is available:\n",
    "\n",
    "- No ``charge`` subargument: assumes that all beads in the molecule are uncharged\n",
    "\n",
    "- ``charge:[int]``: designates a sum charge that is spread evenly across all beads in the molecule. In this option, only one ``charge`` subargument is permitted. \n",
    "\n",
    "- ``charge:[float/int]:res:[resnr]:bead:[beadnr]``: specifies a charge for a specific bead in a specific residue. Any number of ``charge`` subarguments may be used.\n",
    "\n",
    "- ``charge:[float/int]:bead:[beadnr]``: specifies a charge for a specific bead. Any number of these may be used. Only applicable for single-residue molecules.\n",
    "\n",
    "\n",
    "In case of lipids, ``molecule_import`` takes two additional subarguments, used to determine the orientation of the lipid: ``upbead`` and ``downbead``. Both MUST be either specified or omitted from the argument. If they are omitted, the lipid is assumed to be already properly oriented (parallel to the z-axis).  \n",
    "\n",
    "- ``upbead``: designates upwards-pointing beads (away from the membrane center).\n",
    "\n",
    "- ``downbead``: designates downwards-pointing beads (towards the membrane center).\n",
    "\n",
    "If either ``upbead`` or ``downbead`` is given multiple times, then the mean position of the designated beads will be used. The syntax for using both subarguments is identical and is shown below:\n",
    "\n",
    "- no ``(up/down)bead`` subargument: assumes that lipid is already properly oriented.\n",
    "\n",
    "- ``(up/down)bead:[beadnr]:res:[resnr]``: specifies a bead in a specific residue.\n",
    "\n",
    "- ``(up/down)bead:[beadnr]``: specifies a bead. Only applicable for single-residue molecules.\n",
    "\n",
    "In addition, ``molecule_import`` can take a ``params`` subargument that defines a library where the lipid should be added. This is by default the ``default`` parameter library. In this example, the parameter library has been changed to ``params:IMPORTED``, as POPC is already present in the  ``default`` library.\n"
   ]
  },
  {
   "cell_type": "markdown",
   "metadata": {
    "hidden": true
   },
   "source": [
    "<div>\n",
    "<!-- height argument does not work in jupyter for whatever reason. Can't find any help online. -->\n",
    "<img src=\"figures/LipidImport.png\" width=\"400px\"/>\n",
    "</div>"
   ]
  },
  {
   "cell_type": "code",
   "execution_count": null,
   "metadata": {
    "ExecuteTime": {
     "start_time": "2024-07-12T08:38:55.147Z"
    },
    "hidden": true
   },
   "outputs": [],
   "source": [
    "sysname = \"LipidImport\"\n",
    "outdir = os.path.join(\"output_systems\", sysname)\n",
    "os.makedirs(outdir, exist_ok=True)\n",
    "\n",
    "test = COBY.COBY(\n",
    "    ### Designates box size\n",
    "    box = [10, 10, 11], # [nm]\n",
    "    \n",
    "    ### Inserts POPC membrane\n",
    "    ### params:IMPORTED designates that POPC should be taken from the \"IMPORTED\" parameter library\n",
    "    membrane = \"lipid:POPC:params:IMPORTED\",\n",
    "    \n",
    "    ### ### Alternative if one wishes to manually set charges\n",
    "#     membrane = \"lipid:POPC:params:IMPORTED:charge:lib\",\n",
    "    \n",
    "    ### Default flooding argument equalling \"solv:W pos:NA neg:CL\"\n",
    "    solvation = \"default\",\n",
    "    \n",
    "    ### Imports a lipid\n",
    "    molecule_import = \" \".join([\n",
    "        ### Lipid structure file\n",
    "        \"file:example_lipids/POPC_rotated.pdb\",\n",
    "        \n",
    "        ### Name of the lipid in the topology files\n",
    "        \"moleculetype:POPC\",\n",
    "        \n",
    "        ### ### Alternative if one wishes to manually set charges\n",
    "        ### Reference name used in \"membrane\" argument\n",
    "#         \"name:POPC\",\n",
    "        ### Bead charges\n",
    "#         \"charge:1:res:0:bead:0\",  # Positively charged NC3 bead\n",
    "#         \"charge:-1:res:0:bead:1\", # Negatively charged PO4 bead\n",
    "        \n",
    "        ### Designates that the lipid should be placed in the \"IMPORTED\" parameter library\n",
    "        \"params:IMPORTED\",\n",
    "        \n",
    "        ### ### Note for the below subarguments that indexing starts at 0\n",
    "        ### Sets bead 0 in residue 0 (NC3) to be an upwards pointing bead\n",
    "        \"upbead:0:res:0\",\n",
    "        \n",
    "        ### Sets bead 7 in residue 0 (C4A) to be a downwards pointing bead\n",
    "        \"downbead:7:res:0\",\n",
    "        \n",
    "        ### Sets bead 11 in residue 0 (C4B) to be a downwards pointing bead\n",
    "        \"downbead:11:res:0\",\n",
    "    ]),\n",
    "    \n",
    "    itp_input = \"file:toppar/top_for_COBY.itp\",\n",
    "    \n",
    "    out_sys = os.path.join(outdir, \"_\".join([\"output\", sysname])),\n",
    "    out_top = os.path.join(outdir, \"_\".join([\"topol\", sysname]) + \".top\"),\n",
    "    out_log = os.path.join(outdir, \"_\".join([\"log\", sysname]) + \".log\"),\n",
    "    \n",
    "    ### Designates the system name\n",
    "    sn = sysname,\n",
    ")\n"
   ]
  },
  {
   "cell_type": "markdown",
   "metadata": {
    "heading_collapsed": true,
    "jp-MarkdownHeadingCollapsed": true
   },
   "source": [
    "# Custom Unit Cell"
   ]
  },
  {
   "cell_type": "markdown",
   "metadata": {
    "hidden": true
   },
   "source": [
    "This example shows how to manually set the unit cell parameters for the box. Here a ``dodecahedron`` box type is created using the arguments ``pdb_unitcell`` / ``gro_unitcell``.\n",
    "\n",
    "Only one unitcell argument can be used within the same COBY command.\n",
    "\n",
    "Information regarding the formatting of the pdb \"unit cell\" values can be found here https://www.wwpdb.org/documentation/file-format-content/format33/sect8.html. \n",
    "\n",
    "A visual explanation of the meaning of the various values can be seen here https://en.wikipedia.org/wiki/Lattice_constant#/media/File:UnitCell.png.\n",
    "\n",
    "Information regarding the formatting of the gro \"unit cell\" values can be found here https://manual.gromacs.org/archive/5.0.3/online/gro.html.\n",
    "\n",
    "- Note that Gromacs requires that ``v1y = v1z = v2z = 0``. If a specified unit cell does not fulfill this requirement, then COBY will throw an error and inform you.\n"
   ]
  },
  {
   "cell_type": "markdown",
   "metadata": {
    "hidden": true
   },
   "source": [
    "<div>\n",
    "<!-- height argument does not work in jupyter for whatever reason. Can't find any help online. -->\n",
    "<img src=\"figures/CustomUnitCell.png\" width=\"400px\"/>\n",
    "</div>"
   ]
  },
  {
   "cell_type": "code",
   "execution_count": null,
   "metadata": {
    "ExecuteTime": {
     "start_time": "2024-07-12T08:38:55.150Z"
    },
    "hidden": true
   },
   "outputs": [],
   "source": [
    "sysname = \"CustomUnitCell\"\n",
    "outdir = os.path.join(\"output_systems\", sysname)\n",
    "os.makedirs(outdir, exist_ok=True)\n",
    "\n",
    "COBY.COBY(\n",
    "    ### PDB unitcell version (see https://www.wwpdb.org/documentation/file-format-content/format33/sect8.html for explanation)\n",
    "    ### pdb_unitcell = [x, y, z, alpha, beta, gamma],\n",
    "    pdb_unitcell = [15, 15, 15, 60, 60, 90],\n",
    "    ### GRO unitcell version (see https://manual.gromacs.org/archive/5.0.3/online/gro.html for explanation)\n",
    "    ### gro_unitcell = [v1x, v2y, v3z, v1y, v1z, v2x, v2z, v3x, v3y],\n",
    "#     gro_unitcell = [15, 15, 10.6066, 0, 0, 0, 0, 7.5, 7.5],\n",
    "    \n",
    "    ### Inserts protein\n",
    "    protein = \"file:example_proteins/8BB6_martinized.pdb moleculetypes:8BB6_CG\",\n",
    "    \n",
    "    ### Solvates the system using the default solvation settings of \"solv:W pos:NA neg:CL\"\n",
    "    solvation = \"default\",\n",
    "    \n",
    "    ### Uses topologies found in \"toppar/top_for_COBY.itp\" for charge determination\n",
    "    itp_input = [\n",
    "        \"file:toppar/top_for_COBY.itp\",\n",
    "        \"include:toppar/SugarTransporter/8BB6_martinized.itp\",\n",
    "    ],\n",
    "    \n",
    "    ### File writing\n",
    "    out_sys = os.path.join(outdir, \"_\".join([\"output\", sysname])),\n",
    "    out_top = os.path.join(outdir, \"_\".join([\"topol\",  sysname]) + \".top\"),\n",
    "    out_log = os.path.join(outdir, \"_\".join([\"log\",    sysname]) + \".log\"),\n",
    "    \n",
    "    ### Designates the system name that is written in .pdb, .gro and .top files\n",
    "    sn = sysname,\n",
    ")"
   ]
  },
  {
   "cell_type": "markdown",
   "metadata": {},
   "source": [
    "# COBY Logo"
   ]
  },
  {
   "cell_type": "markdown",
   "metadata": {},
   "source": [
    "This example shows how to create the COBY logo using ``hole`` and ``patch`` subarguments.\n",
    "\n",
    "The details of the exercise are left for the user to understand."
   ]
  },
  {
   "cell_type": "markdown",
   "metadata": {},
   "source": [
    "<div>\n",
    "<!-- height argument does not work in jupyter for whatever reason. Can't find any help online. -->\n",
    "<img src=\"figures/COBY_Logo.png\" width=\"800px\"/>\n",
    "</div>"
   ]
  },
  {
   "cell_type": "code",
   "execution_count": null,
   "metadata": {
    "ExecuteTime": {
     "start_time": "2024-07-12T08:38:55.154Z"
    },
    "scrolled": false
   },
   "outputs": [],
   "source": [
    "sysname = \"COBY_Logo\"\n",
    "outdir = os.path.join(\"output_systems\", sysname)\n",
    "os.makedirs(outdir, exist_ok=True)\n",
    "import math\n",
    "\n",
    "centers = [-30, -10, 10, 30]\n",
    "xlength = 20\n",
    "ylength = 30\n",
    "spacing = 2\n",
    "thickness = 4\n",
    "\n",
    "test = COBY.COBY(\n",
    "    ### Designates box size\n",
    "    box = [xlength*4, ylength, 10], # [nm]\n",
    "    \n",
    "    membrane = [\n",
    "\n",
    "        ### Letter spacers made of cholesterol\n",
    "        # \" \".join([\n",
    "        #     \"lipid:CHOL apl:0.6 optim:True gridsplits:False\",\n",
    "        #     \"cx:{cx} xlength:{xlength}\".format(cx=-40, xlength=spacing),\n",
    "        # ]),\n",
    "        # \" \".join([\n",
    "        #     \"lipid:CHOL apl:0.6 optim:True gridsplits:False\",\n",
    "        #     \"cx:{cx} xlength:{xlength}\".format(cx=-20, xlength=spacing),\n",
    "        # ]),\n",
    "        # \" \".join([\n",
    "        #     \"lipid:CHOL apl:0.6 optim:True gridsplits:False\",\n",
    "        #     \"cx:{cx} xlength:{xlength}\".format(cx=0, xlength=spacing),\n",
    "        # ]),\n",
    "        # \" \".join([\n",
    "        #     \"lipid:CHOL apl:0.6 optim:True gridsplits:False\",\n",
    "        #     \"cx:{cx} xlength:{xlength}\".format(cx=20, xlength=spacing),\n",
    "        # ]),\n",
    "        # \" \".join([\n",
    "        #     \"lipid:CHOL apl:0.6 optim:True gridsplits:False\",\n",
    "        #     \"cx:{cx} xlength:{xlength}\".format(cx=40, xlength=spacing),\n",
    "        # ]),\n",
    "        \n",
    "        ### ### ### C\n",
    "        \" \".join([\n",
    "            \"lipid:POPC\",\n",
    "            \"optim:True gridsplits:False\",\n",
    "            \"cx:{cx} xlength:{xlength}\".format(cx=centers[0], xlength=xlength-spacing),\n",
    "            \n",
    "            ### Part of circle and hole\n",
    "            \"patch:ellipse:cx:{cx}:cy:{cy}:xradius:{xradius}:yradius:{yradius}\".format(cx=3, cy=0, xradius=xlength/2+spacing, yradius=ylength/2),\n",
    "            \"hole:ellipse:cx:{cx}:cy:{cy}:xradius:{xradius}:yradius:{yradius}\".format(cx=3, cy=0, xradius=xlength/2+spacing-thickness, yradius=ylength/2-thickness),\n",
    "        ]),\n",
    "        \n",
    "        ### ### ### O\n",
    "        \" \".join([\n",
    "            \"lipid:POPC\",\n",
    "            \"optim:True gridsplits:False\",\n",
    "            \"cx:{cx} xlength:{xlength}\".format(cx=centers[1], xlength=xlength-spacing),\n",
    "            \n",
    "            ### Circle and hole\n",
    "            \"patch:ellipse:cx:{cx}:cy:{cy}:xradius:{xradius}:yradius:{yradius}\".format(cx=0, cy=0, xradius=xlength/2-spacing/2, yradius=ylength/2),\n",
    "            \"hole:ellipse:cx:{cx}:cy:{cy}:xradius:{xradius}:yradius:{yradius}\".format(cx=0, cy=0, xradius=xlength/2-spacing/2-thickness, yradius=ylength/2-thickness),\n",
    "        ]),\n",
    "        \n",
    "        ### ### ### B\n",
    "        ### Left vertical line\n",
    "        \" \".join([\n",
    "            \"lipid:POPC\",\n",
    "            \"optim:True gridsplits:False\",\n",
    "            \"cx:{cx} xlength:{xlength}\".format(cx=centers[2], xlength=xlength-spacing),\n",
    "            \n",
    "            ### +0.1 offset for cx to remove small gap between vertical line and bubbles\n",
    "            \"patch:rectangle:cx:{cx}:cy:{cy}:xlength:{xlength}:ylength:{ylength}\".format(cx=2-xlength/2+0.1, cy=0, xlength=thickness, ylength=ylength),\n",
    "        ]),\n",
    "        \n",
    "        ### Both bubbles\n",
    "        \" \".join([\n",
    "            \"lipid:POPC\",\n",
    "            \"optim:True gridsplits:False\",\n",
    "            \"cx:{cx} xlength:{xlength}\".format(cx=centers[2], xlength=xlength-spacing),\n",
    "            \n",
    "            ### Top bubble\n",
    "            \"patch:ellipse:cx:{cx}:cy:{cy}:xradius:{xradius}:yradius:{yradius}\".format(cx=thickness-xlength/2, cy=ylength/4 - thickness/4, xradius=xlength-thickness*1.5, yradius=ylength/4 + thickness/4),\n",
    "            \"hole:ellipse:cx:{cx}:cy:{cy}:xradius:{xradius}:yradius:{yradius}\".format(cx=thickness-xlength/2, cy=ylength/4 - thickness/4, xradius=xlength-thickness*2.5, yradius=ylength/4-thickness + thickness/4),\n",
    "            \n",
    "            ### Bottom bubble\n",
    "            \"patch:ellipse:cx:{cx}:cy:{cy}:xradius:{xradius}:yradius:{yradius}\".format(cx=thickness-xlength/2, cy=-ylength/4 + thickness/4, xradius=xlength-thickness*1.25, yradius=ylength/4 + thickness/4),\n",
    "            \"hole:ellipse:cx:{cx}:cy:{cy}:xradius:{xradius}:yradius:{yradius}\".format(cx=thickness-xlength/2, cy=-ylength/4 + thickness/4, xradius=xlength-thickness*2.25, yradius=ylength/4-thickness + thickness/4),\n",
    "\n",
    "            ### Removes parts covering left vertical line\n",
    "            \"hole:rectangle:cx:{cx}:cy:{cy}:xlength:{xlength}:ylength:{ylength}\".format(cx=thickness/2-xlength/2, cy=0, xlength=thickness, ylength=ylength),\n",
    "        ]),\n",
    "\n",
    "        ### ### ### Y\n",
    "        \" \".join([\n",
    "            \"lipid:POPC\",\n",
    "            \"optim:True gridsplits:False\",\n",
    "            \"cx:{cx} xlength:{xlength}\".format(cx=centers[3], xlength=xlength-spacing),\n",
    "            \n",
    "            ### Central line\n",
    "            \"patch:rectangle:cx:{cx}:cy:{cy}:xlength:{xlength}:ylength:{ylength}\".format(cx=0, cy=-ylength/4, xlength=thickness, ylength=ylength/2+thickness/2),\n",
    "            \n",
    "            ### Left angled line\n",
    "            \"patch:rectangle:cx:{cx}:cy:{cy}:xlength:{xlength}:ylength:{ylength}:rotate:{rotate}\".format(cx=-xlength/4, cy=ylength/4+thickness/2, xlength=thickness, ylength=20, rotate=30),\n",
    "            \n",
    "            ### Right angled line\n",
    "            \"patch:rectangle:cx:{cx}:cy:{cy}:xlength:{xlength}:ylength:{ylength}:rotate:{rotate}\".format(cx=xlength/4, cy=ylength/4+thickness/2, xlength=thickness, ylength=20, rotate=-30),\n",
    "        ]),\n",
    "    ],\n",
    "    \n",
    "    ### Solvates the system using the default solvation settings of \"solv:W pos:NA neg:CL\"\n",
    "    solvation = \"default\",\n",
    "    \n",
    "    ### Uses topologies found in \"toppar/top_for_COBY.itp\" for charge determination\n",
    "    itp_input = \"file:toppar/top_for_COBY.itp\",\n",
    "    \n",
    "    ### File writing\n",
    "    out_sys = os.path.join(outdir, \"_\".join([\"output\", sysname])),\n",
    "    out_top = os.path.join(outdir, \"_\".join([\"topol\",  sysname]) + \".top\"),\n",
    "    out_log = os.path.join(outdir, \"_\".join([\"log\",    sysname]) + \".log\"),\n",
    "    \n",
    "    ### Designates the system name that is written in .pdb, .gro and .top files\n",
    "    sn = sysname,\n",
    ")"
   ]
  }
 ],
 "metadata": {
  "hide_input": false,
  "kernelspec": {
   "display_name": "Python 3 (ipykernel)",
   "language": "python",
   "name": "python3"
  },
  "language_info": {
   "codemirror_mode": {
    "name": "ipython",
    "version": 3
   },
   "file_extension": ".py",
   "mimetype": "text/x-python",
   "name": "python",
   "nbconvert_exporter": "python",
   "pygments_lexer": "ipython3",
   "version": "3.12.3"
  },
  "toc": {
   "base_numbering": 1,
   "nav_menu": {},
   "number_sections": true,
   "sideBar": true,
   "skip_h1_title": false,
   "title_cell": "Table of Contents",
   "title_sidebar": "Contents",
   "toc_cell": false,
   "toc_position": {},
   "toc_section_display": true,
   "toc_window_display": false
  },
  "widgets": {
   "application/vnd.jupyter.widget-state+json": {
    "state": {},
    "version_major": 2,
    "version_minor": 0
   }
  }
 },
 "nbformat": 4,
 "nbformat_minor": 4
}
